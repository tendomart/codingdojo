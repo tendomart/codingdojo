{
  "nbformat": 4,
  "nbformat_minor": 0,
  "metadata": {
    "colab": {
      "provenance": [],
      "collapsed_sections": [],
      "include_colab_link": true
    },
    "kernelspec": {
      "name": "python3",
      "display_name": "Python 3"
    },
    "language_info": {
      "name": "python"
    }
  },
  "cells": [
    {
      "cell_type": "markdown",
      "metadata": {
        "id": "view-in-github",
        "colab_type": "text"
      },
      "source": [
        "<a href=\"https://colab.research.google.com/github/tendomart/codingdojo/blob/main/Core_Project2.ipynb\" target=\"_parent\"><img src=\"https://colab.research.google.com/assets/colab-badge.svg\" alt=\"Open In Colab\"/></a>"
      ]
    },
    {
      "cell_type": "markdown",
      "source": [
        "Dataset 1:\n",
        "\n",
        "DATASET SOURCE : \n",
        "https://catalog.data.gov/dataset/alcohol-related-disease-impact-ardi-application-alcohol-attributable-fractions"
      ],
      "metadata": {
        "id": "nUKrFRRaws2d"
      }
    },
    {
      "cell_type": "markdown",
      "source": [
        "2) Brief description of the data\n",
        "\n",
        " Alcohol-Related Disease Impact (ARDI) Application - Alcohol-Attributable Fractions\n",
        "\n",
        "\n",
        "ARDI is an online application that provides national and state estimates of alcohol-related health impacts, including deaths and years of potential life lost (YPLL). These estimates are calculated for 58 acute and chronic causes using alcohol-attributable fractions, and are reported by age and sex for 2015-2019. This dataset provides estimates of the proportion of deaths from various causes that are attributable to alcohol.\n",
        "\n",
        "\n"
      ],
      "metadata": {
        "id": "PGd-rI7G3mku"
      }
    },
    {
      "cell_type": "code",
      "execution_count": null,
      "metadata": {
        "id": "51AVCRN4jt3s"
      },
      "outputs": [],
      "source": [
        "# import libraries\n",
        "import pandas as pd\n",
        "import numpy as np"
      ]
    },
    {
      "cell_type": "code",
      "source": [
        "#import dataset\n",
        "\n",
        "\n",
        "df = pd.read_csv('/content/sample_data/Alcohol_Related_Disease_Impact.csv')\n",
        "# https://catalog.data.gov/dataset/national-health-and-nutrition-examination-survey-nhanes-national-cardiovascular-disease-su-00a88\n",
        "df.head()"
      ],
      "metadata": {
        "colab": {
          "base_uri": "https://localhost:8080/",
          "height": 491
        },
        "id": "Okms36W1kOQf",
        "outputId": "486b9c50-a8d1-4801-99c3-879574506bf3"
      },
      "execution_count": null,
      "outputs": [
        {
          "output_type": "execute_result",
          "data": {
            "text/plain": [
              "  Associated_AAD_YPLL_Years  LocationAbbr   LocationDesc DataSource  \\\n",
              "0                  2015-2019           US  United States       ARDI   \n",
              "1                  2015-2019           US  United States       ARDI   \n",
              "2                  2015-2019           US  United States       ARDI   \n",
              "3                  2015-2019           US  United States       ARDI   \n",
              "4                  2015-2019           US  United States       ARDI   \n",
              "\n",
              "                  Data_Value_Unit ConditionType  \\\n",
              "0  Alcohol-Attributable Fractions         Acute   \n",
              "1  Alcohol-Attributable Fractions         Acute   \n",
              "2  Alcohol-Attributable Fractions         Acute   \n",
              "3  Alcohol-Attributable Fractions         Acute   \n",
              "4  Alcohol-Attributable Fractions         Acute   \n",
              "\n",
              "                        Category                 Cause_of_Death  Direct_AAF  \\\n",
              "0     Alcohol-Related Poisonings              Alcohol poisoning        1.00   \n",
              "1     Alcohol-Related Poisonings              Alcohol poisoning        1.00   \n",
              "2     Alcohol-Related Poisonings        Poisoning (not alcohol)        0.29   \n",
              "3     Alcohol-Related Poisonings        Poisoning (not alcohol)        0.29   \n",
              "4  Motor Vehicle Traffic Crashes  Motor vehicle traffic crashes        0.13   \n",
              "\n",
              "   Direct_AAF_Alt  ...     Sex  AgeGroup LocationID  ConditionTypeID  \\\n",
              "0            1.00  ...  Female   Overall         99            ACUTE   \n",
              "1            1.00  ...    Male   Overall         99            ACUTE   \n",
              "2            0.29  ...  Female   Overall         99            ACUTE   \n",
              "3            0.29  ...    Male   Overall         99            ACUTE   \n",
              "4            0.13  ...  Female       65+         99            ACUTE   \n",
              "\n",
              "  CategoryID  Cause_of_Death_ID ConsumptionID SexID AgeGroupID DataValueUnitID  \n",
              "0       CAT6             ALCPOI        EXCSVE  GENF       Age0       5YEARSAVG  \n",
              "1       CAT6             ALCPOI        EXCSVE  GENM       Age0       5YEARSAVG  \n",
              "2       CAT6             OTHPOI        EXCSVE  GENF       Age0       5YEARSAVG  \n",
              "3       CAT6             OTHPOI        EXCSVE  GENM       Age0       5YEARSAVG  \n",
              "4       CAT7             MTVTRA        EXCSVE  GENF       AgeO       5YEARSAVG  \n",
              "\n",
              "[5 rows x 29 columns]"
            ],
            "text/html": [
              "\n",
              "  <div id=\"df-8c9d754a-3897-4d5e-a77f-82e0df1b2cdc\">\n",
              "    <div class=\"colab-df-container\">\n",
              "      <div>\n",
              "<style scoped>\n",
              "    .dataframe tbody tr th:only-of-type {\n",
              "        vertical-align: middle;\n",
              "    }\n",
              "\n",
              "    .dataframe tbody tr th {\n",
              "        vertical-align: top;\n",
              "    }\n",
              "\n",
              "    .dataframe thead th {\n",
              "        text-align: right;\n",
              "    }\n",
              "</style>\n",
              "<table border=\"1\" class=\"dataframe\">\n",
              "  <thead>\n",
              "    <tr style=\"text-align: right;\">\n",
              "      <th></th>\n",
              "      <th>Associated_AAD_YPLL_Years</th>\n",
              "      <th>LocationAbbr</th>\n",
              "      <th>LocationDesc</th>\n",
              "      <th>DataSource</th>\n",
              "      <th>Data_Value_Unit</th>\n",
              "      <th>ConditionType</th>\n",
              "      <th>Category</th>\n",
              "      <th>Cause_of_Death</th>\n",
              "      <th>Direct_AAF</th>\n",
              "      <th>Direct_AAF_Alt</th>\n",
              "      <th>...</th>\n",
              "      <th>Sex</th>\n",
              "      <th>AgeGroup</th>\n",
              "      <th>LocationID</th>\n",
              "      <th>ConditionTypeID</th>\n",
              "      <th>CategoryID</th>\n",
              "      <th>Cause_of_Death_ID</th>\n",
              "      <th>ConsumptionID</th>\n",
              "      <th>SexID</th>\n",
              "      <th>AgeGroupID</th>\n",
              "      <th>DataValueUnitID</th>\n",
              "    </tr>\n",
              "  </thead>\n",
              "  <tbody>\n",
              "    <tr>\n",
              "      <th>0</th>\n",
              "      <td>2015-2019</td>\n",
              "      <td>US</td>\n",
              "      <td>United States</td>\n",
              "      <td>ARDI</td>\n",
              "      <td>Alcohol-Attributable Fractions</td>\n",
              "      <td>Acute</td>\n",
              "      <td>Alcohol-Related Poisonings</td>\n",
              "      <td>Alcohol poisoning</td>\n",
              "      <td>1.00</td>\n",
              "      <td>1.00</td>\n",
              "      <td>...</td>\n",
              "      <td>Female</td>\n",
              "      <td>Overall</td>\n",
              "      <td>99</td>\n",
              "      <td>ACUTE</td>\n",
              "      <td>CAT6</td>\n",
              "      <td>ALCPOI</td>\n",
              "      <td>EXCSVE</td>\n",
              "      <td>GENF</td>\n",
              "      <td>Age0</td>\n",
              "      <td>5YEARSAVG</td>\n",
              "    </tr>\n",
              "    <tr>\n",
              "      <th>1</th>\n",
              "      <td>2015-2019</td>\n",
              "      <td>US</td>\n",
              "      <td>United States</td>\n",
              "      <td>ARDI</td>\n",
              "      <td>Alcohol-Attributable Fractions</td>\n",
              "      <td>Acute</td>\n",
              "      <td>Alcohol-Related Poisonings</td>\n",
              "      <td>Alcohol poisoning</td>\n",
              "      <td>1.00</td>\n",
              "      <td>1.00</td>\n",
              "      <td>...</td>\n",
              "      <td>Male</td>\n",
              "      <td>Overall</td>\n",
              "      <td>99</td>\n",
              "      <td>ACUTE</td>\n",
              "      <td>CAT6</td>\n",
              "      <td>ALCPOI</td>\n",
              "      <td>EXCSVE</td>\n",
              "      <td>GENM</td>\n",
              "      <td>Age0</td>\n",
              "      <td>5YEARSAVG</td>\n",
              "    </tr>\n",
              "    <tr>\n",
              "      <th>2</th>\n",
              "      <td>2015-2019</td>\n",
              "      <td>US</td>\n",
              "      <td>United States</td>\n",
              "      <td>ARDI</td>\n",
              "      <td>Alcohol-Attributable Fractions</td>\n",
              "      <td>Acute</td>\n",
              "      <td>Alcohol-Related Poisonings</td>\n",
              "      <td>Poisoning (not alcohol)</td>\n",
              "      <td>0.29</td>\n",
              "      <td>0.29</td>\n",
              "      <td>...</td>\n",
              "      <td>Female</td>\n",
              "      <td>Overall</td>\n",
              "      <td>99</td>\n",
              "      <td>ACUTE</td>\n",
              "      <td>CAT6</td>\n",
              "      <td>OTHPOI</td>\n",
              "      <td>EXCSVE</td>\n",
              "      <td>GENF</td>\n",
              "      <td>Age0</td>\n",
              "      <td>5YEARSAVG</td>\n",
              "    </tr>\n",
              "    <tr>\n",
              "      <th>3</th>\n",
              "      <td>2015-2019</td>\n",
              "      <td>US</td>\n",
              "      <td>United States</td>\n",
              "      <td>ARDI</td>\n",
              "      <td>Alcohol-Attributable Fractions</td>\n",
              "      <td>Acute</td>\n",
              "      <td>Alcohol-Related Poisonings</td>\n",
              "      <td>Poisoning (not alcohol)</td>\n",
              "      <td>0.29</td>\n",
              "      <td>0.29</td>\n",
              "      <td>...</td>\n",
              "      <td>Male</td>\n",
              "      <td>Overall</td>\n",
              "      <td>99</td>\n",
              "      <td>ACUTE</td>\n",
              "      <td>CAT6</td>\n",
              "      <td>OTHPOI</td>\n",
              "      <td>EXCSVE</td>\n",
              "      <td>GENM</td>\n",
              "      <td>Age0</td>\n",
              "      <td>5YEARSAVG</td>\n",
              "    </tr>\n",
              "    <tr>\n",
              "      <th>4</th>\n",
              "      <td>2015-2019</td>\n",
              "      <td>US</td>\n",
              "      <td>United States</td>\n",
              "      <td>ARDI</td>\n",
              "      <td>Alcohol-Attributable Fractions</td>\n",
              "      <td>Acute</td>\n",
              "      <td>Motor Vehicle Traffic Crashes</td>\n",
              "      <td>Motor vehicle traffic crashes</td>\n",
              "      <td>0.13</td>\n",
              "      <td>0.13</td>\n",
              "      <td>...</td>\n",
              "      <td>Female</td>\n",
              "      <td>65+</td>\n",
              "      <td>99</td>\n",
              "      <td>ACUTE</td>\n",
              "      <td>CAT7</td>\n",
              "      <td>MTVTRA</td>\n",
              "      <td>EXCSVE</td>\n",
              "      <td>GENF</td>\n",
              "      <td>AgeO</td>\n",
              "      <td>5YEARSAVG</td>\n",
              "    </tr>\n",
              "  </tbody>\n",
              "</table>\n",
              "<p>5 rows × 29 columns</p>\n",
              "</div>\n",
              "      <button class=\"colab-df-convert\" onclick=\"convertToInteractive('df-8c9d754a-3897-4d5e-a77f-82e0df1b2cdc')\"\n",
              "              title=\"Convert this dataframe to an interactive table.\"\n",
              "              style=\"display:none;\">\n",
              "        \n",
              "  <svg xmlns=\"http://www.w3.org/2000/svg\" height=\"24px\"viewBox=\"0 0 24 24\"\n",
              "       width=\"24px\">\n",
              "    <path d=\"M0 0h24v24H0V0z\" fill=\"none\"/>\n",
              "    <path d=\"M18.56 5.44l.94 2.06.94-2.06 2.06-.94-2.06-.94-.94-2.06-.94 2.06-2.06.94zm-11 1L8.5 8.5l.94-2.06 2.06-.94-2.06-.94L8.5 2.5l-.94 2.06-2.06.94zm10 10l.94 2.06.94-2.06 2.06-.94-2.06-.94-.94-2.06-.94 2.06-2.06.94z\"/><path d=\"M17.41 7.96l-1.37-1.37c-.4-.4-.92-.59-1.43-.59-.52 0-1.04.2-1.43.59L10.3 9.45l-7.72 7.72c-.78.78-.78 2.05 0 2.83L4 21.41c.39.39.9.59 1.41.59.51 0 1.02-.2 1.41-.59l7.78-7.78 2.81-2.81c.8-.78.8-2.07 0-2.86zM5.41 20L4 18.59l7.72-7.72 1.47 1.35L5.41 20z\"/>\n",
              "  </svg>\n",
              "      </button>\n",
              "      \n",
              "  <style>\n",
              "    .colab-df-container {\n",
              "      display:flex;\n",
              "      flex-wrap:wrap;\n",
              "      gap: 12px;\n",
              "    }\n",
              "\n",
              "    .colab-df-convert {\n",
              "      background-color: #E8F0FE;\n",
              "      border: none;\n",
              "      border-radius: 50%;\n",
              "      cursor: pointer;\n",
              "      display: none;\n",
              "      fill: #1967D2;\n",
              "      height: 32px;\n",
              "      padding: 0 0 0 0;\n",
              "      width: 32px;\n",
              "    }\n",
              "\n",
              "    .colab-df-convert:hover {\n",
              "      background-color: #E2EBFA;\n",
              "      box-shadow: 0px 1px 2px rgba(60, 64, 67, 0.3), 0px 1px 3px 1px rgba(60, 64, 67, 0.15);\n",
              "      fill: #174EA6;\n",
              "    }\n",
              "\n",
              "    [theme=dark] .colab-df-convert {\n",
              "      background-color: #3B4455;\n",
              "      fill: #D2E3FC;\n",
              "    }\n",
              "\n",
              "    [theme=dark] .colab-df-convert:hover {\n",
              "      background-color: #434B5C;\n",
              "      box-shadow: 0px 1px 3px 1px rgba(0, 0, 0, 0.15);\n",
              "      filter: drop-shadow(0px 1px 2px rgba(0, 0, 0, 0.3));\n",
              "      fill: #FFFFFF;\n",
              "    }\n",
              "  </style>\n",
              "\n",
              "      <script>\n",
              "        const buttonEl =\n",
              "          document.querySelector('#df-8c9d754a-3897-4d5e-a77f-82e0df1b2cdc button.colab-df-convert');\n",
              "        buttonEl.style.display =\n",
              "          google.colab.kernel.accessAllowed ? 'block' : 'none';\n",
              "\n",
              "        async function convertToInteractive(key) {\n",
              "          const element = document.querySelector('#df-8c9d754a-3897-4d5e-a77f-82e0df1b2cdc');\n",
              "          const dataTable =\n",
              "            await google.colab.kernel.invokeFunction('convertToInteractive',\n",
              "                                                     [key], {});\n",
              "          if (!dataTable) return;\n",
              "\n",
              "          const docLinkHtml = 'Like what you see? Visit the ' +\n",
              "            '<a target=\"_blank\" href=https://colab.research.google.com/notebooks/data_table.ipynb>data table notebook</a>'\n",
              "            + ' to learn more about interactive tables.';\n",
              "          element.innerHTML = '';\n",
              "          dataTable['output_type'] = 'display_data';\n",
              "          await google.colab.output.renderOutput(dataTable, element);\n",
              "          const docLink = document.createElement('div');\n",
              "          docLink.innerHTML = docLinkHtml;\n",
              "          element.appendChild(docLink);\n",
              "        }\n",
              "      </script>\n",
              "    </div>\n",
              "  </div>\n",
              "  "
            ]
          },
          "metadata": {},
          "execution_count": 43
        }
      ]
    },
    {
      "cell_type": "code",
      "source": [
        "df.shape"
      ],
      "metadata": {
        "colab": {
          "base_uri": "https://localhost:8080/"
        },
        "id": "VaDJXz5xkg1L",
        "outputId": "91d5ff9f-53d8-4265-b5fc-357b7534ab89"
      },
      "execution_count": null,
      "outputs": [
        {
          "output_type": "execute_result",
          "data": {
            "text/plain": [
              "(13728, 29)"
            ]
          },
          "metadata": {},
          "execution_count": 44
        }
      ]
    },
    {
      "cell_type": "code",
      "source": [
        "df.describe() "
      ],
      "metadata": {
        "colab": {
          "base_uri": "https://localhost:8080/",
          "height": 300
        },
        "id": "cktZaJxbw7hu",
        "outputId": "895eb2af-e6c3-4b6c-9ae5-0510fe9aa261"
      },
      "execution_count": null,
      "outputs": [
        {
          "output_type": "execute_result",
          "data": {
            "text/plain": [
              "        Direct_AAF  Direct_AAF_Alt  Indirect_AAF_Low_Alt  \\\n",
              "count  8736.000000     8736.000000           2392.000000   \n",
              "mean      0.562058        0.562058              0.018123   \n",
              "std       0.349268        0.349268              0.047639   \n",
              "min       0.000000        0.000000             -0.160000   \n",
              "25%       0.230000        0.230000              0.000000   \n",
              "50%       0.420000        0.420000              0.010000   \n",
              "75%       1.000000        1.000000              0.050000   \n",
              "max       1.000000        1.000000              0.160000   \n",
              "\n",
              "       Indirect_AAF_Medium_Alt  Indirect_AAF_High_Alt    LocationID  \n",
              "count              4784.000000            4784.000000  13728.000000  \n",
              "mean                  0.018286               0.052962     30.307692  \n",
              "std                   0.021777               0.061780     18.264268  \n",
              "min                  -0.050000              -0.080000      1.000000  \n",
              "25%                   0.000000               0.020000     16.750000  \n",
              "50%                   0.010000               0.030000     29.500000  \n",
              "75%                   0.030000               0.070000     42.500000  \n",
              "max                   0.140000               0.350000     99.000000  "
            ],
            "text/html": [
              "\n",
              "  <div id=\"df-a4845586-1d1d-47d0-a67e-10fc8f2caa48\">\n",
              "    <div class=\"colab-df-container\">\n",
              "      <div>\n",
              "<style scoped>\n",
              "    .dataframe tbody tr th:only-of-type {\n",
              "        vertical-align: middle;\n",
              "    }\n",
              "\n",
              "    .dataframe tbody tr th {\n",
              "        vertical-align: top;\n",
              "    }\n",
              "\n",
              "    .dataframe thead th {\n",
              "        text-align: right;\n",
              "    }\n",
              "</style>\n",
              "<table border=\"1\" class=\"dataframe\">\n",
              "  <thead>\n",
              "    <tr style=\"text-align: right;\">\n",
              "      <th></th>\n",
              "      <th>Direct_AAF</th>\n",
              "      <th>Direct_AAF_Alt</th>\n",
              "      <th>Indirect_AAF_Low_Alt</th>\n",
              "      <th>Indirect_AAF_Medium_Alt</th>\n",
              "      <th>Indirect_AAF_High_Alt</th>\n",
              "      <th>LocationID</th>\n",
              "    </tr>\n",
              "  </thead>\n",
              "  <tbody>\n",
              "    <tr>\n",
              "      <th>count</th>\n",
              "      <td>8736.000000</td>\n",
              "      <td>8736.000000</td>\n",
              "      <td>2392.000000</td>\n",
              "      <td>4784.000000</td>\n",
              "      <td>4784.000000</td>\n",
              "      <td>13728.000000</td>\n",
              "    </tr>\n",
              "    <tr>\n",
              "      <th>mean</th>\n",
              "      <td>0.562058</td>\n",
              "      <td>0.562058</td>\n",
              "      <td>0.018123</td>\n",
              "      <td>0.018286</td>\n",
              "      <td>0.052962</td>\n",
              "      <td>30.307692</td>\n",
              "    </tr>\n",
              "    <tr>\n",
              "      <th>std</th>\n",
              "      <td>0.349268</td>\n",
              "      <td>0.349268</td>\n",
              "      <td>0.047639</td>\n",
              "      <td>0.021777</td>\n",
              "      <td>0.061780</td>\n",
              "      <td>18.264268</td>\n",
              "    </tr>\n",
              "    <tr>\n",
              "      <th>min</th>\n",
              "      <td>0.000000</td>\n",
              "      <td>0.000000</td>\n",
              "      <td>-0.160000</td>\n",
              "      <td>-0.050000</td>\n",
              "      <td>-0.080000</td>\n",
              "      <td>1.000000</td>\n",
              "    </tr>\n",
              "    <tr>\n",
              "      <th>25%</th>\n",
              "      <td>0.230000</td>\n",
              "      <td>0.230000</td>\n",
              "      <td>0.000000</td>\n",
              "      <td>0.000000</td>\n",
              "      <td>0.020000</td>\n",
              "      <td>16.750000</td>\n",
              "    </tr>\n",
              "    <tr>\n",
              "      <th>50%</th>\n",
              "      <td>0.420000</td>\n",
              "      <td>0.420000</td>\n",
              "      <td>0.010000</td>\n",
              "      <td>0.010000</td>\n",
              "      <td>0.030000</td>\n",
              "      <td>29.500000</td>\n",
              "    </tr>\n",
              "    <tr>\n",
              "      <th>75%</th>\n",
              "      <td>1.000000</td>\n",
              "      <td>1.000000</td>\n",
              "      <td>0.050000</td>\n",
              "      <td>0.030000</td>\n",
              "      <td>0.070000</td>\n",
              "      <td>42.500000</td>\n",
              "    </tr>\n",
              "    <tr>\n",
              "      <th>max</th>\n",
              "      <td>1.000000</td>\n",
              "      <td>1.000000</td>\n",
              "      <td>0.160000</td>\n",
              "      <td>0.140000</td>\n",
              "      <td>0.350000</td>\n",
              "      <td>99.000000</td>\n",
              "    </tr>\n",
              "  </tbody>\n",
              "</table>\n",
              "</div>\n",
              "      <button class=\"colab-df-convert\" onclick=\"convertToInteractive('df-a4845586-1d1d-47d0-a67e-10fc8f2caa48')\"\n",
              "              title=\"Convert this dataframe to an interactive table.\"\n",
              "              style=\"display:none;\">\n",
              "        \n",
              "  <svg xmlns=\"http://www.w3.org/2000/svg\" height=\"24px\"viewBox=\"0 0 24 24\"\n",
              "       width=\"24px\">\n",
              "    <path d=\"M0 0h24v24H0V0z\" fill=\"none\"/>\n",
              "    <path d=\"M18.56 5.44l.94 2.06.94-2.06 2.06-.94-2.06-.94-.94-2.06-.94 2.06-2.06.94zm-11 1L8.5 8.5l.94-2.06 2.06-.94-2.06-.94L8.5 2.5l-.94 2.06-2.06.94zm10 10l.94 2.06.94-2.06 2.06-.94-2.06-.94-.94-2.06-.94 2.06-2.06.94z\"/><path d=\"M17.41 7.96l-1.37-1.37c-.4-.4-.92-.59-1.43-.59-.52 0-1.04.2-1.43.59L10.3 9.45l-7.72 7.72c-.78.78-.78 2.05 0 2.83L4 21.41c.39.39.9.59 1.41.59.51 0 1.02-.2 1.41-.59l7.78-7.78 2.81-2.81c.8-.78.8-2.07 0-2.86zM5.41 20L4 18.59l7.72-7.72 1.47 1.35L5.41 20z\"/>\n",
              "  </svg>\n",
              "      </button>\n",
              "      \n",
              "  <style>\n",
              "    .colab-df-container {\n",
              "      display:flex;\n",
              "      flex-wrap:wrap;\n",
              "      gap: 12px;\n",
              "    }\n",
              "\n",
              "    .colab-df-convert {\n",
              "      background-color: #E8F0FE;\n",
              "      border: none;\n",
              "      border-radius: 50%;\n",
              "      cursor: pointer;\n",
              "      display: none;\n",
              "      fill: #1967D2;\n",
              "      height: 32px;\n",
              "      padding: 0 0 0 0;\n",
              "      width: 32px;\n",
              "    }\n",
              "\n",
              "    .colab-df-convert:hover {\n",
              "      background-color: #E2EBFA;\n",
              "      box-shadow: 0px 1px 2px rgba(60, 64, 67, 0.3), 0px 1px 3px 1px rgba(60, 64, 67, 0.15);\n",
              "      fill: #174EA6;\n",
              "    }\n",
              "\n",
              "    [theme=dark] .colab-df-convert {\n",
              "      background-color: #3B4455;\n",
              "      fill: #D2E3FC;\n",
              "    }\n",
              "\n",
              "    [theme=dark] .colab-df-convert:hover {\n",
              "      background-color: #434B5C;\n",
              "      box-shadow: 0px 1px 3px 1px rgba(0, 0, 0, 0.15);\n",
              "      filter: drop-shadow(0px 1px 2px rgba(0, 0, 0, 0.3));\n",
              "      fill: #FFFFFF;\n",
              "    }\n",
              "  </style>\n",
              "\n",
              "      <script>\n",
              "        const buttonEl =\n",
              "          document.querySelector('#df-a4845586-1d1d-47d0-a67e-10fc8f2caa48 button.colab-df-convert');\n",
              "        buttonEl.style.display =\n",
              "          google.colab.kernel.accessAllowed ? 'block' : 'none';\n",
              "\n",
              "        async function convertToInteractive(key) {\n",
              "          const element = document.querySelector('#df-a4845586-1d1d-47d0-a67e-10fc8f2caa48');\n",
              "          const dataTable =\n",
              "            await google.colab.kernel.invokeFunction('convertToInteractive',\n",
              "                                                     [key], {});\n",
              "          if (!dataTable) return;\n",
              "\n",
              "          const docLinkHtml = 'Like what you see? Visit the ' +\n",
              "            '<a target=\"_blank\" href=https://colab.research.google.com/notebooks/data_table.ipynb>data table notebook</a>'\n",
              "            + ' to learn more about interactive tables.';\n",
              "          element.innerHTML = '';\n",
              "          dataTable['output_type'] = 'display_data';\n",
              "          await google.colab.output.renderOutput(dataTable, element);\n",
              "          const docLink = document.createElement('div');\n",
              "          docLink.innerHTML = docLinkHtml;\n",
              "          element.appendChild(docLink);\n",
              "        }\n",
              "      </script>\n",
              "    </div>\n",
              "  </div>\n",
              "  "
            ]
          },
          "metadata": {},
          "execution_count": 45
        }
      ]
    },
    {
      "cell_type": "code",
      "source": [
        "# What is the target?\n",
        "# The target is Cause_of_Death\n"
      ],
      "metadata": {
        "id": "FdV41gH6dsWV"
      },
      "execution_count": null,
      "outputs": []
    },
    {
      "cell_type": "code",
      "source": [
        "# 4) Is this a classification or regression problem?\n",
        "# This is a Classification problem (Using Nominal categorical features)\n",
        "df.isna().sum()"
      ],
      "metadata": {
        "colab": {
          "base_uri": "https://localhost:8080/"
        },
        "id": "uGeVNDWzeosU",
        "outputId": "a3f9c504-9979-4460-e8aa-4a28a91ac9e3"
      },
      "execution_count": null,
      "outputs": [
        {
          "output_type": "execute_result",
          "data": {
            "text/plain": [
              "Associated_AAD_YPLL_Years         0\n",
              "LocationAbbr                      0\n",
              "LocationDesc                      0\n",
              "DataSource                        0\n",
              "Data_Value_Unit                   0\n",
              "ConditionType                     0\n",
              "Category                          0\n",
              "Cause_of_Death                    0\n",
              "Direct_AAF                     4992\n",
              "Direct_AAF_Alt                 4992\n",
              "Indirect_AAF_Low              11128\n",
              "Indirect_AAF_Low_Alt          11336\n",
              "Indirect_AAF_Medium            8736\n",
              "Indirect_AAF_Medium_Alt        8944\n",
              "Indirect_AAF_High              8736\n",
              "Indirect_AAF_High_Alt          8944\n",
              "Data_Value_Footnote_Symbol    12272\n",
              "Data_Value_Footnote           12272\n",
              "ConsumptionPattern                0\n",
              "Sex                               0\n",
              "AgeGroup                          0\n",
              "LocationID                        0\n",
              "ConditionTypeID                   0\n",
              "CategoryID                        0\n",
              "Cause_of_Death_ID                 0\n",
              "ConsumptionID                     0\n",
              "SexID                             0\n",
              "AgeGroupID                        0\n",
              "DataValueUnitID                   0\n",
              "dtype: int64"
            ]
          },
          "metadata": {},
          "execution_count": 46
        }
      ]
    },
    {
      "cell_type": "code",
      "source": [
        "# 5) How many features?\n",
        "df.shape\n",
        "\n",
        "# There are 28 features"
      ],
      "metadata": {
        "colab": {
          "base_uri": "https://localhost:8080/"
        },
        "id": "jXQ9zHjjfRgP",
        "outputId": "8c49c66b-8d7c-4272-d113-120bee8a04f1"
      },
      "execution_count": null,
      "outputs": [
        {
          "output_type": "execute_result",
          "data": {
            "text/plain": [
              "(13728, 29)"
            ]
          },
          "metadata": {},
          "execution_count": 47
        }
      ]
    },
    {
      "cell_type": "code",
      "source": [
        "# 6) How many rows of data.\n",
        "\n",
        "# There are 13728 rows"
      ],
      "metadata": {
        "id": "m4xEQXvCgjlC"
      },
      "execution_count": null,
      "outputs": []
    },
    {
      "cell_type": "code",
      "source": [
        "#  7) What, if any, challenges do your foresee in cleaning, exploring, or modeling with this dataset?\n",
        "\n",
        "df.isnull().sum()\n",
        "# I foresee less accurate predictions in model predictions due to many some alot of missing data"
      ],
      "metadata": {
        "colab": {
          "base_uri": "https://localhost:8080/"
        },
        "id": "c1biX_jSgu9X",
        "outputId": "2f016690-d35f-43c9-8f6e-9a2fc3a1d703"
      },
      "execution_count": null,
      "outputs": [
        {
          "output_type": "execute_result",
          "data": {
            "text/plain": [
              "Associated_AAD_YPLL_Years         0\n",
              "LocationAbbr                      0\n",
              "LocationDesc                      0\n",
              "DataSource                        0\n",
              "Data_Value_Unit                   0\n",
              "ConditionType                     0\n",
              "Category                          0\n",
              "Cause_of_Death                    0\n",
              "Direct_AAF                     4992\n",
              "Direct_AAF_Alt                 4992\n",
              "Indirect_AAF_Low              11128\n",
              "Indirect_AAF_Low_Alt          11336\n",
              "Indirect_AAF_Medium            8736\n",
              "Indirect_AAF_Medium_Alt        8944\n",
              "Indirect_AAF_High              8736\n",
              "Indirect_AAF_High_Alt          8944\n",
              "Data_Value_Footnote_Symbol    12272\n",
              "Data_Value_Footnote           12272\n",
              "ConsumptionPattern                0\n",
              "Sex                               0\n",
              "AgeGroup                          0\n",
              "LocationID                        0\n",
              "ConditionTypeID                   0\n",
              "CategoryID                        0\n",
              "Cause_of_Death_ID                 0\n",
              "ConsumptionID                     0\n",
              "SexID                             0\n",
              "AgeGroupID                        0\n",
              "DataValueUnitID                   0\n",
              "dtype: int64"
            ]
          },
          "metadata": {},
          "execution_count": 48
        }
      ]
    },
    {
      "cell_type": "code",
      "source": [
        "df.dtypes"
      ],
      "metadata": {
        "colab": {
          "base_uri": "https://localhost:8080/"
        },
        "id": "zOA4ygSGhbqv",
        "outputId": "3a16323c-c5f8-4923-fba0-26b385ba5aec"
      },
      "execution_count": null,
      "outputs": [
        {
          "output_type": "execute_result",
          "data": {
            "text/plain": [
              "Associated_AAD_YPLL_Years      object\n",
              "LocationAbbr                   object\n",
              "LocationDesc                   object\n",
              "DataSource                     object\n",
              "Data_Value_Unit                object\n",
              "ConditionType                  object\n",
              "Category                       object\n",
              "Cause_of_Death                 object\n",
              "Direct_AAF                    float64\n",
              "Direct_AAF_Alt                float64\n",
              "Indirect_AAF_Low               object\n",
              "Indirect_AAF_Low_Alt          float64\n",
              "Indirect_AAF_Medium            object\n",
              "Indirect_AAF_Medium_Alt       float64\n",
              "Indirect_AAF_High              object\n",
              "Indirect_AAF_High_Alt         float64\n",
              "Data_Value_Footnote_Symbol     object\n",
              "Data_Value_Footnote            object\n",
              "ConsumptionPattern             object\n",
              "Sex                            object\n",
              "AgeGroup                       object\n",
              "LocationID                      int64\n",
              "ConditionTypeID                object\n",
              "CategoryID                     object\n",
              "Cause_of_Death_ID              object\n",
              "ConsumptionID                  object\n",
              "SexID                          object\n",
              "AgeGroupID                     object\n",
              "DataValueUnitID                object\n",
              "dtype: object"
            ]
          },
          "metadata": {},
          "execution_count": 49
        }
      ]
    },
    {
      "cell_type": "markdown",
      "source": [
        "Dataset 2:\n",
        "\n",
        "DATASET SOURCE: https://archive.ics.uci.edu/ml/datasets/Power+consumption+of+Tetouan+city\n",
        "\n",
        "\n",
        "DATA DESCRIPTION : **Abstract**: This dataset is related to power consumption of three different distribution networks of Tetouan city which is located in north Morocco.\n",
        "\t"
      ],
      "metadata": {
        "id": "-t87tE8hiUr5"
      }
    },
    {
      "cell_type": "code",
      "source": [
        "# # Create new dataframe\n",
        "df1 = pd.read_csv('/content/sample_data/Tetuan City power consumption.csv')\n",
        "df1.head()"
      ],
      "metadata": {
        "id": "yyE-SZ0Lc8lD"
      },
      "execution_count": null,
      "outputs": []
    },
    {
      "cell_type": "code",
      "source": [
        "df1.shape"
      ],
      "metadata": {
        "id": "VktCoIi0GTkF",
        "outputId": "0c9ede40-3bf6-4656-9c52-72e066011248",
        "colab": {
          "base_uri": "https://localhost:8080/"
        }
      },
      "execution_count": null,
      "outputs": [
        {
          "output_type": "execute_result",
          "data": {
            "text/plain": [
              "(52416, 9)"
            ]
          },
          "metadata": {},
          "execution_count": 12
        }
      ]
    },
    {
      "cell_type": "code",
      "source": [
        "# 3) What is the target?\n",
        "\n",
        "\n",
        "# Zones 1,2 and 3 Power consumption "
      ],
      "metadata": {
        "id": "mPBECWebHHyQ"
      },
      "execution_count": null,
      "outputs": []
    },
    {
      "cell_type": "code",
      "source": [
        "# 4) Is this a classification or regression problem?\n",
        "# This is a Regression problem problem \n",
        "# df1.isna().sum()/"
      ],
      "metadata": {
        "id": "GzuZZ3OXH1o5"
      },
      "execution_count": null,
      "outputs": []
    },
    {
      "cell_type": "code",
      "source": [
        "# 5) How many features?\n",
        "df1.shape\n",
        "\n",
        "# There are 5 features"
      ],
      "metadata": {
        "id": "nVMS4EzPIP_g",
        "outputId": "6cb0005b-206b-43ca-d8a7-091dc51597a1",
        "colab": {
          "base_uri": "https://localhost:8080/"
        }
      },
      "execution_count": null,
      "outputs": [
        {
          "output_type": "execute_result",
          "data": {
            "text/plain": [
              "(52416, 9)"
            ]
          },
          "metadata": {},
          "execution_count": 15
        }
      ]
    },
    {
      "cell_type": "code",
      "source": [
        "# 6) How many rows of data.\n",
        "\n",
        "# There are 52416 rows"
      ],
      "metadata": {
        "id": "TalhaPj3Im0K"
      },
      "execution_count": null,
      "outputs": []
    },
    {
      "cell_type": "code",
      "source": [
        "#  7) What, if any, challenges do your foresee in cleaning, exploring, or modeling with this dataset?\n",
        "\n",
        "df1.isnull().sum()\n",
        "# I foresee  choosing which zone to take as the target"
      ],
      "metadata": {
        "id": "t2JDxzHoItSk",
        "outputId": "a5739a36-57d2-4398-9304-019dc796aad1",
        "colab": {
          "base_uri": "https://localhost:8080/"
        }
      },
      "execution_count": null,
      "outputs": [
        {
          "output_type": "execute_result",
          "data": {
            "text/plain": [
              "DateTime                     0\n",
              "Temperature                  0\n",
              "Humidity                     0\n",
              "Wind Speed                   0\n",
              "general diffuse flows        0\n",
              "diffuse flows                0\n",
              "Zone 1 Power Consumption     0\n",
              "Zone 2  Power Consumption    0\n",
              "Zone 3  Power Consumption    0\n",
              "dtype: int64"
            ]
          },
          "metadata": {},
          "execution_count": 17
        }
      ]
    },
    {
      "cell_type": "code",
      "source": [
        "# inspect and delete unnecessary columns\n",
        "df.head()"
      ],
      "metadata": {
        "id": "QPanRliAJZSI",
        "outputId": "163ed7db-129f-4086-b5d1-c64a018e9c11",
        "colab": {
          "base_uri": "https://localhost:8080/",
          "height": 491
        }
      },
      "execution_count": null,
      "outputs": [
        {
          "output_type": "execute_result",
          "data": {
            "text/plain": [
              "  Associated_AAD_YPLL_Years  LocationAbbr   LocationDesc DataSource  \\\n",
              "0                  2015-2019           US  United States       ARDI   \n",
              "1                  2015-2019           US  United States       ARDI   \n",
              "2                  2015-2019           US  United States       ARDI   \n",
              "3                  2015-2019           US  United States       ARDI   \n",
              "4                  2015-2019           US  United States       ARDI   \n",
              "\n",
              "                  Data_Value_Unit ConditionType  \\\n",
              "0  Alcohol-Attributable Fractions         Acute   \n",
              "1  Alcohol-Attributable Fractions         Acute   \n",
              "2  Alcohol-Attributable Fractions         Acute   \n",
              "3  Alcohol-Attributable Fractions         Acute   \n",
              "4  Alcohol-Attributable Fractions         Acute   \n",
              "\n",
              "                        Category                 Cause_of_Death  Direct_AAF  \\\n",
              "0     Alcohol-Related Poisonings              Alcohol poisoning        1.00   \n",
              "1     Alcohol-Related Poisonings              Alcohol poisoning        1.00   \n",
              "2     Alcohol-Related Poisonings        Poisoning (not alcohol)        0.29   \n",
              "3     Alcohol-Related Poisonings        Poisoning (not alcohol)        0.29   \n",
              "4  Motor Vehicle Traffic Crashes  Motor vehicle traffic crashes        0.13   \n",
              "\n",
              "   Direct_AAF_Alt  ...     Sex  AgeGroup LocationID  ConditionTypeID  \\\n",
              "0            1.00  ...  Female   Overall         99            ACUTE   \n",
              "1            1.00  ...    Male   Overall         99            ACUTE   \n",
              "2            0.29  ...  Female   Overall         99            ACUTE   \n",
              "3            0.29  ...    Male   Overall         99            ACUTE   \n",
              "4            0.13  ...  Female       65+         99            ACUTE   \n",
              "\n",
              "  CategoryID  Cause_of_Death_ID ConsumptionID SexID AgeGroupID DataValueUnitID  \n",
              "0       CAT6             ALCPOI        EXCSVE  GENF       Age0       5YEARSAVG  \n",
              "1       CAT6             ALCPOI        EXCSVE  GENM       Age0       5YEARSAVG  \n",
              "2       CAT6             OTHPOI        EXCSVE  GENF       Age0       5YEARSAVG  \n",
              "3       CAT6             OTHPOI        EXCSVE  GENM       Age0       5YEARSAVG  \n",
              "4       CAT7             MTVTRA        EXCSVE  GENF       AgeO       5YEARSAVG  \n",
              "\n",
              "[5 rows x 29 columns]"
            ],
            "text/html": [
              "\n",
              "  <div id=\"df-adad6872-546a-4e0b-97d2-ef6ca54cb6d9\">\n",
              "    <div class=\"colab-df-container\">\n",
              "      <div>\n",
              "<style scoped>\n",
              "    .dataframe tbody tr th:only-of-type {\n",
              "        vertical-align: middle;\n",
              "    }\n",
              "\n",
              "    .dataframe tbody tr th {\n",
              "        vertical-align: top;\n",
              "    }\n",
              "\n",
              "    .dataframe thead th {\n",
              "        text-align: right;\n",
              "    }\n",
              "</style>\n",
              "<table border=\"1\" class=\"dataframe\">\n",
              "  <thead>\n",
              "    <tr style=\"text-align: right;\">\n",
              "      <th></th>\n",
              "      <th>Associated_AAD_YPLL_Years</th>\n",
              "      <th>LocationAbbr</th>\n",
              "      <th>LocationDesc</th>\n",
              "      <th>DataSource</th>\n",
              "      <th>Data_Value_Unit</th>\n",
              "      <th>ConditionType</th>\n",
              "      <th>Category</th>\n",
              "      <th>Cause_of_Death</th>\n",
              "      <th>Direct_AAF</th>\n",
              "      <th>Direct_AAF_Alt</th>\n",
              "      <th>...</th>\n",
              "      <th>Sex</th>\n",
              "      <th>AgeGroup</th>\n",
              "      <th>LocationID</th>\n",
              "      <th>ConditionTypeID</th>\n",
              "      <th>CategoryID</th>\n",
              "      <th>Cause_of_Death_ID</th>\n",
              "      <th>ConsumptionID</th>\n",
              "      <th>SexID</th>\n",
              "      <th>AgeGroupID</th>\n",
              "      <th>DataValueUnitID</th>\n",
              "    </tr>\n",
              "  </thead>\n",
              "  <tbody>\n",
              "    <tr>\n",
              "      <th>0</th>\n",
              "      <td>2015-2019</td>\n",
              "      <td>US</td>\n",
              "      <td>United States</td>\n",
              "      <td>ARDI</td>\n",
              "      <td>Alcohol-Attributable Fractions</td>\n",
              "      <td>Acute</td>\n",
              "      <td>Alcohol-Related Poisonings</td>\n",
              "      <td>Alcohol poisoning</td>\n",
              "      <td>1.00</td>\n",
              "      <td>1.00</td>\n",
              "      <td>...</td>\n",
              "      <td>Female</td>\n",
              "      <td>Overall</td>\n",
              "      <td>99</td>\n",
              "      <td>ACUTE</td>\n",
              "      <td>CAT6</td>\n",
              "      <td>ALCPOI</td>\n",
              "      <td>EXCSVE</td>\n",
              "      <td>GENF</td>\n",
              "      <td>Age0</td>\n",
              "      <td>5YEARSAVG</td>\n",
              "    </tr>\n",
              "    <tr>\n",
              "      <th>1</th>\n",
              "      <td>2015-2019</td>\n",
              "      <td>US</td>\n",
              "      <td>United States</td>\n",
              "      <td>ARDI</td>\n",
              "      <td>Alcohol-Attributable Fractions</td>\n",
              "      <td>Acute</td>\n",
              "      <td>Alcohol-Related Poisonings</td>\n",
              "      <td>Alcohol poisoning</td>\n",
              "      <td>1.00</td>\n",
              "      <td>1.00</td>\n",
              "      <td>...</td>\n",
              "      <td>Male</td>\n",
              "      <td>Overall</td>\n",
              "      <td>99</td>\n",
              "      <td>ACUTE</td>\n",
              "      <td>CAT6</td>\n",
              "      <td>ALCPOI</td>\n",
              "      <td>EXCSVE</td>\n",
              "      <td>GENM</td>\n",
              "      <td>Age0</td>\n",
              "      <td>5YEARSAVG</td>\n",
              "    </tr>\n",
              "    <tr>\n",
              "      <th>2</th>\n",
              "      <td>2015-2019</td>\n",
              "      <td>US</td>\n",
              "      <td>United States</td>\n",
              "      <td>ARDI</td>\n",
              "      <td>Alcohol-Attributable Fractions</td>\n",
              "      <td>Acute</td>\n",
              "      <td>Alcohol-Related Poisonings</td>\n",
              "      <td>Poisoning (not alcohol)</td>\n",
              "      <td>0.29</td>\n",
              "      <td>0.29</td>\n",
              "      <td>...</td>\n",
              "      <td>Female</td>\n",
              "      <td>Overall</td>\n",
              "      <td>99</td>\n",
              "      <td>ACUTE</td>\n",
              "      <td>CAT6</td>\n",
              "      <td>OTHPOI</td>\n",
              "      <td>EXCSVE</td>\n",
              "      <td>GENF</td>\n",
              "      <td>Age0</td>\n",
              "      <td>5YEARSAVG</td>\n",
              "    </tr>\n",
              "    <tr>\n",
              "      <th>3</th>\n",
              "      <td>2015-2019</td>\n",
              "      <td>US</td>\n",
              "      <td>United States</td>\n",
              "      <td>ARDI</td>\n",
              "      <td>Alcohol-Attributable Fractions</td>\n",
              "      <td>Acute</td>\n",
              "      <td>Alcohol-Related Poisonings</td>\n",
              "      <td>Poisoning (not alcohol)</td>\n",
              "      <td>0.29</td>\n",
              "      <td>0.29</td>\n",
              "      <td>...</td>\n",
              "      <td>Male</td>\n",
              "      <td>Overall</td>\n",
              "      <td>99</td>\n",
              "      <td>ACUTE</td>\n",
              "      <td>CAT6</td>\n",
              "      <td>OTHPOI</td>\n",
              "      <td>EXCSVE</td>\n",
              "      <td>GENM</td>\n",
              "      <td>Age0</td>\n",
              "      <td>5YEARSAVG</td>\n",
              "    </tr>\n",
              "    <tr>\n",
              "      <th>4</th>\n",
              "      <td>2015-2019</td>\n",
              "      <td>US</td>\n",
              "      <td>United States</td>\n",
              "      <td>ARDI</td>\n",
              "      <td>Alcohol-Attributable Fractions</td>\n",
              "      <td>Acute</td>\n",
              "      <td>Motor Vehicle Traffic Crashes</td>\n",
              "      <td>Motor vehicle traffic crashes</td>\n",
              "      <td>0.13</td>\n",
              "      <td>0.13</td>\n",
              "      <td>...</td>\n",
              "      <td>Female</td>\n",
              "      <td>65+</td>\n",
              "      <td>99</td>\n",
              "      <td>ACUTE</td>\n",
              "      <td>CAT7</td>\n",
              "      <td>MTVTRA</td>\n",
              "      <td>EXCSVE</td>\n",
              "      <td>GENF</td>\n",
              "      <td>AgeO</td>\n",
              "      <td>5YEARSAVG</td>\n",
              "    </tr>\n",
              "  </tbody>\n",
              "</table>\n",
              "<p>5 rows × 29 columns</p>\n",
              "</div>\n",
              "      <button class=\"colab-df-convert\" onclick=\"convertToInteractive('df-adad6872-546a-4e0b-97d2-ef6ca54cb6d9')\"\n",
              "              title=\"Convert this dataframe to an interactive table.\"\n",
              "              style=\"display:none;\">\n",
              "        \n",
              "  <svg xmlns=\"http://www.w3.org/2000/svg\" height=\"24px\"viewBox=\"0 0 24 24\"\n",
              "       width=\"24px\">\n",
              "    <path d=\"M0 0h24v24H0V0z\" fill=\"none\"/>\n",
              "    <path d=\"M18.56 5.44l.94 2.06.94-2.06 2.06-.94-2.06-.94-.94-2.06-.94 2.06-2.06.94zm-11 1L8.5 8.5l.94-2.06 2.06-.94-2.06-.94L8.5 2.5l-.94 2.06-2.06.94zm10 10l.94 2.06.94-2.06 2.06-.94-2.06-.94-.94-2.06-.94 2.06-2.06.94z\"/><path d=\"M17.41 7.96l-1.37-1.37c-.4-.4-.92-.59-1.43-.59-.52 0-1.04.2-1.43.59L10.3 9.45l-7.72 7.72c-.78.78-.78 2.05 0 2.83L4 21.41c.39.39.9.59 1.41.59.51 0 1.02-.2 1.41-.59l7.78-7.78 2.81-2.81c.8-.78.8-2.07 0-2.86zM5.41 20L4 18.59l7.72-7.72 1.47 1.35L5.41 20z\"/>\n",
              "  </svg>\n",
              "      </button>\n",
              "      \n",
              "  <style>\n",
              "    .colab-df-container {\n",
              "      display:flex;\n",
              "      flex-wrap:wrap;\n",
              "      gap: 12px;\n",
              "    }\n",
              "\n",
              "    .colab-df-convert {\n",
              "      background-color: #E8F0FE;\n",
              "      border: none;\n",
              "      border-radius: 50%;\n",
              "      cursor: pointer;\n",
              "      display: none;\n",
              "      fill: #1967D2;\n",
              "      height: 32px;\n",
              "      padding: 0 0 0 0;\n",
              "      width: 32px;\n",
              "    }\n",
              "\n",
              "    .colab-df-convert:hover {\n",
              "      background-color: #E2EBFA;\n",
              "      box-shadow: 0px 1px 2px rgba(60, 64, 67, 0.3), 0px 1px 3px 1px rgba(60, 64, 67, 0.15);\n",
              "      fill: #174EA6;\n",
              "    }\n",
              "\n",
              "    [theme=dark] .colab-df-convert {\n",
              "      background-color: #3B4455;\n",
              "      fill: #D2E3FC;\n",
              "    }\n",
              "\n",
              "    [theme=dark] .colab-df-convert:hover {\n",
              "      background-color: #434B5C;\n",
              "      box-shadow: 0px 1px 3px 1px rgba(0, 0, 0, 0.15);\n",
              "      filter: drop-shadow(0px 1px 2px rgba(0, 0, 0, 0.3));\n",
              "      fill: #FFFFFF;\n",
              "    }\n",
              "  </style>\n",
              "\n",
              "      <script>\n",
              "        const buttonEl =\n",
              "          document.querySelector('#df-adad6872-546a-4e0b-97d2-ef6ca54cb6d9 button.colab-df-convert');\n",
              "        buttonEl.style.display =\n",
              "          google.colab.kernel.accessAllowed ? 'block' : 'none';\n",
              "\n",
              "        async function convertToInteractive(key) {\n",
              "          const element = document.querySelector('#df-adad6872-546a-4e0b-97d2-ef6ca54cb6d9');\n",
              "          const dataTable =\n",
              "            await google.colab.kernel.invokeFunction('convertToInteractive',\n",
              "                                                     [key], {});\n",
              "          if (!dataTable) return;\n",
              "\n",
              "          const docLinkHtml = 'Like what you see? Visit the ' +\n",
              "            '<a target=\"_blank\" href=https://colab.research.google.com/notebooks/data_table.ipynb>data table notebook</a>'\n",
              "            + ' to learn more about interactive tables.';\n",
              "          element.innerHTML = '';\n",
              "          dataTable['output_type'] = 'display_data';\n",
              "          await google.colab.output.renderOutput(dataTable, element);\n",
              "          const docLink = document.createElement('div');\n",
              "          docLink.innerHTML = docLinkHtml;\n",
              "          element.appendChild(docLink);\n",
              "        }\n",
              "      </script>\n",
              "    </div>\n",
              "  </div>\n",
              "  "
            ]
          },
          "metadata": {},
          "execution_count": 50
        }
      ]
    },
    {
      "cell_type": "code",
      "source": [
        "# We will use dataset 1\n",
        "df.dtypes"
      ],
      "metadata": {
        "id": "R4W_rz0_jSV9",
        "outputId": "e44f5d11-c679-4f26-d2ed-7897b9cb1507",
        "colab": {
          "base_uri": "https://localhost:8080/"
        }
      },
      "execution_count": null,
      "outputs": [
        {
          "output_type": "execute_result",
          "data": {
            "text/plain": [
              "Associated_AAD_YPLL_Years      object\n",
              "LocationAbbr                   object\n",
              "LocationDesc                   object\n",
              "DataSource                     object\n",
              "Data_Value_Unit                object\n",
              "ConditionType                  object\n",
              "Category                       object\n",
              "Cause_of_Death                 object\n",
              "Direct_AAF                    float64\n",
              "Direct_AAF_Alt                float64\n",
              "Indirect_AAF_Low               object\n",
              "Indirect_AAF_Low_Alt          float64\n",
              "Indirect_AAF_Medium            object\n",
              "Indirect_AAF_Medium_Alt       float64\n",
              "Indirect_AAF_High              object\n",
              "Indirect_AAF_High_Alt         float64\n",
              "Data_Value_Footnote_Symbol     object\n",
              "Data_Value_Footnote            object\n",
              "ConsumptionPattern             object\n",
              "Sex                            object\n",
              "AgeGroup                       object\n",
              "LocationID                      int64\n",
              "ConditionTypeID                object\n",
              "CategoryID                     object\n",
              "Cause_of_Death_ID              object\n",
              "ConsumptionID                  object\n",
              "SexID                          object\n",
              "AgeGroupID                     object\n",
              "DataValueUnitID                object\n",
              "dtype: object"
            ]
          },
          "metadata": {},
          "execution_count": 51
        }
      ]
    },
    {
      "cell_type": "code",
      "source": [
        "# Drop unwanted columns\n",
        "# df = df.drop(columns=['Associated_AAD_YPLL_Years', 'LocationDesc', 'Data_Value_Unit', 'DataSource', 'Sex', 'AgeGroup', 'Cause_of_Death', 'Category', 'Data_Value_Footnote_Symbol', 'Data_Value_Footnote'])\n",
        "df = df.drop(columns=['LocationDesc', 'Data_Value_Unit', 'DataSource', 'Sex', 'AgeGroup', 'Cause_of_Death', 'Category', 'Data_Value_Footnote_Symbol', 'Data_Value_Footnote'])\n",
        "df.head()"
      ],
      "metadata": {
        "id": "80VHQ8ADjVQj",
        "outputId": "41ef7d85-6a8e-44ac-bac7-6476d780fc2a",
        "colab": {
          "base_uri": "https://localhost:8080/",
          "height": 357
        }
      },
      "execution_count": null,
      "outputs": [
        {
          "output_type": "execute_result",
          "data": {
            "text/plain": [
              "  Associated_AAD_YPLL_Years  LocationAbbr ConditionType  Direct_AAF  \\\n",
              "0                  2015-2019           US         Acute        1.00   \n",
              "1                  2015-2019           US         Acute        1.00   \n",
              "2                  2015-2019           US         Acute        0.29   \n",
              "3                  2015-2019           US         Acute        0.29   \n",
              "4                  2015-2019           US         Acute        0.13   \n",
              "\n",
              "   Direct_AAF_Alt Indirect_AAF_Low  Indirect_AAF_Low_Alt Indirect_AAF_Medium  \\\n",
              "0            1.00              NaN                   NaN                 NaN   \n",
              "1            1.00              NaN                   NaN                 NaN   \n",
              "2            0.29              NaN                   NaN                 NaN   \n",
              "3            0.29              NaN                   NaN                 NaN   \n",
              "4            0.13              NaN                   NaN                 NaN   \n",
              "\n",
              "   Indirect_AAF_Medium_Alt Indirect_AAF_High  Indirect_AAF_High_Alt  \\\n",
              "0                      NaN               NaN                    NaN   \n",
              "1                      NaN               NaN                    NaN   \n",
              "2                      NaN               NaN                    NaN   \n",
              "3                      NaN               NaN                    NaN   \n",
              "4                      NaN               NaN                    NaN   \n",
              "\n",
              "      ConsumptionPattern  LocationID ConditionTypeID CategoryID  \\\n",
              "0  Excessive Alcohol Use          99           ACUTE       CAT6   \n",
              "1  Excessive Alcohol Use          99           ACUTE       CAT6   \n",
              "2  Excessive Alcohol Use          99           ACUTE       CAT6   \n",
              "3  Excessive Alcohol Use          99           ACUTE       CAT6   \n",
              "4  Excessive Alcohol Use          99           ACUTE       CAT7   \n",
              "\n",
              "  Cause_of_Death_ID ConsumptionID SexID AgeGroupID DataValueUnitID  \n",
              "0            ALCPOI        EXCSVE  GENF       Age0       5YEARSAVG  \n",
              "1            ALCPOI        EXCSVE  GENM       Age0       5YEARSAVG  \n",
              "2            OTHPOI        EXCSVE  GENF       Age0       5YEARSAVG  \n",
              "3            OTHPOI        EXCSVE  GENM       Age0       5YEARSAVG  \n",
              "4            MTVTRA        EXCSVE  GENF       AgeO       5YEARSAVG  "
            ],
            "text/html": [
              "\n",
              "  <div id=\"df-e484f9a7-648a-403b-9383-ed246a6b3803\">\n",
              "    <div class=\"colab-df-container\">\n",
              "      <div>\n",
              "<style scoped>\n",
              "    .dataframe tbody tr th:only-of-type {\n",
              "        vertical-align: middle;\n",
              "    }\n",
              "\n",
              "    .dataframe tbody tr th {\n",
              "        vertical-align: top;\n",
              "    }\n",
              "\n",
              "    .dataframe thead th {\n",
              "        text-align: right;\n",
              "    }\n",
              "</style>\n",
              "<table border=\"1\" class=\"dataframe\">\n",
              "  <thead>\n",
              "    <tr style=\"text-align: right;\">\n",
              "      <th></th>\n",
              "      <th>Associated_AAD_YPLL_Years</th>\n",
              "      <th>LocationAbbr</th>\n",
              "      <th>ConditionType</th>\n",
              "      <th>Direct_AAF</th>\n",
              "      <th>Direct_AAF_Alt</th>\n",
              "      <th>Indirect_AAF_Low</th>\n",
              "      <th>Indirect_AAF_Low_Alt</th>\n",
              "      <th>Indirect_AAF_Medium</th>\n",
              "      <th>Indirect_AAF_Medium_Alt</th>\n",
              "      <th>Indirect_AAF_High</th>\n",
              "      <th>Indirect_AAF_High_Alt</th>\n",
              "      <th>ConsumptionPattern</th>\n",
              "      <th>LocationID</th>\n",
              "      <th>ConditionTypeID</th>\n",
              "      <th>CategoryID</th>\n",
              "      <th>Cause_of_Death_ID</th>\n",
              "      <th>ConsumptionID</th>\n",
              "      <th>SexID</th>\n",
              "      <th>AgeGroupID</th>\n",
              "      <th>DataValueUnitID</th>\n",
              "    </tr>\n",
              "  </thead>\n",
              "  <tbody>\n",
              "    <tr>\n",
              "      <th>0</th>\n",
              "      <td>2015-2019</td>\n",
              "      <td>US</td>\n",
              "      <td>Acute</td>\n",
              "      <td>1.00</td>\n",
              "      <td>1.00</td>\n",
              "      <td>NaN</td>\n",
              "      <td>NaN</td>\n",
              "      <td>NaN</td>\n",
              "      <td>NaN</td>\n",
              "      <td>NaN</td>\n",
              "      <td>NaN</td>\n",
              "      <td>Excessive Alcohol Use</td>\n",
              "      <td>99</td>\n",
              "      <td>ACUTE</td>\n",
              "      <td>CAT6</td>\n",
              "      <td>ALCPOI</td>\n",
              "      <td>EXCSVE</td>\n",
              "      <td>GENF</td>\n",
              "      <td>Age0</td>\n",
              "      <td>5YEARSAVG</td>\n",
              "    </tr>\n",
              "    <tr>\n",
              "      <th>1</th>\n",
              "      <td>2015-2019</td>\n",
              "      <td>US</td>\n",
              "      <td>Acute</td>\n",
              "      <td>1.00</td>\n",
              "      <td>1.00</td>\n",
              "      <td>NaN</td>\n",
              "      <td>NaN</td>\n",
              "      <td>NaN</td>\n",
              "      <td>NaN</td>\n",
              "      <td>NaN</td>\n",
              "      <td>NaN</td>\n",
              "      <td>Excessive Alcohol Use</td>\n",
              "      <td>99</td>\n",
              "      <td>ACUTE</td>\n",
              "      <td>CAT6</td>\n",
              "      <td>ALCPOI</td>\n",
              "      <td>EXCSVE</td>\n",
              "      <td>GENM</td>\n",
              "      <td>Age0</td>\n",
              "      <td>5YEARSAVG</td>\n",
              "    </tr>\n",
              "    <tr>\n",
              "      <th>2</th>\n",
              "      <td>2015-2019</td>\n",
              "      <td>US</td>\n",
              "      <td>Acute</td>\n",
              "      <td>0.29</td>\n",
              "      <td>0.29</td>\n",
              "      <td>NaN</td>\n",
              "      <td>NaN</td>\n",
              "      <td>NaN</td>\n",
              "      <td>NaN</td>\n",
              "      <td>NaN</td>\n",
              "      <td>NaN</td>\n",
              "      <td>Excessive Alcohol Use</td>\n",
              "      <td>99</td>\n",
              "      <td>ACUTE</td>\n",
              "      <td>CAT6</td>\n",
              "      <td>OTHPOI</td>\n",
              "      <td>EXCSVE</td>\n",
              "      <td>GENF</td>\n",
              "      <td>Age0</td>\n",
              "      <td>5YEARSAVG</td>\n",
              "    </tr>\n",
              "    <tr>\n",
              "      <th>3</th>\n",
              "      <td>2015-2019</td>\n",
              "      <td>US</td>\n",
              "      <td>Acute</td>\n",
              "      <td>0.29</td>\n",
              "      <td>0.29</td>\n",
              "      <td>NaN</td>\n",
              "      <td>NaN</td>\n",
              "      <td>NaN</td>\n",
              "      <td>NaN</td>\n",
              "      <td>NaN</td>\n",
              "      <td>NaN</td>\n",
              "      <td>Excessive Alcohol Use</td>\n",
              "      <td>99</td>\n",
              "      <td>ACUTE</td>\n",
              "      <td>CAT6</td>\n",
              "      <td>OTHPOI</td>\n",
              "      <td>EXCSVE</td>\n",
              "      <td>GENM</td>\n",
              "      <td>Age0</td>\n",
              "      <td>5YEARSAVG</td>\n",
              "    </tr>\n",
              "    <tr>\n",
              "      <th>4</th>\n",
              "      <td>2015-2019</td>\n",
              "      <td>US</td>\n",
              "      <td>Acute</td>\n",
              "      <td>0.13</td>\n",
              "      <td>0.13</td>\n",
              "      <td>NaN</td>\n",
              "      <td>NaN</td>\n",
              "      <td>NaN</td>\n",
              "      <td>NaN</td>\n",
              "      <td>NaN</td>\n",
              "      <td>NaN</td>\n",
              "      <td>Excessive Alcohol Use</td>\n",
              "      <td>99</td>\n",
              "      <td>ACUTE</td>\n",
              "      <td>CAT7</td>\n",
              "      <td>MTVTRA</td>\n",
              "      <td>EXCSVE</td>\n",
              "      <td>GENF</td>\n",
              "      <td>AgeO</td>\n",
              "      <td>5YEARSAVG</td>\n",
              "    </tr>\n",
              "  </tbody>\n",
              "</table>\n",
              "</div>\n",
              "      <button class=\"colab-df-convert\" onclick=\"convertToInteractive('df-e484f9a7-648a-403b-9383-ed246a6b3803')\"\n",
              "              title=\"Convert this dataframe to an interactive table.\"\n",
              "              style=\"display:none;\">\n",
              "        \n",
              "  <svg xmlns=\"http://www.w3.org/2000/svg\" height=\"24px\"viewBox=\"0 0 24 24\"\n",
              "       width=\"24px\">\n",
              "    <path d=\"M0 0h24v24H0V0z\" fill=\"none\"/>\n",
              "    <path d=\"M18.56 5.44l.94 2.06.94-2.06 2.06-.94-2.06-.94-.94-2.06-.94 2.06-2.06.94zm-11 1L8.5 8.5l.94-2.06 2.06-.94-2.06-.94L8.5 2.5l-.94 2.06-2.06.94zm10 10l.94 2.06.94-2.06 2.06-.94-2.06-.94-.94-2.06-.94 2.06-2.06.94z\"/><path d=\"M17.41 7.96l-1.37-1.37c-.4-.4-.92-.59-1.43-.59-.52 0-1.04.2-1.43.59L10.3 9.45l-7.72 7.72c-.78.78-.78 2.05 0 2.83L4 21.41c.39.39.9.59 1.41.59.51 0 1.02-.2 1.41-.59l7.78-7.78 2.81-2.81c.8-.78.8-2.07 0-2.86zM5.41 20L4 18.59l7.72-7.72 1.47 1.35L5.41 20z\"/>\n",
              "  </svg>\n",
              "      </button>\n",
              "      \n",
              "  <style>\n",
              "    .colab-df-container {\n",
              "      display:flex;\n",
              "      flex-wrap:wrap;\n",
              "      gap: 12px;\n",
              "    }\n",
              "\n",
              "    .colab-df-convert {\n",
              "      background-color: #E8F0FE;\n",
              "      border: none;\n",
              "      border-radius: 50%;\n",
              "      cursor: pointer;\n",
              "      display: none;\n",
              "      fill: #1967D2;\n",
              "      height: 32px;\n",
              "      padding: 0 0 0 0;\n",
              "      width: 32px;\n",
              "    }\n",
              "\n",
              "    .colab-df-convert:hover {\n",
              "      background-color: #E2EBFA;\n",
              "      box-shadow: 0px 1px 2px rgba(60, 64, 67, 0.3), 0px 1px 3px 1px rgba(60, 64, 67, 0.15);\n",
              "      fill: #174EA6;\n",
              "    }\n",
              "\n",
              "    [theme=dark] .colab-df-convert {\n",
              "      background-color: #3B4455;\n",
              "      fill: #D2E3FC;\n",
              "    }\n",
              "\n",
              "    [theme=dark] .colab-df-convert:hover {\n",
              "      background-color: #434B5C;\n",
              "      box-shadow: 0px 1px 3px 1px rgba(0, 0, 0, 0.15);\n",
              "      filter: drop-shadow(0px 1px 2px rgba(0, 0, 0, 0.3));\n",
              "      fill: #FFFFFF;\n",
              "    }\n",
              "  </style>\n",
              "\n",
              "      <script>\n",
              "        const buttonEl =\n",
              "          document.querySelector('#df-e484f9a7-648a-403b-9383-ed246a6b3803 button.colab-df-convert');\n",
              "        buttonEl.style.display =\n",
              "          google.colab.kernel.accessAllowed ? 'block' : 'none';\n",
              "\n",
              "        async function convertToInteractive(key) {\n",
              "          const element = document.querySelector('#df-e484f9a7-648a-403b-9383-ed246a6b3803');\n",
              "          const dataTable =\n",
              "            await google.colab.kernel.invokeFunction('convertToInteractive',\n",
              "                                                     [key], {});\n",
              "          if (!dataTable) return;\n",
              "\n",
              "          const docLinkHtml = 'Like what you see? Visit the ' +\n",
              "            '<a target=\"_blank\" href=https://colab.research.google.com/notebooks/data_table.ipynb>data table notebook</a>'\n",
              "            + ' to learn more about interactive tables.';\n",
              "          element.innerHTML = '';\n",
              "          dataTable['output_type'] = 'display_data';\n",
              "          await google.colab.output.renderOutput(dataTable, element);\n",
              "          const docLink = document.createElement('div');\n",
              "          docLink.innerHTML = docLinkHtml;\n",
              "          element.appendChild(docLink);\n",
              "        }\n",
              "      </script>\n",
              "    </div>\n",
              "  </div>\n",
              "  "
            ]
          },
          "metadata": {},
          "execution_count": 52
        }
      ]
    },
    {
      "cell_type": "code",
      "source": [
        "# Find , count and finally delete duplicates\n",
        "df.duplicated().sum()"
      ],
      "metadata": {
        "id": "nlvG-mNxjw2-",
        "outputId": "e12d1465-eabf-4f9f-b829-2586dda89a7f",
        "colab": {
          "base_uri": "https://localhost:8080/"
        }
      },
      "execution_count": null,
      "outputs": [
        {
          "output_type": "execute_result",
          "data": {
            "text/plain": [
              "208"
            ]
          },
          "metadata": {},
          "execution_count": 53
        }
      ]
    },
    {
      "cell_type": "code",
      "source": [
        "# There are 208 duplicated rows, therefore we'll dlete them\n",
        "df = df.drop_duplicates()\n",
        "df.duplicated().sum()\n",
        "# all duplicates are removed"
      ],
      "metadata": {
        "id": "4kbBoFVQpD7U",
        "outputId": "ad2063c8-6ace-40b8-aa86-ee89efeded7b",
        "colab": {
          "base_uri": "https://localhost:8080/"
        }
      },
      "execution_count": null,
      "outputs": [
        {
          "output_type": "execute_result",
          "data": {
            "text/plain": [
              "0"
            ]
          },
          "metadata": {},
          "execution_count": 54
        }
      ]
    },
    {
      "cell_type": "code",
      "source": [
        "# Find and deal with missing values\n",
        "df.isna().sum()"
      ],
      "metadata": {
        "id": "yDXEqCpWpkWa",
        "outputId": "7218881c-f49e-4111-f5dc-689d66e2e1a2",
        "colab": {
          "base_uri": "https://localhost:8080/"
        }
      },
      "execution_count": null,
      "outputs": [
        {
          "output_type": "execute_result",
          "data": {
            "text/plain": [
              "Associated_AAD_YPLL_Years         0\n",
              "LocationAbbr                      0\n",
              "ConditionType                     0\n",
              "Direct_AAF                     4784\n",
              "Direct_AAF_Alt                 4784\n",
              "Indirect_AAF_Low              11024\n",
              "Indirect_AAF_Low_Alt          11232\n",
              "Indirect_AAF_Medium            8736\n",
              "Indirect_AAF_Medium_Alt        8944\n",
              "Indirect_AAF_High              8736\n",
              "Indirect_AAF_High_Alt          8944\n",
              "ConsumptionPattern                0\n",
              "LocationID                        0\n",
              "ConditionTypeID                   0\n",
              "CategoryID                        0\n",
              "Cause_of_Death_ID                 0\n",
              "ConsumptionID                     0\n",
              "SexID                             0\n",
              "AgeGroupID                        0\n",
              "DataValueUnitID                   0\n",
              "dtype: int64"
            ]
          },
          "metadata": {},
          "execution_count": 55
        }
      ]
    },
    {
      "cell_type": "code",
      "source": [
        "# The following columns are missing alot of data, and therefore filling them may affect thee final results\n",
        "# Direct_AAF, Direct_AAF_Alt, Indirect_AAF_Low, Indirect_AAF_Low_Alt, Indirect_AAF_Medium, Indirect_AAF_Medium_Alt, Indirect_AAF_High, Indirect_AAF_High_Alt\n",
        "# Resolution is to drop entire columns\n",
        "\n",
        "df = df.drop(columns=['Direct_AAF', 'Direct_AAF_Alt', 'Indirect_AAF_Low', 'Indirect_AAF_Low_Alt', 'Indirect_AAF_Medium', 'Indirect_AAF_Medium_Alt', 'Indirect_AAF_High', 'Indirect_AAF_High_Alt'])\n",
        "df.head()"
      ],
      "metadata": {
        "id": "BU3uNPexqdZm",
        "outputId": "57aff52e-1e51-40c1-c00e-f321d53a8d9d",
        "colab": {
          "base_uri": "https://localhost:8080/",
          "height": 357
        }
      },
      "execution_count": null,
      "outputs": [
        {
          "output_type": "execute_result",
          "data": {
            "text/plain": [
              "  Associated_AAD_YPLL_Years  LocationAbbr ConditionType  \\\n",
              "0                  2015-2019           US         Acute   \n",
              "1                  2015-2019           US         Acute   \n",
              "2                  2015-2019           US         Acute   \n",
              "3                  2015-2019           US         Acute   \n",
              "4                  2015-2019           US         Acute   \n",
              "\n",
              "      ConsumptionPattern  LocationID ConditionTypeID CategoryID  \\\n",
              "0  Excessive Alcohol Use          99           ACUTE       CAT6   \n",
              "1  Excessive Alcohol Use          99           ACUTE       CAT6   \n",
              "2  Excessive Alcohol Use          99           ACUTE       CAT6   \n",
              "3  Excessive Alcohol Use          99           ACUTE       CAT6   \n",
              "4  Excessive Alcohol Use          99           ACUTE       CAT7   \n",
              "\n",
              "  Cause_of_Death_ID ConsumptionID SexID AgeGroupID DataValueUnitID  \n",
              "0            ALCPOI        EXCSVE  GENF       Age0       5YEARSAVG  \n",
              "1            ALCPOI        EXCSVE  GENM       Age0       5YEARSAVG  \n",
              "2            OTHPOI        EXCSVE  GENF       Age0       5YEARSAVG  \n",
              "3            OTHPOI        EXCSVE  GENM       Age0       5YEARSAVG  \n",
              "4            MTVTRA        EXCSVE  GENF       AgeO       5YEARSAVG  "
            ],
            "text/html": [
              "\n",
              "  <div id=\"df-429d83ac-161a-45d3-a125-5deb792295fe\">\n",
              "    <div class=\"colab-df-container\">\n",
              "      <div>\n",
              "<style scoped>\n",
              "    .dataframe tbody tr th:only-of-type {\n",
              "        vertical-align: middle;\n",
              "    }\n",
              "\n",
              "    .dataframe tbody tr th {\n",
              "        vertical-align: top;\n",
              "    }\n",
              "\n",
              "    .dataframe thead th {\n",
              "        text-align: right;\n",
              "    }\n",
              "</style>\n",
              "<table border=\"1\" class=\"dataframe\">\n",
              "  <thead>\n",
              "    <tr style=\"text-align: right;\">\n",
              "      <th></th>\n",
              "      <th>Associated_AAD_YPLL_Years</th>\n",
              "      <th>LocationAbbr</th>\n",
              "      <th>ConditionType</th>\n",
              "      <th>ConsumptionPattern</th>\n",
              "      <th>LocationID</th>\n",
              "      <th>ConditionTypeID</th>\n",
              "      <th>CategoryID</th>\n",
              "      <th>Cause_of_Death_ID</th>\n",
              "      <th>ConsumptionID</th>\n",
              "      <th>SexID</th>\n",
              "      <th>AgeGroupID</th>\n",
              "      <th>DataValueUnitID</th>\n",
              "    </tr>\n",
              "  </thead>\n",
              "  <tbody>\n",
              "    <tr>\n",
              "      <th>0</th>\n",
              "      <td>2015-2019</td>\n",
              "      <td>US</td>\n",
              "      <td>Acute</td>\n",
              "      <td>Excessive Alcohol Use</td>\n",
              "      <td>99</td>\n",
              "      <td>ACUTE</td>\n",
              "      <td>CAT6</td>\n",
              "      <td>ALCPOI</td>\n",
              "      <td>EXCSVE</td>\n",
              "      <td>GENF</td>\n",
              "      <td>Age0</td>\n",
              "      <td>5YEARSAVG</td>\n",
              "    </tr>\n",
              "    <tr>\n",
              "      <th>1</th>\n",
              "      <td>2015-2019</td>\n",
              "      <td>US</td>\n",
              "      <td>Acute</td>\n",
              "      <td>Excessive Alcohol Use</td>\n",
              "      <td>99</td>\n",
              "      <td>ACUTE</td>\n",
              "      <td>CAT6</td>\n",
              "      <td>ALCPOI</td>\n",
              "      <td>EXCSVE</td>\n",
              "      <td>GENM</td>\n",
              "      <td>Age0</td>\n",
              "      <td>5YEARSAVG</td>\n",
              "    </tr>\n",
              "    <tr>\n",
              "      <th>2</th>\n",
              "      <td>2015-2019</td>\n",
              "      <td>US</td>\n",
              "      <td>Acute</td>\n",
              "      <td>Excessive Alcohol Use</td>\n",
              "      <td>99</td>\n",
              "      <td>ACUTE</td>\n",
              "      <td>CAT6</td>\n",
              "      <td>OTHPOI</td>\n",
              "      <td>EXCSVE</td>\n",
              "      <td>GENF</td>\n",
              "      <td>Age0</td>\n",
              "      <td>5YEARSAVG</td>\n",
              "    </tr>\n",
              "    <tr>\n",
              "      <th>3</th>\n",
              "      <td>2015-2019</td>\n",
              "      <td>US</td>\n",
              "      <td>Acute</td>\n",
              "      <td>Excessive Alcohol Use</td>\n",
              "      <td>99</td>\n",
              "      <td>ACUTE</td>\n",
              "      <td>CAT6</td>\n",
              "      <td>OTHPOI</td>\n",
              "      <td>EXCSVE</td>\n",
              "      <td>GENM</td>\n",
              "      <td>Age0</td>\n",
              "      <td>5YEARSAVG</td>\n",
              "    </tr>\n",
              "    <tr>\n",
              "      <th>4</th>\n",
              "      <td>2015-2019</td>\n",
              "      <td>US</td>\n",
              "      <td>Acute</td>\n",
              "      <td>Excessive Alcohol Use</td>\n",
              "      <td>99</td>\n",
              "      <td>ACUTE</td>\n",
              "      <td>CAT7</td>\n",
              "      <td>MTVTRA</td>\n",
              "      <td>EXCSVE</td>\n",
              "      <td>GENF</td>\n",
              "      <td>AgeO</td>\n",
              "      <td>5YEARSAVG</td>\n",
              "    </tr>\n",
              "  </tbody>\n",
              "</table>\n",
              "</div>\n",
              "      <button class=\"colab-df-convert\" onclick=\"convertToInteractive('df-429d83ac-161a-45d3-a125-5deb792295fe')\"\n",
              "              title=\"Convert this dataframe to an interactive table.\"\n",
              "              style=\"display:none;\">\n",
              "        \n",
              "  <svg xmlns=\"http://www.w3.org/2000/svg\" height=\"24px\"viewBox=\"0 0 24 24\"\n",
              "       width=\"24px\">\n",
              "    <path d=\"M0 0h24v24H0V0z\" fill=\"none\"/>\n",
              "    <path d=\"M18.56 5.44l.94 2.06.94-2.06 2.06-.94-2.06-.94-.94-2.06-.94 2.06-2.06.94zm-11 1L8.5 8.5l.94-2.06 2.06-.94-2.06-.94L8.5 2.5l-.94 2.06-2.06.94zm10 10l.94 2.06.94-2.06 2.06-.94-2.06-.94-.94-2.06-.94 2.06-2.06.94z\"/><path d=\"M17.41 7.96l-1.37-1.37c-.4-.4-.92-.59-1.43-.59-.52 0-1.04.2-1.43.59L10.3 9.45l-7.72 7.72c-.78.78-.78 2.05 0 2.83L4 21.41c.39.39.9.59 1.41.59.51 0 1.02-.2 1.41-.59l7.78-7.78 2.81-2.81c.8-.78.8-2.07 0-2.86zM5.41 20L4 18.59l7.72-7.72 1.47 1.35L5.41 20z\"/>\n",
              "  </svg>\n",
              "      </button>\n",
              "      \n",
              "  <style>\n",
              "    .colab-df-container {\n",
              "      display:flex;\n",
              "      flex-wrap:wrap;\n",
              "      gap: 12px;\n",
              "    }\n",
              "\n",
              "    .colab-df-convert {\n",
              "      background-color: #E8F0FE;\n",
              "      border: none;\n",
              "      border-radius: 50%;\n",
              "      cursor: pointer;\n",
              "      display: none;\n",
              "      fill: #1967D2;\n",
              "      height: 32px;\n",
              "      padding: 0 0 0 0;\n",
              "      width: 32px;\n",
              "    }\n",
              "\n",
              "    .colab-df-convert:hover {\n",
              "      background-color: #E2EBFA;\n",
              "      box-shadow: 0px 1px 2px rgba(60, 64, 67, 0.3), 0px 1px 3px 1px rgba(60, 64, 67, 0.15);\n",
              "      fill: #174EA6;\n",
              "    }\n",
              "\n",
              "    [theme=dark] .colab-df-convert {\n",
              "      background-color: #3B4455;\n",
              "      fill: #D2E3FC;\n",
              "    }\n",
              "\n",
              "    [theme=dark] .colab-df-convert:hover {\n",
              "      background-color: #434B5C;\n",
              "      box-shadow: 0px 1px 3px 1px rgba(0, 0, 0, 0.15);\n",
              "      filter: drop-shadow(0px 1px 2px rgba(0, 0, 0, 0.3));\n",
              "      fill: #FFFFFF;\n",
              "    }\n",
              "  </style>\n",
              "\n",
              "      <script>\n",
              "        const buttonEl =\n",
              "          document.querySelector('#df-429d83ac-161a-45d3-a125-5deb792295fe button.colab-df-convert');\n",
              "        buttonEl.style.display =\n",
              "          google.colab.kernel.accessAllowed ? 'block' : 'none';\n",
              "\n",
              "        async function convertToInteractive(key) {\n",
              "          const element = document.querySelector('#df-429d83ac-161a-45d3-a125-5deb792295fe');\n",
              "          const dataTable =\n",
              "            await google.colab.kernel.invokeFunction('convertToInteractive',\n",
              "                                                     [key], {});\n",
              "          if (!dataTable) return;\n",
              "\n",
              "          const docLinkHtml = 'Like what you see? Visit the ' +\n",
              "            '<a target=\"_blank\" href=https://colab.research.google.com/notebooks/data_table.ipynb>data table notebook</a>'\n",
              "            + ' to learn more about interactive tables.';\n",
              "          element.innerHTML = '';\n",
              "          dataTable['output_type'] = 'display_data';\n",
              "          await google.colab.output.renderOutput(dataTable, element);\n",
              "          const docLink = document.createElement('div');\n",
              "          docLink.innerHTML = docLinkHtml;\n",
              "          element.appendChild(docLink);\n",
              "        }\n",
              "      </script>\n",
              "    </div>\n",
              "  </div>\n",
              "  "
            ]
          },
          "metadata": {},
          "execution_count": 56
        }
      ]
    },
    {
      "cell_type": "code",
      "source": [
        "# identify and correct inconsistencies in data for categorical values\n",
        "df.value_counts()\n",
        "# There are no inconsistent values"
      ],
      "metadata": {
        "id": "pIfaXslqsNSo",
        "outputId": "4e65a52c-633d-4278-c392-beab02993e94",
        "colab": {
          "base_uri": "https://localhost:8080/"
        }
      },
      "execution_count": null,
      "outputs": [
        {
          "output_type": "execute_result",
          "data": {
            "text/plain": [
              "Associated_AAD_YPLL_Years   LocationAbbr  ConditionType  ConsumptionPattern     LocationID  ConditionTypeID  CategoryID  Cause_of_Death_ID  ConsumptionID  SexID  AgeGroupID  DataValueUnitID\n",
              "2015-2019                   AK            Acute          Any Alcohol Use        2           ACUTE            CAT6        ALCPOI             ANYALC         GENF   Age0        5YEARSAVG          1\n",
              "                            NY            Chronic        Excessive Alcohol Use  36          CHRONIC          CAT1        ALCFAS             EXCSVE         GENM   Age0        5YEARSAVG          1\n",
              "                                                         Any Alcohol Use        36          CHRONIC          CAT4        PORHYP             ANYALC         GENM   Age0        5YEARSAVG          1\n",
              "                                                                                                             CAT5        CHRHEP             ANYALC         GENF   Age0        5YEARSAVG          1\n",
              "                                                                                                                                                           GENM   Age0        5YEARSAVG          1\n",
              "                                                                                                                                                                                                ..\n",
              "                            KY            Acute          Excessive Alcohol Use  21          ACUTE            CAT9        HOMICI             EXCSVE         GENM   Age0        5YEARSAVG          1\n",
              "                                                                                                                         HYPOTH             EXCSVE         GENF   Age0        5YEARSAVG          1\n",
              "                                                                                                                                                           GENM   Age0        5YEARSAVG          1\n",
              "                                                                                                                         MACHOB             EXCSVE         GENF   Age0        5YEARSAVG          1\n",
              "                            WY            Chronic        Excessive Alcohol Use  56          CHRONIC          CAT5        SEIZUR             EXCSVE         GENM   Age0        5YEARSAVG          1\n",
              "Length: 13520, dtype: int64"
            ]
          },
          "metadata": {},
          "execution_count": 57
        }
      ]
    },
    {
      "cell_type": "code",
      "source": [
        "# produce univariate visuals for the target and all feature\n",
        "# Split the dataset into Target and features\n",
        "y = df['CategoryID']\n",
        "X = df.drop(columns=['CategoryID'])\n"
      ],
      "metadata": {
        "id": "DMYyi2cCuGN-"
      },
      "execution_count": null,
      "outputs": []
    },
    {
      "cell_type": "code",
      "source": [
        "# Encode categorical features\n"
      ],
      "metadata": {
        "id": "PkO8s82W9tvy"
      },
      "execution_count": null,
      "outputs": []
    },
    {
      "cell_type": "code",
      "source": [
        "# Univariate plot for Cause_of_Death_ID \n",
        "# https://www.kaggle.com/code/residentmario/univariate-plotting-with-pandas\n",
        "df['Cause_of_Death_ID'].value_counts().head(10).plot.bar()"
      ],
      "metadata": {
        "id": "Q6FxsqWUprRW",
        "outputId": "9e04c0e9-bd58-4d90-f30b-8faa769d50bc",
        "colab": {
          "base_uri": "https://localhost:8080/",
          "height": 314
        }
      },
      "execution_count": null,
      "outputs": [
        {
          "output_type": "execute_result",
          "data": {
            "text/plain": [
              "<matplotlib.axes._subplots.AxesSubplot at 0x7f07ff520210>"
            ]
          },
          "metadata": {},
          "execution_count": 58
        },
        {
          "output_type": "display_data",
          "data": {
            "text/plain": [
              "<Figure size 432x288 with 1 Axes>"
            ],
            "image/png": "[encoded data removed]"
          },
          "metadata": {
            "needs_background": "light"
          }
        }
      ]
    },
    {
      "cell_type": "code",
      "source": [
        "# Multivariate visualization\n",
        "# ref https://www.kaggle.com/code/residentmario/multivariate-plotting\n",
        "\n",
        "import seaborn as sns\n",
        "\n",
        "\n",
        "f = (\n",
        "    df.loc[:, ['ConditionType', 'ConsumptionPattern', 'ConditionTypeID', 'CategoryID','Cause_of_Death_ID','ConsumptionID','SexID','AgeGroupID']]\n",
        "        .applymap(lambda v: int(v) if str.isdecimal(v) else np.nan)\n",
        "        .dropna()\n",
        ").corr()\n",
        "\n",
        "sns.heatmap(f, annot=True)"
      ],
      "metadata": {
        "id": "A7yNT4Rd0PoG",
        "outputId": "5cdf78c6-eb90-4ffc-cf0c-0af8e1408e30",
        "colab": {
          "base_uri": "https://localhost:8080/",
          "height": 448
        }
      },
      "execution_count": null,
      "outputs": [
        {
          "output_type": "stream",
          "name": "stderr",
          "text": [
            "/usr/local/lib/python3.7/dist-packages/seaborn/matrix.py:198: RuntimeWarning: All-NaN slice encountered\n",
            "  vmin = np.nanmin(calc_data)\n",
            "/usr/local/lib/python3.7/dist-packages/seaborn/matrix.py:203: RuntimeWarning: All-NaN slice encountered\n",
            "  vmax = np.nanmax(calc_data)\n"
          ]
        },
        {
          "output_type": "execute_result",
          "data": {
            "text/plain": [
              "<matplotlib.axes._subplots.AxesSubplot at 0x7f07ff4b4bd0>"
            ]
          },
          "metadata": {},
          "execution_count": 59
        },
        {
          "output_type": "display_data",
          "data": {
            "text/plain": [
              "<Figure size 432x288 with 2 Axes>"
            ],
            "image/png": "[encoded data removed]"
          },
          "metadata": {
            "needs_background": "light"
          }
        }
      ]
    },
    {
      "cell_type": "markdown",
      "source": [],
      "metadata": {
        "id": "yWZubrbihw1C"
      }
    },
    {
      "cell_type": "code",
      "source": [
        "# From your data analysis, create two visuals that demonstrate key findings of interest to a stakeholder. \n",
        "# These visuals should be reporting quality.  \n",
        "# Be sure to explain the finding associated with each visual.  (NO histograms, boxplots, or correlation plots)\n",
        "\n",
        "# SCATTER PLOT FOR Cause of Death Vs Consumption Pattern\n",
        "\n",
        "sns.lmplot(x='Cause_of_Death_ID', y='ConsumptionPattern', hue='SexID',\n",
        "           markers=['x', 'o'],\n",
        "           fit_reg=False, data=df)"
      ],
      "metadata": {
        "id": "NwbzQAqg0Gri",
        "outputId": "4106eb70-6da4-4bf1-8b76-075383bc01e0",
        "colab": {
          "base_uri": "https://localhost:8080/",
          "height": 700
        }
      },
      "execution_count": null,
      "outputs": [
        {
          "output_type": "error",
          "ename": "ValueError",
          "evalue": "ignored",
          "traceback": [
            "\u001b[0;31m---------------------------------------------------------------------------\u001b[0m",
            "\u001b[0;31mValueError\u001b[0m                                Traceback (most recent call last)",
            "\u001b[0;32m<ipython-input-64-cf23bfc6a28b>\u001b[0m in \u001b[0;36m<module>\u001b[0;34m\u001b[0m\n\u001b[1;32m      7\u001b[0m sns.lmplot(x='Cause_of_Death_ID', y='ConsumptionPattern', hue='SexID',\n\u001b[1;32m      8\u001b[0m            \u001b[0mmarkers\u001b[0m\u001b[0;34m=\u001b[0m\u001b[0;34m[\u001b[0m\u001b[0;34m'x'\u001b[0m\u001b[0;34m,\u001b[0m \u001b[0;34m'o'\u001b[0m\u001b[0;34m]\u001b[0m\u001b[0;34m,\u001b[0m\u001b[0;34m\u001b[0m\u001b[0;34m\u001b[0m\u001b[0m\n\u001b[0;32m----> 9\u001b[0;31m            fit_reg=False, data=df)\n\u001b[0m",
            "\u001b[0;32m/usr/local/lib/python3.7/dist-packages/seaborn/_decorators.py\u001b[0m in \u001b[0;36minner_f\u001b[0;34m(*args, **kwargs)\u001b[0m\n\u001b[1;32m     44\u001b[0m             )\n\u001b[1;32m     45\u001b[0m         \u001b[0mkwargs\u001b[0m\u001b[0;34m.\u001b[0m\u001b[0mupdate\u001b[0m\u001b[0;34m(\u001b[0m\u001b[0;34m{\u001b[0m\u001b[0mk\u001b[0m\u001b[0;34m:\u001b[0m \u001b[0marg\u001b[0m \u001b[0;32mfor\u001b[0m \u001b[0mk\u001b[0m\u001b[0;34m,\u001b[0m \u001b[0marg\u001b[0m \u001b[0;32min\u001b[0m \u001b[0mzip\u001b[0m\u001b[0;34m(\u001b[0m\u001b[0msig\u001b[0m\u001b[0;34m.\u001b[0m\u001b[0mparameters\u001b[0m\u001b[0;34m,\u001b[0m \u001b[0margs\u001b[0m\u001b[0;34m)\u001b[0m\u001b[0;34m}\u001b[0m\u001b[0;34m)\u001b[0m\u001b[0;34m\u001b[0m\u001b[0;34m\u001b[0m\u001b[0m\n\u001b[0;32m---> 46\u001b[0;31m         \u001b[0;32mreturn\u001b[0m \u001b[0mf\u001b[0m\u001b[0;34m(\u001b[0m\u001b[0;34m**\u001b[0m\u001b[0mkwargs\u001b[0m\u001b[0;34m)\u001b[0m\u001b[0;34m\u001b[0m\u001b[0;34m\u001b[0m\u001b[0m\n\u001b[0m\u001b[1;32m     47\u001b[0m     \u001b[0;32mreturn\u001b[0m \u001b[0minner_f\u001b[0m\u001b[0;34m\u001b[0m\u001b[0;34m\u001b[0m\u001b[0m\n\u001b[1;32m     48\u001b[0m \u001b[0;34m\u001b[0m\u001b[0m\n",
            "\u001b[0;32m/usr/local/lib/python3.7/dist-packages/seaborn/regression.py\u001b[0m in \u001b[0;36mlmplot\u001b[0;34m(x, y, data, hue, col, row, palette, col_wrap, height, aspect, markers, sharex, sharey, hue_order, col_order, row_order, legend, legend_out, x_estimator, x_bins, x_ci, scatter, fit_reg, ci, n_boot, units, seed, order, logistic, lowess, robust, logx, x_partial, y_partial, truncate, x_jitter, y_jitter, scatter_kws, line_kws, facet_kws, size)\u001b[0m\n\u001b[1;32m    632\u001b[0m         \u001b[0max\u001b[0m\u001b[0;34m.\u001b[0m\u001b[0mautoscale_view\u001b[0m\u001b[0;34m(\u001b[0m\u001b[0mscaley\u001b[0m\u001b[0;34m=\u001b[0m\u001b[0;32mFalse\u001b[0m\u001b[0;34m)\u001b[0m\u001b[0;34m\u001b[0m\u001b[0;34m\u001b[0m\u001b[0m\n\u001b[1;32m    633\u001b[0m \u001b[0;34m\u001b[0m\u001b[0m\n\u001b[0;32m--> 634\u001b[0;31m     \u001b[0mfacets\u001b[0m\u001b[0;34m.\u001b[0m\u001b[0mmap_dataframe\u001b[0m\u001b[0;34m(\u001b[0m\u001b[0mupdate_datalim\u001b[0m\u001b[0;34m,\u001b[0m \u001b[0mx\u001b[0m\u001b[0;34m=\u001b[0m\u001b[0mx\u001b[0m\u001b[0;34m,\u001b[0m \u001b[0my\u001b[0m\u001b[0;34m=\u001b[0m\u001b[0my\u001b[0m\u001b[0;34m)\u001b[0m\u001b[0;34m\u001b[0m\u001b[0;34m\u001b[0m\u001b[0m\n\u001b[0m\u001b[1;32m    635\u001b[0m \u001b[0;34m\u001b[0m\u001b[0m\n\u001b[1;32m    636\u001b[0m     \u001b[0;31m# Draw the regression plot on each facet\u001b[0m\u001b[0;34m\u001b[0m\u001b[0;34m\u001b[0m\u001b[0;34m\u001b[0m\u001b[0m\n",
            "\u001b[0;32m/usr/local/lib/python3.7/dist-packages/seaborn/axisgrid.py\u001b[0m in \u001b[0;36mmap_dataframe\u001b[0;34m(self, func, *args, **kwargs)\u001b[0m\n\u001b[1;32m    775\u001b[0m \u001b[0;34m\u001b[0m\u001b[0m\n\u001b[1;32m    776\u001b[0m             \u001b[0;31m# Draw the plot\u001b[0m\u001b[0;34m\u001b[0m\u001b[0;34m\u001b[0m\u001b[0;34m\u001b[0m\u001b[0m\n\u001b[0;32m--> 777\u001b[0;31m             \u001b[0mself\u001b[0m\u001b[0;34m.\u001b[0m\u001b[0m_facet_plot\u001b[0m\u001b[0;34m(\u001b[0m\u001b[0mfunc\u001b[0m\u001b[0;34m,\u001b[0m \u001b[0max\u001b[0m\u001b[0;34m,\u001b[0m \u001b[0margs\u001b[0m\u001b[0;34m,\u001b[0m \u001b[0mkwargs\u001b[0m\u001b[0;34m)\u001b[0m\u001b[0;34m\u001b[0m\u001b[0;34m\u001b[0m\u001b[0m\n\u001b[0m\u001b[1;32m    778\u001b[0m \u001b[0;34m\u001b[0m\u001b[0m\n\u001b[1;32m    779\u001b[0m         \u001b[0;31m# For axis labels, prefer to use positional args for backcompat\u001b[0m\u001b[0;34m\u001b[0m\u001b[0;34m\u001b[0m\u001b[0;34m\u001b[0m\u001b[0m\n",
            "\u001b[0;32m/usr/local/lib/python3.7/dist-packages/seaborn/axisgrid.py\u001b[0m in \u001b[0;36m_facet_plot\u001b[0;34m(self, func, ax, plot_args, plot_kwargs)\u001b[0m\n\u001b[1;32m    804\u001b[0m             \u001b[0mplot_args\u001b[0m \u001b[0;34m=\u001b[0m \u001b[0;34m[\u001b[0m\u001b[0;34m]\u001b[0m\u001b[0;34m\u001b[0m\u001b[0;34m\u001b[0m\u001b[0m\n\u001b[1;32m    805\u001b[0m             \u001b[0mplot_kwargs\u001b[0m\u001b[0;34m[\u001b[0m\u001b[0;34m\"ax\"\u001b[0m\u001b[0;34m]\u001b[0m \u001b[0;34m=\u001b[0m \u001b[0max\u001b[0m\u001b[0;34m\u001b[0m\u001b[0;34m\u001b[0m\u001b[0m\n\u001b[0;32m--> 806\u001b[0;31m         \u001b[0mfunc\u001b[0m\u001b[0;34m(\u001b[0m\u001b[0;34m*\u001b[0m\u001b[0mplot_args\u001b[0m\u001b[0;34m,\u001b[0m \u001b[0;34m**\u001b[0m\u001b[0mplot_kwargs\u001b[0m\u001b[0;34m)\u001b[0m\u001b[0;34m\u001b[0m\u001b[0;34m\u001b[0m\u001b[0m\n\u001b[0m\u001b[1;32m    807\u001b[0m \u001b[0;34m\u001b[0m\u001b[0m\n\u001b[1;32m    808\u001b[0m         \u001b[0;31m# Sort out the supporting information\u001b[0m\u001b[0;34m\u001b[0m\u001b[0;34m\u001b[0m\u001b[0;34m\u001b[0m\u001b[0m\n",
            "\u001b[0;32m/usr/local/lib/python3.7/dist-packages/seaborn/regression.py\u001b[0m in \u001b[0;36mupdate_datalim\u001b[0;34m(data, x, y, ax, **kws)\u001b[0m\n\u001b[1;32m    628\u001b[0m \u001b[0;34m\u001b[0m\u001b[0m\n\u001b[1;32m    629\u001b[0m     \u001b[0;32mdef\u001b[0m \u001b[0mupdate_datalim\u001b[0m\u001b[0;34m(\u001b[0m\u001b[0mdata\u001b[0m\u001b[0;34m,\u001b[0m \u001b[0mx\u001b[0m\u001b[0;34m,\u001b[0m \u001b[0my\u001b[0m\u001b[0;34m,\u001b[0m \u001b[0max\u001b[0m\u001b[0;34m,\u001b[0m \u001b[0;34m**\u001b[0m\u001b[0mkws\u001b[0m\u001b[0;34m)\u001b[0m\u001b[0;34m:\u001b[0m\u001b[0;34m\u001b[0m\u001b[0;34m\u001b[0m\u001b[0m\n\u001b[0;32m--> 630\u001b[0;31m         \u001b[0mxys\u001b[0m \u001b[0;34m=\u001b[0m \u001b[0mnp\u001b[0m\u001b[0;34m.\u001b[0m\u001b[0masarray\u001b[0m\u001b[0;34m(\u001b[0m\u001b[0mdata\u001b[0m\u001b[0;34m[\u001b[0m\u001b[0;34m[\u001b[0m\u001b[0mx\u001b[0m\u001b[0;34m,\u001b[0m \u001b[0my\u001b[0m\u001b[0;34m]\u001b[0m\u001b[0;34m]\u001b[0m\u001b[0;34m)\u001b[0m\u001b[0;34m.\u001b[0m\u001b[0mastype\u001b[0m\u001b[0;34m(\u001b[0m\u001b[0mfloat\u001b[0m\u001b[0;34m)\u001b[0m\u001b[0;34m\u001b[0m\u001b[0;34m\u001b[0m\u001b[0m\n\u001b[0m\u001b[1;32m    631\u001b[0m         \u001b[0max\u001b[0m\u001b[0;34m.\u001b[0m\u001b[0mupdate_datalim\u001b[0m\u001b[0;34m(\u001b[0m\u001b[0mxys\u001b[0m\u001b[0;34m,\u001b[0m \u001b[0mupdatey\u001b[0m\u001b[0;34m=\u001b[0m\u001b[0;32mFalse\u001b[0m\u001b[0;34m)\u001b[0m\u001b[0;34m\u001b[0m\u001b[0;34m\u001b[0m\u001b[0m\n\u001b[1;32m    632\u001b[0m         \u001b[0max\u001b[0m\u001b[0;34m.\u001b[0m\u001b[0mautoscale_view\u001b[0m\u001b[0;34m(\u001b[0m\u001b[0mscaley\u001b[0m\u001b[0;34m=\u001b[0m\u001b[0;32mFalse\u001b[0m\u001b[0;34m)\u001b[0m\u001b[0;34m\u001b[0m\u001b[0;34m\u001b[0m\u001b[0m\n",
            "\u001b[0;31mValueError\u001b[0m: could not convert string to float: 'ALCPOI'"
          ]
        },
        {
          "output_type": "display_data",
          "data": {
            "text/plain": [
              "<Figure size 360x360 with 1 Axes>"
            ],
            "image/png": "[encoded data removed]"
          },
          "metadata": {
            "needs_background": "light"
          }
        }
      ]
    }
  ]
}