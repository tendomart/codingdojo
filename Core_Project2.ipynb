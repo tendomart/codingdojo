{
  "nbformat": 4,
  "nbformat_minor": 0,
  "metadata": {
    "colab": {
      "provenance": [],
      "collapsed_sections": [],
      "authorship_tag": "ABX9TyP+H8e5G2jpnHyF/V7wMc/r",
      "include_colab_link": true
    },
    "kernelspec": {
      "name": "python3",
      "display_name": "Python 3"
    },
    "language_info": {
      "name": "python"
    }
  },
  "cells": [
    {
      "cell_type": "markdown",
      "metadata": {
        "id": "view-in-github",
        "colab_type": "text"
      },
      "source": [
        "<a href=\"https://colab.research.google.com/github/tendomart/codingdojo/blob/main/Core_Project2.ipynb\" target=\"_parent\"><img src=\"https://colab.research.google.com/assets/colab-badge.svg\" alt=\"Open In Colab\"/></a>"
      ]
    },
    {
      "cell_type": "markdown",
      "source": [
        "Dataset 1:\n",
        "\n",
        "DATASET SOURCE : \n",
        "https://catalog.data.gov/dataset/alcohol-related-disease-impact-ardi-application-alcohol-attributable-fractions"
      ],
      "metadata": {
        "id": "nUKrFRRaws2d"
      }
    },
    {
      "cell_type": "markdown",
      "source": [
        "2) Brief description of the data\n",
        "\n",
        " Alcohol-Related Disease Impact (ARDI) Application - Alcohol-Attributable Fractions\n",
        "\n",
        "\n",
        "ARDI is an online application that provides national and state estimates of alcohol-related health impacts, including deaths and years of potential life lost (YPLL). These estimates are calculated for 58 acute and chronic causes using alcohol-attributable fractions, and are reported by age and sex for 2015-2019. This dataset provides estimates of the proportion of deaths from various causes that are attributable to alcohol.\n",
        "\n",
        "\n"
      ],
      "metadata": {
        "id": "PGd-rI7G3mku"
      }
    },
    {
      "cell_type": "code",
      "execution_count": null,
      "metadata": {
        "id": "51AVCRN4jt3s"
      },
      "outputs": [],
      "source": [
        "# import libraries\n",
        "import pandas as pd\n",
        "import numpy as np"
      ]
    },
    {
      "cell_type": "code",
      "source": [
        "#import dataset\n",
        "\n",
        "\n",
        "df = pd.read_csv('/content/sample_data/Alcohol-Related_Disease_Impact.csv')\n",
        "# https://catalog.data.gov/dataset/national-health-and-nutrition-examination-survey-nhanes-national-cardiovascular-disease-su-00a88\n",
        "df.head()"
      ],
      "metadata": {
        "colab": {
          "base_uri": "https://localhost:8080/",
          "height": 491
        },
        "id": "Okms36W1kOQf",
        "outputId": "11c9b2e4-d69d-460d-fe8b-ab4f5f8af21f"
      },
      "execution_count": null,
      "outputs": [
        {
          "output_type": "execute_result",
          "data": {
            "text/plain": [
              "  Associated_AAD_YPLL_Years  LocationAbbr   LocationDesc DataSource  \\\n",
              "0                  2015-2019           US  United States       ARDI   \n",
              "1                  2015-2019           US  United States       ARDI   \n",
              "2                  2015-2019           US  United States       ARDI   \n",
              "3                  2015-2019           US  United States       ARDI   \n",
              "4                  2015-2019           US  United States       ARDI   \n",
              "\n",
              "                  Data_Value_Unit ConditionType  \\\n",
              "0  Alcohol-Attributable Fractions         Acute   \n",
              "1  Alcohol-Attributable Fractions         Acute   \n",
              "2  Alcohol-Attributable Fractions         Acute   \n",
              "3  Alcohol-Attributable Fractions         Acute   \n",
              "4  Alcohol-Attributable Fractions         Acute   \n",
              "\n",
              "                        Category                 Cause_of_Death  Direct_AAF  \\\n",
              "0     Alcohol-Related Poisonings              Alcohol poisoning        1.00   \n",
              "1     Alcohol-Related Poisonings              Alcohol poisoning        1.00   \n",
              "2     Alcohol-Related Poisonings        Poisoning (not alcohol)        0.29   \n",
              "3     Alcohol-Related Poisonings        Poisoning (not alcohol)        0.29   \n",
              "4  Motor Vehicle Traffic Crashes  Motor vehicle traffic crashes        0.13   \n",
              "\n",
              "   Direct_AAF_Alt  ...     Sex  AgeGroup LocationID  ConditionTypeID  \\\n",
              "0            1.00  ...  Female   Overall         99            ACUTE   \n",
              "1            1.00  ...    Male   Overall         99            ACUTE   \n",
              "2            0.29  ...  Female   Overall         99            ACUTE   \n",
              "3            0.29  ...    Male   Overall         99            ACUTE   \n",
              "4            0.13  ...  Female       65+         99            ACUTE   \n",
              "\n",
              "  CategoryID  Cause_of_Death_ID ConsumptionID SexID AgeGroupID DataValueUnitID  \n",
              "0       CAT6             ALCPOI        EXCSVE  GENF       Age0       5YEARSAVG  \n",
              "1       CAT6             ALCPOI        EXCSVE  GENM       Age0       5YEARSAVG  \n",
              "2       CAT6             OTHPOI        EXCSVE  GENF       Age0       5YEARSAVG  \n",
              "3       CAT6             OTHPOI        EXCSVE  GENM       Age0       5YEARSAVG  \n",
              "4       CAT7             MTVTRA        EXCSVE  GENF       AgeO       5YEARSAVG  \n",
              "\n",
              "[5 rows x 29 columns]"
            ],
            "text/html": [
              "\n",
              "  <div id=\"df-800f8928-02ba-4c7f-8ffc-3e66947531c0\">\n",
              "    <div class=\"colab-df-container\">\n",
              "      <div>\n",
              "<style scoped>\n",
              "    .dataframe tbody tr th:only-of-type {\n",
              "        vertical-align: middle;\n",
              "    }\n",
              "\n",
              "    .dataframe tbody tr th {\n",
              "        vertical-align: top;\n",
              "    }\n",
              "\n",
              "    .dataframe thead th {\n",
              "        text-align: right;\n",
              "    }\n",
              "</style>\n",
              "<table border=\"1\" class=\"dataframe\">\n",
              "  <thead>\n",
              "    <tr style=\"text-align: right;\">\n",
              "      <th></th>\n",
              "      <th>Associated_AAD_YPLL_Years</th>\n",
              "      <th>LocationAbbr</th>\n",
              "      <th>LocationDesc</th>\n",
              "      <th>DataSource</th>\n",
              "      <th>Data_Value_Unit</th>\n",
              "      <th>ConditionType</th>\n",
              "      <th>Category</th>\n",
              "      <th>Cause_of_Death</th>\n",
              "      <th>Direct_AAF</th>\n",
              "      <th>Direct_AAF_Alt</th>\n",
              "      <th>...</th>\n",
              "      <th>Sex</th>\n",
              "      <th>AgeGroup</th>\n",
              "      <th>LocationID</th>\n",
              "      <th>ConditionTypeID</th>\n",
              "      <th>CategoryID</th>\n",
              "      <th>Cause_of_Death_ID</th>\n",
              "      <th>ConsumptionID</th>\n",
              "      <th>SexID</th>\n",
              "      <th>AgeGroupID</th>\n",
              "      <th>DataValueUnitID</th>\n",
              "    </tr>\n",
              "  </thead>\n",
              "  <tbody>\n",
              "    <tr>\n",
              "      <th>0</th>\n",
              "      <td>2015-2019</td>\n",
              "      <td>US</td>\n",
              "      <td>United States</td>\n",
              "      <td>ARDI</td>\n",
              "      <td>Alcohol-Attributable Fractions</td>\n",
              "      <td>Acute</td>\n",
              "      <td>Alcohol-Related Poisonings</td>\n",
              "      <td>Alcohol poisoning</td>\n",
              "      <td>1.00</td>\n",
              "      <td>1.00</td>\n",
              "      <td>...</td>\n",
              "      <td>Female</td>\n",
              "      <td>Overall</td>\n",
              "      <td>99</td>\n",
              "      <td>ACUTE</td>\n",
              "      <td>CAT6</td>\n",
              "      <td>ALCPOI</td>\n",
              "      <td>EXCSVE</td>\n",
              "      <td>GENF</td>\n",
              "      <td>Age0</td>\n",
              "      <td>5YEARSAVG</td>\n",
              "    </tr>\n",
              "    <tr>\n",
              "      <th>1</th>\n",
              "      <td>2015-2019</td>\n",
              "      <td>US</td>\n",
              "      <td>United States</td>\n",
              "      <td>ARDI</td>\n",
              "      <td>Alcohol-Attributable Fractions</td>\n",
              "      <td>Acute</td>\n",
              "      <td>Alcohol-Related Poisonings</td>\n",
              "      <td>Alcohol poisoning</td>\n",
              "      <td>1.00</td>\n",
              "      <td>1.00</td>\n",
              "      <td>...</td>\n",
              "      <td>Male</td>\n",
              "      <td>Overall</td>\n",
              "      <td>99</td>\n",
              "      <td>ACUTE</td>\n",
              "      <td>CAT6</td>\n",
              "      <td>ALCPOI</td>\n",
              "      <td>EXCSVE</td>\n",
              "      <td>GENM</td>\n",
              "      <td>Age0</td>\n",
              "      <td>5YEARSAVG</td>\n",
              "    </tr>\n",
              "    <tr>\n",
              "      <th>2</th>\n",
              "      <td>2015-2019</td>\n",
              "      <td>US</td>\n",
              "      <td>United States</td>\n",
              "      <td>ARDI</td>\n",
              "      <td>Alcohol-Attributable Fractions</td>\n",
              "      <td>Acute</td>\n",
              "      <td>Alcohol-Related Poisonings</td>\n",
              "      <td>Poisoning (not alcohol)</td>\n",
              "      <td>0.29</td>\n",
              "      <td>0.29</td>\n",
              "      <td>...</td>\n",
              "      <td>Female</td>\n",
              "      <td>Overall</td>\n",
              "      <td>99</td>\n",
              "      <td>ACUTE</td>\n",
              "      <td>CAT6</td>\n",
              "      <td>OTHPOI</td>\n",
              "      <td>EXCSVE</td>\n",
              "      <td>GENF</td>\n",
              "      <td>Age0</td>\n",
              "      <td>5YEARSAVG</td>\n",
              "    </tr>\n",
              "    <tr>\n",
              "      <th>3</th>\n",
              "      <td>2015-2019</td>\n",
              "      <td>US</td>\n",
              "      <td>United States</td>\n",
              "      <td>ARDI</td>\n",
              "      <td>Alcohol-Attributable Fractions</td>\n",
              "      <td>Acute</td>\n",
              "      <td>Alcohol-Related Poisonings</td>\n",
              "      <td>Poisoning (not alcohol)</td>\n",
              "      <td>0.29</td>\n",
              "      <td>0.29</td>\n",
              "      <td>...</td>\n",
              "      <td>Male</td>\n",
              "      <td>Overall</td>\n",
              "      <td>99</td>\n",
              "      <td>ACUTE</td>\n",
              "      <td>CAT6</td>\n",
              "      <td>OTHPOI</td>\n",
              "      <td>EXCSVE</td>\n",
              "      <td>GENM</td>\n",
              "      <td>Age0</td>\n",
              "      <td>5YEARSAVG</td>\n",
              "    </tr>\n",
              "    <tr>\n",
              "      <th>4</th>\n",
              "      <td>2015-2019</td>\n",
              "      <td>US</td>\n",
              "      <td>United States</td>\n",
              "      <td>ARDI</td>\n",
              "      <td>Alcohol-Attributable Fractions</td>\n",
              "      <td>Acute</td>\n",
              "      <td>Motor Vehicle Traffic Crashes</td>\n",
              "      <td>Motor vehicle traffic crashes</td>\n",
              "      <td>0.13</td>\n",
              "      <td>0.13</td>\n",
              "      <td>...</td>\n",
              "      <td>Female</td>\n",
              "      <td>65+</td>\n",
              "      <td>99</td>\n",
              "      <td>ACUTE</td>\n",
              "      <td>CAT7</td>\n",
              "      <td>MTVTRA</td>\n",
              "      <td>EXCSVE</td>\n",
              "      <td>GENF</td>\n",
              "      <td>AgeO</td>\n",
              "      <td>5YEARSAVG</td>\n",
              "    </tr>\n",
              "  </tbody>\n",
              "</table>\n",
              "<p>5 rows × 29 columns</p>\n",
              "</div>\n",
              "      <button class=\"colab-df-convert\" onclick=\"convertToInteractive('df-800f8928-02ba-4c7f-8ffc-3e66947531c0')\"\n",
              "              title=\"Convert this dataframe to an interactive table.\"\n",
              "              style=\"display:none;\">\n",
              "        \n",
              "  <svg xmlns=\"http://www.w3.org/2000/svg\" height=\"24px\"viewBox=\"0 0 24 24\"\n",
              "       width=\"24px\">\n",
              "    <path d=\"M0 0h24v24H0V0z\" fill=\"none\"/>\n",
              "    <path d=\"M18.56 5.44l.94 2.06.94-2.06 2.06-.94-2.06-.94-.94-2.06-.94 2.06-2.06.94zm-11 1L8.5 8.5l.94-2.06 2.06-.94-2.06-.94L8.5 2.5l-.94 2.06-2.06.94zm10 10l.94 2.06.94-2.06 2.06-.94-2.06-.94-.94-2.06-.94 2.06-2.06.94z\"/><path d=\"M17.41 7.96l-1.37-1.37c-.4-.4-.92-.59-1.43-.59-.52 0-1.04.2-1.43.59L10.3 9.45l-7.72 7.72c-.78.78-.78 2.05 0 2.83L4 21.41c.39.39.9.59 1.41.59.51 0 1.02-.2 1.41-.59l7.78-7.78 2.81-2.81c.8-.78.8-2.07 0-2.86zM5.41 20L4 18.59l7.72-7.72 1.47 1.35L5.41 20z\"/>\n",
              "  </svg>\n",
              "      </button>\n",
              "      \n",
              "  <style>\n",
              "    .colab-df-container {\n",
              "      display:flex;\n",
              "      flex-wrap:wrap;\n",
              "      gap: 12px;\n",
              "    }\n",
              "\n",
              "    .colab-df-convert {\n",
              "      background-color: #E8F0FE;\n",
              "      border: none;\n",
              "      border-radius: 50%;\n",
              "      cursor: pointer;\n",
              "      display: none;\n",
              "      fill: #1967D2;\n",
              "      height: 32px;\n",
              "      padding: 0 0 0 0;\n",
              "      width: 32px;\n",
              "    }\n",
              "\n",
              "    .colab-df-convert:hover {\n",
              "      background-color: #E2EBFA;\n",
              "      box-shadow: 0px 1px 2px rgba(60, 64, 67, 0.3), 0px 1px 3px 1px rgba(60, 64, 67, 0.15);\n",
              "      fill: #174EA6;\n",
              "    }\n",
              "\n",
              "    [theme=dark] .colab-df-convert {\n",
              "      background-color: #3B4455;\n",
              "      fill: #D2E3FC;\n",
              "    }\n",
              "\n",
              "    [theme=dark] .colab-df-convert:hover {\n",
              "      background-color: #434B5C;\n",
              "      box-shadow: 0px 1px 3px 1px rgba(0, 0, 0, 0.15);\n",
              "      filter: drop-shadow(0px 1px 2px rgba(0, 0, 0, 0.3));\n",
              "      fill: #FFFFFF;\n",
              "    }\n",
              "  </style>\n",
              "\n",
              "      <script>\n",
              "        const buttonEl =\n",
              "          document.querySelector('#df-800f8928-02ba-4c7f-8ffc-3e66947531c0 button.colab-df-convert');\n",
              "        buttonEl.style.display =\n",
              "          google.colab.kernel.accessAllowed ? 'block' : 'none';\n",
              "\n",
              "        async function convertToInteractive(key) {\n",
              "          const element = document.querySelector('#df-800f8928-02ba-4c7f-8ffc-3e66947531c0');\n",
              "          const dataTable =\n",
              "            await google.colab.kernel.invokeFunction('convertToInteractive',\n",
              "                                                     [key], {});\n",
              "          if (!dataTable) return;\n",
              "\n",
              "          const docLinkHtml = 'Like what you see? Visit the ' +\n",
              "            '<a target=\"_blank\" href=https://colab.research.google.com/notebooks/data_table.ipynb>data table notebook</a>'\n",
              "            + ' to learn more about interactive tables.';\n",
              "          element.innerHTML = '';\n",
              "          dataTable['output_type'] = 'display_data';\n",
              "          await google.colab.output.renderOutput(dataTable, element);\n",
              "          const docLink = document.createElement('div');\n",
              "          docLink.innerHTML = docLinkHtml;\n",
              "          element.appendChild(docLink);\n",
              "        }\n",
              "      </script>\n",
              "    </div>\n",
              "  </div>\n",
              "  "
            ]
          },
          "metadata": {},
          "execution_count": 2
        }
      ]
    },
    {
      "cell_type": "code",
      "source": [
        "df.shape"
      ],
      "metadata": {
        "colab": {
          "base_uri": "https://localhost:8080/"
        },
        "id": "VaDJXz5xkg1L",
        "outputId": "880aae81-9977-4980-933b-967fcc3180df"
      },
      "execution_count": null,
      "outputs": [
        {
          "output_type": "execute_result",
          "data": {
            "text/plain": [
              "(13728, 29)"
            ]
          },
          "metadata": {},
          "execution_count": 26
        }
      ]
    },
    {
      "cell_type": "code",
      "source": [
        "df.describe()"
      ],
      "metadata": {
        "colab": {
          "base_uri": "https://localhost:8080/",
          "height": 300
        },
        "id": "cktZaJxbw7hu",
        "outputId": "e517b708-51c7-4f10-d0ba-e18b350f9b4c"
      },
      "execution_count": null,
      "outputs": [
        {
          "output_type": "execute_result",
          "data": {
            "text/plain": [
              "        Direct_AAF  Direct_AAF_Alt  Indirect_AAF_Low_Alt  \\\n",
              "count  8736.000000     8736.000000           2392.000000   \n",
              "mean      0.562058        0.562058              0.018123   \n",
              "std       0.349268        0.349268              0.047639   \n",
              "min       0.000000        0.000000             -0.160000   \n",
              "25%       0.230000        0.230000              0.000000   \n",
              "50%       0.420000        0.420000              0.010000   \n",
              "75%       1.000000        1.000000              0.050000   \n",
              "max       1.000000        1.000000              0.160000   \n",
              "\n",
              "       Indirect_AAF_Medium_Alt  Indirect_AAF_High_Alt    LocationID  \n",
              "count              4784.000000            4784.000000  13728.000000  \n",
              "mean                  0.018286               0.052962     30.307692  \n",
              "std                   0.021777               0.061780     18.264268  \n",
              "min                  -0.050000              -0.080000      1.000000  \n",
              "25%                   0.000000               0.020000     16.750000  \n",
              "50%                   0.010000               0.030000     29.500000  \n",
              "75%                   0.030000               0.070000     42.500000  \n",
              "max                   0.140000               0.350000     99.000000  "
            ],
            "text/html": [
              "\n",
              "  <div id=\"df-02d9429a-f70c-4b3e-bc28-c9e7202ad948\">\n",
              "    <div class=\"colab-df-container\">\n",
              "      <div>\n",
              "<style scoped>\n",
              "    .dataframe tbody tr th:only-of-type {\n",
              "        vertical-align: middle;\n",
              "    }\n",
              "\n",
              "    .dataframe tbody tr th {\n",
              "        vertical-align: top;\n",
              "    }\n",
              "\n",
              "    .dataframe thead th {\n",
              "        text-align: right;\n",
              "    }\n",
              "</style>\n",
              "<table border=\"1\" class=\"dataframe\">\n",
              "  <thead>\n",
              "    <tr style=\"text-align: right;\">\n",
              "      <th></th>\n",
              "      <th>Direct_AAF</th>\n",
              "      <th>Direct_AAF_Alt</th>\n",
              "      <th>Indirect_AAF_Low_Alt</th>\n",
              "      <th>Indirect_AAF_Medium_Alt</th>\n",
              "      <th>Indirect_AAF_High_Alt</th>\n",
              "      <th>LocationID</th>\n",
              "    </tr>\n",
              "  </thead>\n",
              "  <tbody>\n",
              "    <tr>\n",
              "      <th>count</th>\n",
              "      <td>8736.000000</td>\n",
              "      <td>8736.000000</td>\n",
              "      <td>2392.000000</td>\n",
              "      <td>4784.000000</td>\n",
              "      <td>4784.000000</td>\n",
              "      <td>13728.000000</td>\n",
              "    </tr>\n",
              "    <tr>\n",
              "      <th>mean</th>\n",
              "      <td>0.562058</td>\n",
              "      <td>0.562058</td>\n",
              "      <td>0.018123</td>\n",
              "      <td>0.018286</td>\n",
              "      <td>0.052962</td>\n",
              "      <td>30.307692</td>\n",
              "    </tr>\n",
              "    <tr>\n",
              "      <th>std</th>\n",
              "      <td>0.349268</td>\n",
              "      <td>0.349268</td>\n",
              "      <td>0.047639</td>\n",
              "      <td>0.021777</td>\n",
              "      <td>0.061780</td>\n",
              "      <td>18.264268</td>\n",
              "    </tr>\n",
              "    <tr>\n",
              "      <th>min</th>\n",
              "      <td>0.000000</td>\n",
              "      <td>0.000000</td>\n",
              "      <td>-0.160000</td>\n",
              "      <td>-0.050000</td>\n",
              "      <td>-0.080000</td>\n",
              "      <td>1.000000</td>\n",
              "    </tr>\n",
              "    <tr>\n",
              "      <th>25%</th>\n",
              "      <td>0.230000</td>\n",
              "      <td>0.230000</td>\n",
              "      <td>0.000000</td>\n",
              "      <td>0.000000</td>\n",
              "      <td>0.020000</td>\n",
              "      <td>16.750000</td>\n",
              "    </tr>\n",
              "    <tr>\n",
              "      <th>50%</th>\n",
              "      <td>0.420000</td>\n",
              "      <td>0.420000</td>\n",
              "      <td>0.010000</td>\n",
              "      <td>0.010000</td>\n",
              "      <td>0.030000</td>\n",
              "      <td>29.500000</td>\n",
              "    </tr>\n",
              "    <tr>\n",
              "      <th>75%</th>\n",
              "      <td>1.000000</td>\n",
              "      <td>1.000000</td>\n",
              "      <td>0.050000</td>\n",
              "      <td>0.030000</td>\n",
              "      <td>0.070000</td>\n",
              "      <td>42.500000</td>\n",
              "    </tr>\n",
              "    <tr>\n",
              "      <th>max</th>\n",
              "      <td>1.000000</td>\n",
              "      <td>1.000000</td>\n",
              "      <td>0.160000</td>\n",
              "      <td>0.140000</td>\n",
              "      <td>0.350000</td>\n",
              "      <td>99.000000</td>\n",
              "    </tr>\n",
              "  </tbody>\n",
              "</table>\n",
              "</div>\n",
              "      <button class=\"colab-df-convert\" onclick=\"convertToInteractive('df-02d9429a-f70c-4b3e-bc28-c9e7202ad948')\"\n",
              "              title=\"Convert this dataframe to an interactive table.\"\n",
              "              style=\"display:none;\">\n",
              "        \n",
              "  <svg xmlns=\"http://www.w3.org/2000/svg\" height=\"24px\"viewBox=\"0 0 24 24\"\n",
              "       width=\"24px\">\n",
              "    <path d=\"M0 0h24v24H0V0z\" fill=\"none\"/>\n",
              "    <path d=\"M18.56 5.44l.94 2.06.94-2.06 2.06-.94-2.06-.94-.94-2.06-.94 2.06-2.06.94zm-11 1L8.5 8.5l.94-2.06 2.06-.94-2.06-.94L8.5 2.5l-.94 2.06-2.06.94zm10 10l.94 2.06.94-2.06 2.06-.94-2.06-.94-.94-2.06-.94 2.06-2.06.94z\"/><path d=\"M17.41 7.96l-1.37-1.37c-.4-.4-.92-.59-1.43-.59-.52 0-1.04.2-1.43.59L10.3 9.45l-7.72 7.72c-.78.78-.78 2.05 0 2.83L4 21.41c.39.39.9.59 1.41.59.51 0 1.02-.2 1.41-.59l7.78-7.78 2.81-2.81c.8-.78.8-2.07 0-2.86zM5.41 20L4 18.59l7.72-7.72 1.47 1.35L5.41 20z\"/>\n",
              "  </svg>\n",
              "      </button>\n",
              "      \n",
              "  <style>\n",
              "    .colab-df-container {\n",
              "      display:flex;\n",
              "      flex-wrap:wrap;\n",
              "      gap: 12px;\n",
              "    }\n",
              "\n",
              "    .colab-df-convert {\n",
              "      background-color: #E8F0FE;\n",
              "      border: none;\n",
              "      border-radius: 50%;\n",
              "      cursor: pointer;\n",
              "      display: none;\n",
              "      fill: #1967D2;\n",
              "      height: 32px;\n",
              "      padding: 0 0 0 0;\n",
              "      width: 32px;\n",
              "    }\n",
              "\n",
              "    .colab-df-convert:hover {\n",
              "      background-color: #E2EBFA;\n",
              "      box-shadow: 0px 1px 2px rgba(60, 64, 67, 0.3), 0px 1px 3px 1px rgba(60, 64, 67, 0.15);\n",
              "      fill: #174EA6;\n",
              "    }\n",
              "\n",
              "    [theme=dark] .colab-df-convert {\n",
              "      background-color: #3B4455;\n",
              "      fill: #D2E3FC;\n",
              "    }\n",
              "\n",
              "    [theme=dark] .colab-df-convert:hover {\n",
              "      background-color: #434B5C;\n",
              "      box-shadow: 0px 1px 3px 1px rgba(0, 0, 0, 0.15);\n",
              "      filter: drop-shadow(0px 1px 2px rgba(0, 0, 0, 0.3));\n",
              "      fill: #FFFFFF;\n",
              "    }\n",
              "  </style>\n",
              "\n",
              "      <script>\n",
              "        const buttonEl =\n",
              "          document.querySelector('#df-02d9429a-f70c-4b3e-bc28-c9e7202ad948 button.colab-df-convert');\n",
              "        buttonEl.style.display =\n",
              "          google.colab.kernel.accessAllowed ? 'block' : 'none';\n",
              "\n",
              "        async function convertToInteractive(key) {\n",
              "          const element = document.querySelector('#df-02d9429a-f70c-4b3e-bc28-c9e7202ad948');\n",
              "          const dataTable =\n",
              "            await google.colab.kernel.invokeFunction('convertToInteractive',\n",
              "                                                     [key], {});\n",
              "          if (!dataTable) return;\n",
              "\n",
              "          const docLinkHtml = 'Like what you see? Visit the ' +\n",
              "            '<a target=\"_blank\" href=https://colab.research.google.com/notebooks/data_table.ipynb>data table notebook</a>'\n",
              "            + ' to learn more about interactive tables.';\n",
              "          element.innerHTML = '';\n",
              "          dataTable['output_type'] = 'display_data';\n",
              "          await google.colab.output.renderOutput(dataTable, element);\n",
              "          const docLink = document.createElement('div');\n",
              "          docLink.innerHTML = docLinkHtml;\n",
              "          element.appendChild(docLink);\n",
              "        }\n",
              "      </script>\n",
              "    </div>\n",
              "  </div>\n",
              "  "
            ]
          },
          "metadata": {},
          "execution_count": 27
        }
      ]
    },
    {
      "cell_type": "code",
      "source": [
        "# What is the target?\n",
        "# The target is Cause_of_Death\n"
      ],
      "metadata": {
        "id": "FdV41gH6dsWV"
      },
      "execution_count": null,
      "outputs": []
    },
    {
      "cell_type": "code",
      "source": [
        "# 4) Is this a classification or regression problem?\n",
        "# This is a Classification problem (Using Nominal categorical features)\n",
        "df.isna().sum()"
      ],
      "metadata": {
        "colab": {
          "base_uri": "https://localhost:8080/"
        },
        "id": "uGeVNDWzeosU",
        "outputId": "46e35ca5-8de8-4ac1-fe6f-bb70c80f9eaf"
      },
      "execution_count": null,
      "outputs": [
        {
          "output_type": "execute_result",
          "data": {
            "text/plain": [
              "Associated_AAD_YPLL_Years         0\n",
              "LocationAbbr                      0\n",
              "LocationDesc                      0\n",
              "DataSource                        0\n",
              "Data_Value_Unit                   0\n",
              "ConditionType                     0\n",
              "Category                          0\n",
              "Cause_of_Death                    0\n",
              "Direct_AAF                     4992\n",
              "Direct_AAF_Alt                 4992\n",
              "Indirect_AAF_Low              11128\n",
              "Indirect_AAF_Low_Alt          11336\n",
              "Indirect_AAF_Medium            8736\n",
              "Indirect_AAF_Medium_Alt        8944\n",
              "Indirect_AAF_High              8736\n",
              "Indirect_AAF_High_Alt          8944\n",
              "Data_Value_Footnote_Symbol    12272\n",
              "Data_Value_Footnote           12272\n",
              "ConsumptionPattern                0\n",
              "Sex                               0\n",
              "AgeGroup                          0\n",
              "LocationID                        0\n",
              "ConditionTypeID                   0\n",
              "CategoryID                        0\n",
              "Cause_of_Death_ID                 0\n",
              "ConsumptionID                     0\n",
              "SexID                             0\n",
              "AgeGroupID                        0\n",
              "DataValueUnitID                   0\n",
              "dtype: int64"
            ]
          },
          "metadata": {},
          "execution_count": 31
        }
      ]
    },
    {
      "cell_type": "code",
      "source": [
        "# 5) How many features?\n",
        "df.shape\n",
        "\n",
        "# There are 28 features"
      ],
      "metadata": {
        "colab": {
          "base_uri": "https://localhost:8080/"
        },
        "id": "jXQ9zHjjfRgP",
        "outputId": "ad90b087-8a6c-409e-ba5c-22ed827facc4"
      },
      "execution_count": null,
      "outputs": [
        {
          "output_type": "execute_result",
          "data": {
            "text/plain": [
              "(13728, 29)"
            ]
          },
          "metadata": {},
          "execution_count": 33
        }
      ]
    },
    {
      "cell_type": "code",
      "source": [
        "# 6) How many rows of data.\n",
        "\n",
        "# There are 13728 rows"
      ],
      "metadata": {
        "id": "m4xEQXvCgjlC"
      },
      "execution_count": null,
      "outputs": []
    },
    {
      "cell_type": "code",
      "source": [
        "#  7) What, if any, challenges do your foresee in cleaning, exploring, or modeling with this dataset?\n",
        "\n",
        "df.isnull().sum()\n",
        "# I foresee less accurate predictions in model predictions due to many some alot of missing data"
      ],
      "metadata": {
        "colab": {
          "base_uri": "https://localhost:8080/"
        },
        "id": "c1biX_jSgu9X",
        "outputId": "11ddda98-7fbc-463c-92f0-fb11b4805739"
      },
      "execution_count": null,
      "outputs": [
        {
          "output_type": "execute_result",
          "data": {
            "text/plain": [
              "Associated_AAD_YPLL_Years         0\n",
              "LocationAbbr                      0\n",
              "LocationDesc                      0\n",
              "DataSource                        0\n",
              "Data_Value_Unit                   0\n",
              "ConditionType                     0\n",
              "Category                          0\n",
              "Cause_of_Death                    0\n",
              "Direct_AAF                     4992\n",
              "Direct_AAF_Alt                 4992\n",
              "Indirect_AAF_Low              11128\n",
              "Indirect_AAF_Low_Alt          11336\n",
              "Indirect_AAF_Medium            8736\n",
              "Indirect_AAF_Medium_Alt        8944\n",
              "Indirect_AAF_High              8736\n",
              "Indirect_AAF_High_Alt          8944\n",
              "Data_Value_Footnote_Symbol    12272\n",
              "Data_Value_Footnote           12272\n",
              "ConsumptionPattern                0\n",
              "Sex                               0\n",
              "AgeGroup                          0\n",
              "LocationID                        0\n",
              "ConditionTypeID                   0\n",
              "CategoryID                        0\n",
              "Cause_of_Death_ID                 0\n",
              "ConsumptionID                     0\n",
              "SexID                             0\n",
              "AgeGroupID                        0\n",
              "DataValueUnitID                   0\n",
              "dtype: int64"
            ]
          },
          "metadata": {},
          "execution_count": 34
        }
      ]
    },
    {
      "cell_type": "code",
      "source": [
        "df.dtypes"
      ],
      "metadata": {
        "colab": {
          "base_uri": "https://localhost:8080/"
        },
        "id": "zOA4ygSGhbqv",
        "outputId": "e2688e1e-970d-4ce2-caae-6537fdb0169a"
      },
      "execution_count": null,
      "outputs": [
        {
          "output_type": "execute_result",
          "data": {
            "text/plain": [
              "Associated_AAD_YPLL_Years      object\n",
              "LocationAbbr                   object\n",
              "LocationDesc                   object\n",
              "DataSource                     object\n",
              "Data_Value_Unit                object\n",
              "ConditionType                  object\n",
              "Category                       object\n",
              "Cause_of_Death                 object\n",
              "Direct_AAF                    float64\n",
              "Direct_AAF_Alt                float64\n",
              "Indirect_AAF_Low               object\n",
              "Indirect_AAF_Low_Alt          float64\n",
              "Indirect_AAF_Medium            object\n",
              "Indirect_AAF_Medium_Alt       float64\n",
              "Indirect_AAF_High              object\n",
              "Indirect_AAF_High_Alt         float64\n",
              "Data_Value_Footnote_Symbol     object\n",
              "Data_Value_Footnote            object\n",
              "ConsumptionPattern             object\n",
              "Sex                            object\n",
              "AgeGroup                       object\n",
              "LocationID                      int64\n",
              "ConditionTypeID                object\n",
              "CategoryID                     object\n",
              "Cause_of_Death_ID              object\n",
              "ConsumptionID                  object\n",
              "SexID                          object\n",
              "AgeGroupID                     object\n",
              "DataValueUnitID                object\n",
              "dtype: object"
            ]
          },
          "metadata": {},
          "execution_count": 35
        }
      ]
    },
    {
      "cell_type": "markdown",
      "source": [
        "Dataset 2:\n",
        "\n",
        "DATASET SOURCE:"
      ],
      "metadata": {
        "id": "-t87tE8hiUr5"
      }
    },
    {
      "cell_type": "code",
      "source": [
        "# Create new dataframe\n",
        "df1 = pd.read_csv('/content/sample_data/Alcohol-Related_Disease_Impact.csv')\n",
        "# https://catalog.data.gov/dataset/national-health-and-nutrition-examination-survey-nhanes-national-cardiovascular-disease-su-00a88\n",
        "df1.head()"
      ],
      "metadata": {
        "id": "yyE-SZ0Lc8lD"
      },
      "execution_count": null,
      "outputs": []
    }
  ]
}