{
  "cells": [
    {
      "cell_type": "markdown",
      "metadata": {
        "id": "view-in-github",
        "colab_type": "text"
      },
      "source": [
        "<a href=\"https://colab.research.google.com/github/tendomart/codingdojo/blob/main/Core_Project4.ipynb\" target=\"_parent\"><img src=\"https://colab.research.google.com/assets/colab-badge.svg\" alt=\"Open In Colab\"/></a>"
      ]
    },
    {
      "cell_type": "markdown",
      "metadata": {
        "id": "nUKrFRRaws2d"
      },
      "source": [
        "Dataset 1:\n",
        "\n",
        "DATASET SOURCE : \n",
        "https://catalog.data.gov/dataset/alcohol-related-disease-impact-ardi-application-alcohol-attributable-fractions\n"
      ]
    },
    {
      "cell_type": "markdown",
      "metadata": {
        "id": "PGd-rI7G3mku"
      },
      "source": [
        "2) Brief description of the data\n",
        "\n",
        " Alcohol-Related Disease Impact (ARDI) Application - Alcohol-Attributable Fractions\n",
        "\n",
        "\n",
        "ARDI is an online application that provides national and state estimates of alcohol-related health impacts, including deaths and years of potential life lost (YPLL). These estimates are calculated for 58 acute and chronic causes using alcohol-attributable fractions, and are reported by age and sex for 2015-2019. This dataset provides estimates of the proportion of deaths from various causes that are attributable to alcohol.\n",
        "\n",
        "FURTHER READING : https://pubmed.ncbi.nlm.nih.gov/1652146/\n",
        "\n"
      ]
    },
    {
      "cell_type": "code",
      "source": [
        "from google.colab import drive\n",
        "drive.mount('/content/drive')"
      ],
      "metadata": {
        "colab": {
          "base_uri": "https://localhost:8080/"
        },
        "id": "d9dIeI17268i",
        "outputId": "8548da16-728a-4211-db78-c8c5d9258726"
      },
      "execution_count": 232,
      "outputs": [
        {
          "output_type": "stream",
          "name": "stdout",
          "text": [
            "Drive already mounted at /content/drive; to attempt to forcibly remount, call drive.mount(\"/content/drive\", force_remount=True).\n"
          ]
        }
      ]
    },
    {
      "cell_type": "code",
      "execution_count": 233,
      "metadata": {
        "id": "51AVCRN4jt3s"
      },
      "outputs": [],
      "source": [
        "# import libraries\n",
        "import pandas as pd\n",
        "import numpy as np\n",
        "from sklearn.model_selection import train_test_split\n",
        "from sklearn.compose import make_column_selector\n",
        "from sklearn.preprocessing import OneHotEncoder\n",
        "from sklearn import preprocessing\n",
        "  "
      ]
    },
    {
      "cell_type": "code",
      "execution_count": 265,
      "metadata": {
        "colab": {
          "base_uri": "https://localhost:8080/",
          "height": 473
        },
        "id": "Okms36W1kOQf",
        "outputId": "ebb7651b-9d00-4f3e-d553-7ab7a4289fc3"
      },
      "outputs": [
        {
          "output_type": "execute_result",
          "data": {
            "text/plain": [
              "  Associated_AAD_YPLL_Years  LocationAbbr LocationDesc DataSource  \\\n",
              "0                  2015-2019           WY      Wyoming       ARDI   \n",
              "1                  2015-2019           WY      Wyoming       ARDI   \n",
              "2                  2015-2019           WY      Wyoming       ARDI   \n",
              "3                  2015-2019           WY      Wyoming       ARDI   \n",
              "4                  2015-2019           WY      Wyoming       ARDI   \n",
              "\n",
              "                  Data_Value_Unit ConditionType            Category  \\\n",
              "0  Alcohol-Attributable Fractions         Acute  Other Acute Causes   \n",
              "1  Alcohol-Attributable Fractions         Acute  Other Acute Causes   \n",
              "2  Alcohol-Attributable Fractions         Acute  Other Acute Causes   \n",
              "3  Alcohol-Attributable Fractions         Acute  Other Acute Causes   \n",
              "4  Alcohol-Attributable Fractions         Acute  Other Acute Causes   \n",
              "\n",
              "  Cause_of_Death  Direct_AAF  Direct_AAF_Alt  ...     Sex  AgeGroup  \\\n",
              "0       Drowning        0.34            0.34  ...  Female   Overall   \n",
              "1       Drowning        0.34            0.34  ...    Male   Overall   \n",
              "2  Fall injuries        0.32            0.32  ...  Female   Overall   \n",
              "3  Fall injuries        0.32            0.32  ...    Male   Overall   \n",
              "4  Fire injuries        0.42            0.42  ...  Female   Overall   \n",
              "\n",
              "  LocationID  ConditionTypeID CategoryID  Cause_of_Death_ID ConsumptionID  \\\n",
              "0         56            ACUTE       CAT9             DROWNI        ANYALC   \n",
              "1         56            ACUTE       CAT9             DROWNI        ANYALC   \n",
              "2         56            ACUTE       CAT9             FALLIN        ANYALC   \n",
              "3         56            ACUTE       CAT9             FALLIN        ANYALC   \n",
              "4         56            ACUTE       CAT9             FIREIN        ANYALC   \n",
              "\n",
              "  SexID AgeGroupID DataValueUnitID  \n",
              "0  GENF       Age0       5YEARSAVG  \n",
              "1  GENM       Age0       5YEARSAVG  \n",
              "2  GENF       Age0       5YEARSAVG  \n",
              "3  GENM       Age0       5YEARSAVG  \n",
              "4  GENF       Age0       5YEARSAVG  \n",
              "\n",
              "[5 rows x 29 columns]"
            ],
            "text/html": [
              "\n",
              "  <div id=\"df-d4ec8beb-3337-4283-83a1-39a46b408270\">\n",
              "    <div class=\"colab-df-container\">\n",
              "      <div>\n",
              "<style scoped>\n",
              "    .dataframe tbody tr th:only-of-type {\n",
              "        vertical-align: middle;\n",
              "    }\n",
              "\n",
              "    .dataframe tbody tr th {\n",
              "        vertical-align: top;\n",
              "    }\n",
              "\n",
              "    .dataframe thead th {\n",
              "        text-align: right;\n",
              "    }\n",
              "</style>\n",
              "<table border=\"1\" class=\"dataframe\">\n",
              "  <thead>\n",
              "    <tr style=\"text-align: right;\">\n",
              "      <th></th>\n",
              "      <th>Associated_AAD_YPLL_Years</th>\n",
              "      <th>LocationAbbr</th>\n",
              "      <th>LocationDesc</th>\n",
              "      <th>DataSource</th>\n",
              "      <th>Data_Value_Unit</th>\n",
              "      <th>ConditionType</th>\n",
              "      <th>Category</th>\n",
              "      <th>Cause_of_Death</th>\n",
              "      <th>Direct_AAF</th>\n",
              "      <th>Direct_AAF_Alt</th>\n",
              "      <th>...</th>\n",
              "      <th>Sex</th>\n",
              "      <th>AgeGroup</th>\n",
              "      <th>LocationID</th>\n",
              "      <th>ConditionTypeID</th>\n",
              "      <th>CategoryID</th>\n",
              "      <th>Cause_of_Death_ID</th>\n",
              "      <th>ConsumptionID</th>\n",
              "      <th>SexID</th>\n",
              "      <th>AgeGroupID</th>\n",
              "      <th>DataValueUnitID</th>\n",
              "    </tr>\n",
              "  </thead>\n",
              "  <tbody>\n",
              "    <tr>\n",
              "      <th>0</th>\n",
              "      <td>2015-2019</td>\n",
              "      <td>WY</td>\n",
              "      <td>Wyoming</td>\n",
              "      <td>ARDI</td>\n",
              "      <td>Alcohol-Attributable Fractions</td>\n",
              "      <td>Acute</td>\n",
              "      <td>Other Acute Causes</td>\n",
              "      <td>Drowning</td>\n",
              "      <td>0.34</td>\n",
              "      <td>0.34</td>\n",
              "      <td>...</td>\n",
              "      <td>Female</td>\n",
              "      <td>Overall</td>\n",
              "      <td>56</td>\n",
              "      <td>ACUTE</td>\n",
              "      <td>CAT9</td>\n",
              "      <td>DROWNI</td>\n",
              "      <td>ANYALC</td>\n",
              "      <td>GENF</td>\n",
              "      <td>Age0</td>\n",
              "      <td>5YEARSAVG</td>\n",
              "    </tr>\n",
              "    <tr>\n",
              "      <th>1</th>\n",
              "      <td>2015-2019</td>\n",
              "      <td>WY</td>\n",
              "      <td>Wyoming</td>\n",
              "      <td>ARDI</td>\n",
              "      <td>Alcohol-Attributable Fractions</td>\n",
              "      <td>Acute</td>\n",
              "      <td>Other Acute Causes</td>\n",
              "      <td>Drowning</td>\n",
              "      <td>0.34</td>\n",
              "      <td>0.34</td>\n",
              "      <td>...</td>\n",
              "      <td>Male</td>\n",
              "      <td>Overall</td>\n",
              "      <td>56</td>\n",
              "      <td>ACUTE</td>\n",
              "      <td>CAT9</td>\n",
              "      <td>DROWNI</td>\n",
              "      <td>ANYALC</td>\n",
              "      <td>GENM</td>\n",
              "      <td>Age0</td>\n",
              "      <td>5YEARSAVG</td>\n",
              "    </tr>\n",
              "    <tr>\n",
              "      <th>2</th>\n",
              "      <td>2015-2019</td>\n",
              "      <td>WY</td>\n",
              "      <td>Wyoming</td>\n",
              "      <td>ARDI</td>\n",
              "      <td>Alcohol-Attributable Fractions</td>\n",
              "      <td>Acute</td>\n",
              "      <td>Other Acute Causes</td>\n",
              "      <td>Fall injuries</td>\n",
              "      <td>0.32</td>\n",
              "      <td>0.32</td>\n",
              "      <td>...</td>\n",
              "      <td>Female</td>\n",
              "      <td>Overall</td>\n",
              "      <td>56</td>\n",
              "      <td>ACUTE</td>\n",
              "      <td>CAT9</td>\n",
              "      <td>FALLIN</td>\n",
              "      <td>ANYALC</td>\n",
              "      <td>GENF</td>\n",
              "      <td>Age0</td>\n",
              "      <td>5YEARSAVG</td>\n",
              "    </tr>\n",
              "    <tr>\n",
              "      <th>3</th>\n",
              "      <td>2015-2019</td>\n",
              "      <td>WY</td>\n",
              "      <td>Wyoming</td>\n",
              "      <td>ARDI</td>\n",
              "      <td>Alcohol-Attributable Fractions</td>\n",
              "      <td>Acute</td>\n",
              "      <td>Other Acute Causes</td>\n",
              "      <td>Fall injuries</td>\n",
              "      <td>0.32</td>\n",
              "      <td>0.32</td>\n",
              "      <td>...</td>\n",
              "      <td>Male</td>\n",
              "      <td>Overall</td>\n",
              "      <td>56</td>\n",
              "      <td>ACUTE</td>\n",
              "      <td>CAT9</td>\n",
              "      <td>FALLIN</td>\n",
              "      <td>ANYALC</td>\n",
              "      <td>GENM</td>\n",
              "      <td>Age0</td>\n",
              "      <td>5YEARSAVG</td>\n",
              "    </tr>\n",
              "    <tr>\n",
              "      <th>4</th>\n",
              "      <td>2015-2019</td>\n",
              "      <td>WY</td>\n",
              "      <td>Wyoming</td>\n",
              "      <td>ARDI</td>\n",
              "      <td>Alcohol-Attributable Fractions</td>\n",
              "      <td>Acute</td>\n",
              "      <td>Other Acute Causes</td>\n",
              "      <td>Fire injuries</td>\n",
              "      <td>0.42</td>\n",
              "      <td>0.42</td>\n",
              "      <td>...</td>\n",
              "      <td>Female</td>\n",
              "      <td>Overall</td>\n",
              "      <td>56</td>\n",
              "      <td>ACUTE</td>\n",
              "      <td>CAT9</td>\n",
              "      <td>FIREIN</td>\n",
              "      <td>ANYALC</td>\n",
              "      <td>GENF</td>\n",
              "      <td>Age0</td>\n",
              "      <td>5YEARSAVG</td>\n",
              "    </tr>\n",
              "  </tbody>\n",
              "</table>\n",
              "<p>5 rows × 29 columns</p>\n",
              "</div>\n",
              "      <button class=\"colab-df-convert\" onclick=\"convertToInteractive('df-d4ec8beb-3337-4283-83a1-39a46b408270')\"\n",
              "              title=\"Convert this dataframe to an interactive table.\"\n",
              "              style=\"display:none;\">\n",
              "        \n",
              "  <svg xmlns=\"http://www.w3.org/2000/svg\" height=\"24px\"viewBox=\"0 0 24 24\"\n",
              "       width=\"24px\">\n",
              "    <path d=\"M0 0h24v24H0V0z\" fill=\"none\"/>\n",
              "    <path d=\"M18.56 5.44l.94 2.06.94-2.06 2.06-.94-2.06-.94-.94-2.06-.94 2.06-2.06.94zm-11 1L8.5 8.5l.94-2.06 2.06-.94-2.06-.94L8.5 2.5l-.94 2.06-2.06.94zm10 10l.94 2.06.94-2.06 2.06-.94-2.06-.94-.94-2.06-.94 2.06-2.06.94z\"/><path d=\"M17.41 7.96l-1.37-1.37c-.4-.4-.92-.59-1.43-.59-.52 0-1.04.2-1.43.59L10.3 9.45l-7.72 7.72c-.78.78-.78 2.05 0 2.83L4 21.41c.39.39.9.59 1.41.59.51 0 1.02-.2 1.41-.59l7.78-7.78 2.81-2.81c.8-.78.8-2.07 0-2.86zM5.41 20L4 18.59l7.72-7.72 1.47 1.35L5.41 20z\"/>\n",
              "  </svg>\n",
              "      </button>\n",
              "      \n",
              "  <style>\n",
              "    .colab-df-container {\n",
              "      display:flex;\n",
              "      flex-wrap:wrap;\n",
              "      gap: 12px;\n",
              "    }\n",
              "\n",
              "    .colab-df-convert {\n",
              "      background-color: #E8F0FE;\n",
              "      border: none;\n",
              "      border-radius: 50%;\n",
              "      cursor: pointer;\n",
              "      display: none;\n",
              "      fill: #1967D2;\n",
              "      height: 32px;\n",
              "      padding: 0 0 0 0;\n",
              "      width: 32px;\n",
              "    }\n",
              "\n",
              "    .colab-df-convert:hover {\n",
              "      background-color: #E2EBFA;\n",
              "      box-shadow: 0px 1px 2px rgba(60, 64, 67, 0.3), 0px 1px 3px 1px rgba(60, 64, 67, 0.15);\n",
              "      fill: #174EA6;\n",
              "    }\n",
              "\n",
              "    [theme=dark] .colab-df-convert {\n",
              "      background-color: #3B4455;\n",
              "      fill: #D2E3FC;\n",
              "    }\n",
              "\n",
              "    [theme=dark] .colab-df-convert:hover {\n",
              "      background-color: #434B5C;\n",
              "      box-shadow: 0px 1px 3px 1px rgba(0, 0, 0, 0.15);\n",
              "      filter: drop-shadow(0px 1px 2px rgba(0, 0, 0, 0.3));\n",
              "      fill: #FFFFFF;\n",
              "    }\n",
              "  </style>\n",
              "\n",
              "      <script>\n",
              "        const buttonEl =\n",
              "          document.querySelector('#df-d4ec8beb-3337-4283-83a1-39a46b408270 button.colab-df-convert');\n",
              "        buttonEl.style.display =\n",
              "          google.colab.kernel.accessAllowed ? 'block' : 'none';\n",
              "\n",
              "        async function convertToInteractive(key) {\n",
              "          const element = document.querySelector('#df-d4ec8beb-3337-4283-83a1-39a46b408270');\n",
              "          const dataTable =\n",
              "            await google.colab.kernel.invokeFunction('convertToInteractive',\n",
              "                                                     [key], {});\n",
              "          if (!dataTable) return;\n",
              "\n",
              "          const docLinkHtml = 'Like what you see? Visit the ' +\n",
              "            '<a target=\"_blank\" href=https://colab.research.google.com/notebooks/data_table.ipynb>data table notebook</a>'\n",
              "            + ' to learn more about interactive tables.';\n",
              "          element.innerHTML = '';\n",
              "          dataTable['output_type'] = 'display_data';\n",
              "          await google.colab.output.renderOutput(dataTable, element);\n",
              "          const docLink = document.createElement('div');\n",
              "          docLink.innerHTML = docLinkHtml;\n",
              "          element.appendChild(docLink);\n",
              "        }\n",
              "      </script>\n",
              "    </div>\n",
              "  </div>\n",
              "  "
            ]
          },
          "metadata": {},
          "execution_count": 265
        }
      ],
      "source": [
        "# import dataset\n",
        "\n",
        "df = pd.read_csv('/content/sample_data/Alcohol-Related_Disease_Impact__ARDI__Application_-_Alcohol-Attributable_Fractions.csv')\n",
        "# https://catalog.data.gov/dataset/alcohol-related-disease-impact-ardi-application-alcohol-attributable-fractions\n",
        "df.head()"
      ]
    },
    {
      "cell_type": "code",
      "execution_count": 235,
      "metadata": {
        "colab": {
          "base_uri": "https://localhost:8080/"
        },
        "id": "VaDJXz5xkg1L",
        "outputId": "28528c0d-4988-4865-b027-4f516383ef22"
      },
      "outputs": [
        {
          "output_type": "execute_result",
          "data": {
            "text/plain": [
              "(13728, 29)"
            ]
          },
          "metadata": {},
          "execution_count": 235
        }
      ],
      "source": [
        "# Count number of Rows and columns\n",
        "df.shape"
      ]
    },
    {
      "cell_type": "code",
      "execution_count": 236,
      "metadata": {
        "colab": {
          "base_uri": "https://localhost:8080/",
          "height": 300
        },
        "id": "cktZaJxbw7hu",
        "outputId": "2abb27cf-bd24-4e52-c0b7-b4b1b78edf98"
      },
      "outputs": [
        {
          "output_type": "execute_result",
          "data": {
            "text/plain": [
              "        Direct_AAF  Direct_AAF_Alt  Indirect_AAF_Low_Alt  \\\n",
              "count  8736.000000     8736.000000           2392.000000   \n",
              "mean      0.562058        0.562058              0.018123   \n",
              "std       0.349268        0.349268              0.047639   \n",
              "min       0.000000        0.000000             -0.160000   \n",
              "25%       0.230000        0.230000              0.000000   \n",
              "50%       0.420000        0.420000              0.010000   \n",
              "75%       1.000000        1.000000              0.050000   \n",
              "max       1.000000        1.000000              0.160000   \n",
              "\n",
              "       Indirect_AAF_Medium_Alt  Indirect_AAF_High_Alt    LocationID  \n",
              "count              4784.000000            4784.000000  13728.000000  \n",
              "mean                  0.018286               0.052962     30.307692  \n",
              "std                   0.021777               0.061780     18.264268  \n",
              "min                  -0.050000              -0.080000      1.000000  \n",
              "25%                   0.000000               0.020000     16.750000  \n",
              "50%                   0.010000               0.030000     29.500000  \n",
              "75%                   0.030000               0.070000     42.500000  \n",
              "max                   0.140000               0.350000     99.000000  "
            ],
            "text/html": [
              "\n",
              "  <div id=\"df-488909e5-eb04-4b45-90cc-dc80ec1305cb\">\n",
              "    <div class=\"colab-df-container\">\n",
              "      <div>\n",
              "<style scoped>\n",
              "    .dataframe tbody tr th:only-of-type {\n",
              "        vertical-align: middle;\n",
              "    }\n",
              "\n",
              "    .dataframe tbody tr th {\n",
              "        vertical-align: top;\n",
              "    }\n",
              "\n",
              "    .dataframe thead th {\n",
              "        text-align: right;\n",
              "    }\n",
              "</style>\n",
              "<table border=\"1\" class=\"dataframe\">\n",
              "  <thead>\n",
              "    <tr style=\"text-align: right;\">\n",
              "      <th></th>\n",
              "      <th>Direct_AAF</th>\n",
              "      <th>Direct_AAF_Alt</th>\n",
              "      <th>Indirect_AAF_Low_Alt</th>\n",
              "      <th>Indirect_AAF_Medium_Alt</th>\n",
              "      <th>Indirect_AAF_High_Alt</th>\n",
              "      <th>LocationID</th>\n",
              "    </tr>\n",
              "  </thead>\n",
              "  <tbody>\n",
              "    <tr>\n",
              "      <th>count</th>\n",
              "      <td>8736.000000</td>\n",
              "      <td>8736.000000</td>\n",
              "      <td>2392.000000</td>\n",
              "      <td>4784.000000</td>\n",
              "      <td>4784.000000</td>\n",
              "      <td>13728.000000</td>\n",
              "    </tr>\n",
              "    <tr>\n",
              "      <th>mean</th>\n",
              "      <td>0.562058</td>\n",
              "      <td>0.562058</td>\n",
              "      <td>0.018123</td>\n",
              "      <td>0.018286</td>\n",
              "      <td>0.052962</td>\n",
              "      <td>30.307692</td>\n",
              "    </tr>\n",
              "    <tr>\n",
              "      <th>std</th>\n",
              "      <td>0.349268</td>\n",
              "      <td>0.349268</td>\n",
              "      <td>0.047639</td>\n",
              "      <td>0.021777</td>\n",
              "      <td>0.061780</td>\n",
              "      <td>18.264268</td>\n",
              "    </tr>\n",
              "    <tr>\n",
              "      <th>min</th>\n",
              "      <td>0.000000</td>\n",
              "      <td>0.000000</td>\n",
              "      <td>-0.160000</td>\n",
              "      <td>-0.050000</td>\n",
              "      <td>-0.080000</td>\n",
              "      <td>1.000000</td>\n",
              "    </tr>\n",
              "    <tr>\n",
              "      <th>25%</th>\n",
              "      <td>0.230000</td>\n",
              "      <td>0.230000</td>\n",
              "      <td>0.000000</td>\n",
              "      <td>0.000000</td>\n",
              "      <td>0.020000</td>\n",
              "      <td>16.750000</td>\n",
              "    </tr>\n",
              "    <tr>\n",
              "      <th>50%</th>\n",
              "      <td>0.420000</td>\n",
              "      <td>0.420000</td>\n",
              "      <td>0.010000</td>\n",
              "      <td>0.010000</td>\n",
              "      <td>0.030000</td>\n",
              "      <td>29.500000</td>\n",
              "    </tr>\n",
              "    <tr>\n",
              "      <th>75%</th>\n",
              "      <td>1.000000</td>\n",
              "      <td>1.000000</td>\n",
              "      <td>0.050000</td>\n",
              "      <td>0.030000</td>\n",
              "      <td>0.070000</td>\n",
              "      <td>42.500000</td>\n",
              "    </tr>\n",
              "    <tr>\n",
              "      <th>max</th>\n",
              "      <td>1.000000</td>\n",
              "      <td>1.000000</td>\n",
              "      <td>0.160000</td>\n",
              "      <td>0.140000</td>\n",
              "      <td>0.350000</td>\n",
              "      <td>99.000000</td>\n",
              "    </tr>\n",
              "  </tbody>\n",
              "</table>\n",
              "</div>\n",
              "      <button class=\"colab-df-convert\" onclick=\"convertToInteractive('df-488909e5-eb04-4b45-90cc-dc80ec1305cb')\"\n",
              "              title=\"Convert this dataframe to an interactive table.\"\n",
              "              style=\"display:none;\">\n",
              "        \n",
              "  <svg xmlns=\"http://www.w3.org/2000/svg\" height=\"24px\"viewBox=\"0 0 24 24\"\n",
              "       width=\"24px\">\n",
              "    <path d=\"M0 0h24v24H0V0z\" fill=\"none\"/>\n",
              "    <path d=\"M18.56 5.44l.94 2.06.94-2.06 2.06-.94-2.06-.94-.94-2.06-.94 2.06-2.06.94zm-11 1L8.5 8.5l.94-2.06 2.06-.94-2.06-.94L8.5 2.5l-.94 2.06-2.06.94zm10 10l.94 2.06.94-2.06 2.06-.94-2.06-.94-.94-2.06-.94 2.06-2.06.94z\"/><path d=\"M17.41 7.96l-1.37-1.37c-.4-.4-.92-.59-1.43-.59-.52 0-1.04.2-1.43.59L10.3 9.45l-7.72 7.72c-.78.78-.78 2.05 0 2.83L4 21.41c.39.39.9.59 1.41.59.51 0 1.02-.2 1.41-.59l7.78-7.78 2.81-2.81c.8-.78.8-2.07 0-2.86zM5.41 20L4 18.59l7.72-7.72 1.47 1.35L5.41 20z\"/>\n",
              "  </svg>\n",
              "      </button>\n",
              "      \n",
              "  <style>\n",
              "    .colab-df-container {\n",
              "      display:flex;\n",
              "      flex-wrap:wrap;\n",
              "      gap: 12px;\n",
              "    }\n",
              "\n",
              "    .colab-df-convert {\n",
              "      background-color: #E8F0FE;\n",
              "      border: none;\n",
              "      border-radius: 50%;\n",
              "      cursor: pointer;\n",
              "      display: none;\n",
              "      fill: #1967D2;\n",
              "      height: 32px;\n",
              "      padding: 0 0 0 0;\n",
              "      width: 32px;\n",
              "    }\n",
              "\n",
              "    .colab-df-convert:hover {\n",
              "      background-color: #E2EBFA;\n",
              "      box-shadow: 0px 1px 2px rgba(60, 64, 67, 0.3), 0px 1px 3px 1px rgba(60, 64, 67, 0.15);\n",
              "      fill: #174EA6;\n",
              "    }\n",
              "\n",
              "    [theme=dark] .colab-df-convert {\n",
              "      background-color: #3B4455;\n",
              "      fill: #D2E3FC;\n",
              "    }\n",
              "\n",
              "    [theme=dark] .colab-df-convert:hover {\n",
              "      background-color: #434B5C;\n",
              "      box-shadow: 0px 1px 3px 1px rgba(0, 0, 0, 0.15);\n",
              "      filter: drop-shadow(0px 1px 2px rgba(0, 0, 0, 0.3));\n",
              "      fill: #FFFFFF;\n",
              "    }\n",
              "  </style>\n",
              "\n",
              "      <script>\n",
              "        const buttonEl =\n",
              "          document.querySelector('#df-488909e5-eb04-4b45-90cc-dc80ec1305cb button.colab-df-convert');\n",
              "        buttonEl.style.display =\n",
              "          google.colab.kernel.accessAllowed ? 'block' : 'none';\n",
              "\n",
              "        async function convertToInteractive(key) {\n",
              "          const element = document.querySelector('#df-488909e5-eb04-4b45-90cc-dc80ec1305cb');\n",
              "          const dataTable =\n",
              "            await google.colab.kernel.invokeFunction('convertToInteractive',\n",
              "                                                     [key], {});\n",
              "          if (!dataTable) return;\n",
              "\n",
              "          const docLinkHtml = 'Like what you see? Visit the ' +\n",
              "            '<a target=\"_blank\" href=https://colab.research.google.com/notebooks/data_table.ipynb>data table notebook</a>'\n",
              "            + ' to learn more about interactive tables.';\n",
              "          element.innerHTML = '';\n",
              "          dataTable['output_type'] = 'display_data';\n",
              "          await google.colab.output.renderOutput(dataTable, element);\n",
              "          const docLink = document.createElement('div');\n",
              "          docLink.innerHTML = docLinkHtml;\n",
              "          element.appendChild(docLink);\n",
              "        }\n",
              "      </script>\n",
              "    </div>\n",
              "  </div>\n",
              "  "
            ]
          },
          "metadata": {},
          "execution_count": 236
        }
      ],
      "source": [
        "# Let's have a general look at the data\n",
        "df.describe() "
      ]
    },
    {
      "cell_type": "code",
      "execution_count": null,
      "metadata": {
        "id": "FdV41gH6dsWV"
      },
      "outputs": [],
      "source": [
        "# What is the target?\n",
        "# The target is Cause_of_Death\n"
      ]
    },
    {
      "cell_type": "code",
      "execution_count": 237,
      "metadata": {
        "colab": {
          "base_uri": "https://localhost:8080/"
        },
        "id": "uGeVNDWzeosU",
        "outputId": "8aa71f96-0a4f-4cdd-8ec7-1b6546a53d40"
      },
      "outputs": [
        {
          "output_type": "execute_result",
          "data": {
            "text/plain": [
              "Associated_AAD_YPLL_Years         0\n",
              "LocationAbbr                      0\n",
              "LocationDesc                      0\n",
              "DataSource                        0\n",
              "Data_Value_Unit                   0\n",
              "ConditionType                     0\n",
              "Category                          0\n",
              "Cause_of_Death                    0\n",
              "Direct_AAF                     4992\n",
              "Direct_AAF_Alt                 4992\n",
              "Indirect_AAF_Low              11128\n",
              "Indirect_AAF_Low_Alt          11336\n",
              "Indirect_AAF_Medium            8736\n",
              "Indirect_AAF_Medium_Alt        8944\n",
              "Indirect_AAF_High              8736\n",
              "Indirect_AAF_High_Alt          8944\n",
              "Data_Value_Footnote_Symbol    12272\n",
              "Data_Value_Footnote           12272\n",
              "ConsumptionPattern                0\n",
              "Sex                               0\n",
              "AgeGroup                          0\n",
              "LocationID                        0\n",
              "ConditionTypeID                   0\n",
              "CategoryID                        0\n",
              "Cause_of_Death_ID                 0\n",
              "ConsumptionID                     0\n",
              "SexID                             0\n",
              "AgeGroupID                        0\n",
              "DataValueUnitID                   0\n",
              "dtype: int64"
            ]
          },
          "metadata": {},
          "execution_count": 237
        }
      ],
      "source": [
        "# 4) Is this a classification or regression problem?\n",
        "# This is a Classification problem (Using Nominal categorical features)\n",
        "df.isna().sum()"
      ]
    },
    {
      "cell_type": "code",
      "execution_count": 238,
      "metadata": {
        "colab": {
          "base_uri": "https://localhost:8080/"
        },
        "id": "jXQ9zHjjfRgP",
        "outputId": "9f5575d6-61ea-4f1c-d0ad-4505da53d4e8"
      },
      "outputs": [
        {
          "output_type": "execute_result",
          "data": {
            "text/plain": [
              "(13728, 29)"
            ]
          },
          "metadata": {},
          "execution_count": 238
        }
      ],
      "source": [
        "# 5) How many features?\n",
        "df.shape\n",
        "\n",
        "# There are 29 features"
      ]
    },
    {
      "cell_type": "code",
      "execution_count": null,
      "metadata": {
        "id": "m4xEQXvCgjlC"
      },
      "outputs": [],
      "source": [
        "# 6) How many rows of data.\n",
        "\n",
        "# There are 13728 rows"
      ]
    },
    {
      "cell_type": "code",
      "execution_count": null,
      "metadata": {
        "id": "c1biX_jSgu9X"
      },
      "outputs": [],
      "source": [
        "#  7) What, if any, challenges do your foresee in cleaning, exploring, or modeling with this dataset ?\n",
        "\n",
        "# I foresee less accurate predictions in model predictions due to  alot of missing data"
      ]
    },
    {
      "cell_type": "code",
      "execution_count": null,
      "metadata": {
        "colab": {
          "base_uri": "https://localhost:8080/"
        },
        "id": "JMzgop0ze3Z3",
        "outputId": "81756f0d-60fd-4d72-9763-83459a9a1bc4"
      },
      "outputs": [
        {
          "data": {
            "text/plain": [
              "Associated_AAD_YPLL_Years         0\n",
              "LocationAbbr                      0\n",
              "LocationDesc                      0\n",
              "DataSource                        0\n",
              "Data_Value_Unit                   0\n",
              "ConditionType                     0\n",
              "Category                          0\n",
              "Cause_of_Death                    0\n",
              "Direct_AAF                     4992\n",
              "Direct_AAF_Alt                 4992\n",
              "Indirect_AAF_Low              11128\n",
              "Indirect_AAF_Low_Alt          11336\n",
              "Indirect_AAF_Medium            8736\n",
              "Indirect_AAF_Medium_Alt        8944\n",
              "Indirect_AAF_High              8736\n",
              "Indirect_AAF_High_Alt          8944\n",
              "Data_Value_Footnote_Symbol    12272\n",
              "Data_Value_Footnote           12272\n",
              "ConsumptionPattern                0\n",
              "Sex                               0\n",
              "AgeGroup                          0\n",
              "LocationID                        0\n",
              "ConditionTypeID                   0\n",
              "CategoryID                        0\n",
              "Cause_of_Death_ID                 0\n",
              "ConsumptionID                     0\n",
              "SexID                             0\n",
              "AgeGroupID                        0\n",
              "DataValueUnitID                   0\n",
              "dtype: int64"
            ]
          },
          "execution_count": 10,
          "metadata": {},
          "output_type": "execute_result"
        }
      ],
      "source": [
        "# Find null or missing values\n",
        "\n",
        "df.isnull().sum()\n",
        "\n",
        "# We will drop the following columns since they contain thousands of missing values\n",
        "\n",
        "# Direct_AAF                    1584\n",
        "# Direct_AAF_Alt                1584\n",
        "# Indirect_AAF_Low              3576\n",
        "# Indirect_AAF_Low_Alt          3642\n",
        "# Indirect_AAF_Medium           2794\n",
        "# Indirect_AAF_Medium_Alt       2860\n",
        "# Indirect_AAF_High             2794\n",
        "# Indirect_AAF_High_Alt         2860\n",
        "# Data_Value_Footnote_Symbol    3916\n",
        "# Data_Value_Footnote           3916"
      ]
    },
    {
      "cell_type": "code",
      "execution_count": 117,
      "metadata": {
        "colab": {
          "base_uri": "https://localhost:8080/"
        },
        "id": "zOA4ygSGhbqv",
        "outputId": "a8fb77cb-387e-44db-e79e-f0a8f6dbbd0b"
      },
      "outputs": [
        {
          "output_type": "execute_result",
          "data": {
            "text/plain": [
              "Associated_AAD_YPLL_Years      object\n",
              "LocationAbbr                   object\n",
              "LocationDesc                   object\n",
              "DataSource                     object\n",
              "Data_Value_Unit                object\n",
              "ConditionType                  object\n",
              "Category                       object\n",
              "Cause_of_Death                 object\n",
              "Direct_AAF                    float64\n",
              "Direct_AAF_Alt                float64\n",
              "Indirect_AAF_Low               object\n",
              "Indirect_AAF_Low_Alt          float64\n",
              "Indirect_AAF_Medium            object\n",
              "Indirect_AAF_Medium_Alt       float64\n",
              "Indirect_AAF_High              object\n",
              "Indirect_AAF_High_Alt         float64\n",
              "Data_Value_Footnote_Symbol     object\n",
              "Data_Value_Footnote            object\n",
              "ConsumptionPattern             object\n",
              "Sex                            object\n",
              "AgeGroup                       object\n",
              "LocationID                      int64\n",
              "ConditionTypeID                object\n",
              "CategoryID                     object\n",
              "Cause_of_Death_ID              object\n",
              "ConsumptionID                  object\n",
              "SexID                          object\n",
              "AgeGroupID                     object\n",
              "DataValueUnitID                object\n",
              "dtype: object"
            ]
          },
          "metadata": {},
          "execution_count": 117
        }
      ],
      "source": [
        "# Let's see the datatypes\n",
        "df.dtypes"
      ]
    },
    {
      "cell_type": "markdown",
      "metadata": {
        "id": "-t87tE8hiUr5"
      },
      "source": [
        "Dataset 2:\n",
        "\n",
        "Alternative Dataset: We will compare this Dataset 1, and choose the one to use.\n",
        "\n",
        "DATASET SOURCE: https://archive.ics.uci.edu/ml/datasets/Power+consumption+of+Tetouan+city\n",
        "\n",
        "\n",
        "DATA DESCRIPTION : **Abstract**: This dataset is related to power consumption of three different distribution networks of Tetouan city which is located in north Morocco.\n",
        "\t"
      ]
    },
    {
      "cell_type": "code",
      "execution_count": 119,
      "metadata": {
        "id": "yyE-SZ0Lc8lD",
        "colab": {
          "base_uri": "https://localhost:8080/",
          "height": 354
        },
        "outputId": "19c48e4d-644b-4659-bf02-9ceebcf18910"
      },
      "outputs": [
        {
          "output_type": "execute_result",
          "data": {
            "text/plain": [
              "        DateTime  Temperature  Humidity  Wind Speed  general diffuse flows  \\\n",
              "0  1/1/2017 0:00        6.559      73.8       0.083                  0.051   \n",
              "1  1/1/2017 0:10        6.414      74.5       0.083                  0.070   \n",
              "2  1/1/2017 0:20        6.313      74.5       0.080                  0.062   \n",
              "3  1/1/2017 0:30        6.121      75.0       0.083                  0.091   \n",
              "4  1/1/2017 0:40        5.921      75.7       0.081                  0.048   \n",
              "\n",
              "   diffuse flows  Zone 1 Power Consumption  Zone 2  Power Consumption  \\\n",
              "0          0.119               34055.69620                16128.87538   \n",
              "1          0.085               29814.68354                19375.07599   \n",
              "2          0.100               29128.10127                19006.68693   \n",
              "3          0.096               28228.86076                18361.09422   \n",
              "4          0.085               27335.69620                17872.34043   \n",
              "\n",
              "   Zone 3  Power Consumption  \n",
              "0                20240.96386  \n",
              "1                20131.08434  \n",
              "2                19668.43373  \n",
              "3                18899.27711  \n",
              "4                18442.40964  "
            ],
            "text/html": [
              "\n",
              "  <div id=\"df-0e573c8a-1801-45d6-b65f-3ec898c0031e\">\n",
              "    <div class=\"colab-df-container\">\n",
              "      <div>\n",
              "<style scoped>\n",
              "    .dataframe tbody tr th:only-of-type {\n",
              "        vertical-align: middle;\n",
              "    }\n",
              "\n",
              "    .dataframe tbody tr th {\n",
              "        vertical-align: top;\n",
              "    }\n",
              "\n",
              "    .dataframe thead th {\n",
              "        text-align: right;\n",
              "    }\n",
              "</style>\n",
              "<table border=\"1\" class=\"dataframe\">\n",
              "  <thead>\n",
              "    <tr style=\"text-align: right;\">\n",
              "      <th></th>\n",
              "      <th>DateTime</th>\n",
              "      <th>Temperature</th>\n",
              "      <th>Humidity</th>\n",
              "      <th>Wind Speed</th>\n",
              "      <th>general diffuse flows</th>\n",
              "      <th>diffuse flows</th>\n",
              "      <th>Zone 1 Power Consumption</th>\n",
              "      <th>Zone 2  Power Consumption</th>\n",
              "      <th>Zone 3  Power Consumption</th>\n",
              "    </tr>\n",
              "  </thead>\n",
              "  <tbody>\n",
              "    <tr>\n",
              "      <th>0</th>\n",
              "      <td>1/1/2017 0:00</td>\n",
              "      <td>6.559</td>\n",
              "      <td>73.8</td>\n",
              "      <td>0.083</td>\n",
              "      <td>0.051</td>\n",
              "      <td>0.119</td>\n",
              "      <td>34055.69620</td>\n",
              "      <td>16128.87538</td>\n",
              "      <td>20240.96386</td>\n",
              "    </tr>\n",
              "    <tr>\n",
              "      <th>1</th>\n",
              "      <td>1/1/2017 0:10</td>\n",
              "      <td>6.414</td>\n",
              "      <td>74.5</td>\n",
              "      <td>0.083</td>\n",
              "      <td>0.070</td>\n",
              "      <td>0.085</td>\n",
              "      <td>29814.68354</td>\n",
              "      <td>19375.07599</td>\n",
              "      <td>20131.08434</td>\n",
              "    </tr>\n",
              "    <tr>\n",
              "      <th>2</th>\n",
              "      <td>1/1/2017 0:20</td>\n",
              "      <td>6.313</td>\n",
              "      <td>74.5</td>\n",
              "      <td>0.080</td>\n",
              "      <td>0.062</td>\n",
              "      <td>0.100</td>\n",
              "      <td>29128.10127</td>\n",
              "      <td>19006.68693</td>\n",
              "      <td>19668.43373</td>\n",
              "    </tr>\n",
              "    <tr>\n",
              "      <th>3</th>\n",
              "      <td>1/1/2017 0:30</td>\n",
              "      <td>6.121</td>\n",
              "      <td>75.0</td>\n",
              "      <td>0.083</td>\n",
              "      <td>0.091</td>\n",
              "      <td>0.096</td>\n",
              "      <td>28228.86076</td>\n",
              "      <td>18361.09422</td>\n",
              "      <td>18899.27711</td>\n",
              "    </tr>\n",
              "    <tr>\n",
              "      <th>4</th>\n",
              "      <td>1/1/2017 0:40</td>\n",
              "      <td>5.921</td>\n",
              "      <td>75.7</td>\n",
              "      <td>0.081</td>\n",
              "      <td>0.048</td>\n",
              "      <td>0.085</td>\n",
              "      <td>27335.69620</td>\n",
              "      <td>17872.34043</td>\n",
              "      <td>18442.40964</td>\n",
              "    </tr>\n",
              "  </tbody>\n",
              "</table>\n",
              "</div>\n",
              "      <button class=\"colab-df-convert\" onclick=\"convertToInteractive('df-0e573c8a-1801-45d6-b65f-3ec898c0031e')\"\n",
              "              title=\"Convert this dataframe to an interactive table.\"\n",
              "              style=\"display:none;\">\n",
              "        \n",
              "  <svg xmlns=\"http://www.w3.org/2000/svg\" height=\"24px\"viewBox=\"0 0 24 24\"\n",
              "       width=\"24px\">\n",
              "    <path d=\"M0 0h24v24H0V0z\" fill=\"none\"/>\n",
              "    <path d=\"M18.56 5.44l.94 2.06.94-2.06 2.06-.94-2.06-.94-.94-2.06-.94 2.06-2.06.94zm-11 1L8.5 8.5l.94-2.06 2.06-.94-2.06-.94L8.5 2.5l-.94 2.06-2.06.94zm10 10l.94 2.06.94-2.06 2.06-.94-2.06-.94-.94-2.06-.94 2.06-2.06.94z\"/><path d=\"M17.41 7.96l-1.37-1.37c-.4-.4-.92-.59-1.43-.59-.52 0-1.04.2-1.43.59L10.3 9.45l-7.72 7.72c-.78.78-.78 2.05 0 2.83L4 21.41c.39.39.9.59 1.41.59.51 0 1.02-.2 1.41-.59l7.78-7.78 2.81-2.81c.8-.78.8-2.07 0-2.86zM5.41 20L4 18.59l7.72-7.72 1.47 1.35L5.41 20z\"/>\n",
              "  </svg>\n",
              "      </button>\n",
              "      \n",
              "  <style>\n",
              "    .colab-df-container {\n",
              "      display:flex;\n",
              "      flex-wrap:wrap;\n",
              "      gap: 12px;\n",
              "    }\n",
              "\n",
              "    .colab-df-convert {\n",
              "      background-color: #E8F0FE;\n",
              "      border: none;\n",
              "      border-radius: 50%;\n",
              "      cursor: pointer;\n",
              "      display: none;\n",
              "      fill: #1967D2;\n",
              "      height: 32px;\n",
              "      padding: 0 0 0 0;\n",
              "      width: 32px;\n",
              "    }\n",
              "\n",
              "    .colab-df-convert:hover {\n",
              "      background-color: #E2EBFA;\n",
              "      box-shadow: 0px 1px 2px rgba(60, 64, 67, 0.3), 0px 1px 3px 1px rgba(60, 64, 67, 0.15);\n",
              "      fill: #174EA6;\n",
              "    }\n",
              "\n",
              "    [theme=dark] .colab-df-convert {\n",
              "      background-color: #3B4455;\n",
              "      fill: #D2E3FC;\n",
              "    }\n",
              "\n",
              "    [theme=dark] .colab-df-convert:hover {\n",
              "      background-color: #434B5C;\n",
              "      box-shadow: 0px 1px 3px 1px rgba(0, 0, 0, 0.15);\n",
              "      filter: drop-shadow(0px 1px 2px rgba(0, 0, 0, 0.3));\n",
              "      fill: #FFFFFF;\n",
              "    }\n",
              "  </style>\n",
              "\n",
              "      <script>\n",
              "        const buttonEl =\n",
              "          document.querySelector('#df-0e573c8a-1801-45d6-b65f-3ec898c0031e button.colab-df-convert');\n",
              "        buttonEl.style.display =\n",
              "          google.colab.kernel.accessAllowed ? 'block' : 'none';\n",
              "\n",
              "        async function convertToInteractive(key) {\n",
              "          const element = document.querySelector('#df-0e573c8a-1801-45d6-b65f-3ec898c0031e');\n",
              "          const dataTable =\n",
              "            await google.colab.kernel.invokeFunction('convertToInteractive',\n",
              "                                                     [key], {});\n",
              "          if (!dataTable) return;\n",
              "\n",
              "          const docLinkHtml = 'Like what you see? Visit the ' +\n",
              "            '<a target=\"_blank\" href=https://colab.research.google.com/notebooks/data_table.ipynb>data table notebook</a>'\n",
              "            + ' to learn more about interactive tables.';\n",
              "          element.innerHTML = '';\n",
              "          dataTable['output_type'] = 'display_data';\n",
              "          await google.colab.output.renderOutput(dataTable, element);\n",
              "          const docLink = document.createElement('div');\n",
              "          docLink.innerHTML = docLinkHtml;\n",
              "          element.appendChild(docLink);\n",
              "        }\n",
              "      </script>\n",
              "    </div>\n",
              "  </div>\n",
              "  "
            ]
          },
          "metadata": {},
          "execution_count": 119
        }
      ],
      "source": [
        "# # Create new dataframe\n",
        "df1 = pd.read_csv('/content/sample_data/Tetuan City power consumption.csv')\n",
        "df1.head()"
      ]
    },
    {
      "cell_type": "code",
      "execution_count": null,
      "metadata": {
        "colab": {
          "base_uri": "https://localhost:8080/"
        },
        "id": "VktCoIi0GTkF",
        "outputId": "0c9ede40-3bf6-4656-9c52-72e066011248"
      },
      "outputs": [
        {
          "data": {
            "text/plain": [
              "(52416, 9)"
            ]
          },
          "execution_count": 12,
          "metadata": {},
          "output_type": "execute_result"
        }
      ],
      "source": [
        "df1.shape"
      ]
    },
    {
      "cell_type": "code",
      "execution_count": null,
      "metadata": {
        "id": "mPBECWebHHyQ"
      },
      "outputs": [],
      "source": [
        "# 3) What is the target?\n",
        "\n",
        "\n",
        "# Zones 1,2 and 3 Power consumption "
      ]
    },
    {
      "cell_type": "code",
      "execution_count": null,
      "metadata": {
        "id": "GzuZZ3OXH1o5"
      },
      "outputs": [],
      "source": [
        "# 4) Is this a classification or regression problem?\n",
        "# This is a Regression problem problem \n",
        "# df1.isna().sum()/"
      ]
    },
    {
      "cell_type": "code",
      "execution_count": null,
      "metadata": {
        "colab": {
          "base_uri": "https://localhost:8080/"
        },
        "id": "nVMS4EzPIP_g",
        "outputId": "6cb0005b-206b-43ca-d8a7-091dc51597a1"
      },
      "outputs": [
        {
          "data": {
            "text/plain": [
              "(52416, 9)"
            ]
          },
          "execution_count": 15,
          "metadata": {},
          "output_type": "execute_result"
        }
      ],
      "source": [
        "# 5) How many features?\n",
        "df1.shape\n",
        "\n",
        "# There are 5 features"
      ]
    },
    {
      "cell_type": "code",
      "execution_count": null,
      "metadata": {
        "id": "TalhaPj3Im0K"
      },
      "outputs": [],
      "source": [
        "# 6) How many rows of data.\n",
        "\n",
        "# There are 52416 rows"
      ]
    },
    {
      "cell_type": "code",
      "execution_count": null,
      "metadata": {
        "id": "t2JDxzHoItSk"
      },
      "outputs": [],
      "source": [
        "#  7) What, if any, challenges do your foresee in cleaning, exploring, or modeling with this dataset?\n",
        "\n",
        "df1.isnull().sum()\n",
        "# I foresee  choosing which zone to take as the target"
      ]
    },
    {
      "cell_type": "markdown",
      "metadata": {
        "id": "2l3gOSuN6Hng"
      },
      "source": [
        "LET US USE DATASET - 1 \n",
        "\n",
        "USE CASE : ALCOHOL RELATED IMPACTS AND DEATHS"
      ]
    },
    {
      "cell_type": "code",
      "execution_count": 239,
      "metadata": {
        "colab": {
          "base_uri": "https://localhost:8080/",
          "height": 473
        },
        "id": "QPanRliAJZSI",
        "outputId": "b075db71-5083-4efb-ac64-567b78134a07"
      },
      "outputs": [
        {
          "output_type": "execute_result",
          "data": {
            "text/plain": [
              "  Associated_AAD_YPLL_Years  LocationAbbr LocationDesc DataSource  \\\n",
              "0                  2015-2019           WY      Wyoming       ARDI   \n",
              "1                  2015-2019           WY      Wyoming       ARDI   \n",
              "2                  2015-2019           WY      Wyoming       ARDI   \n",
              "3                  2015-2019           WY      Wyoming       ARDI   \n",
              "4                  2015-2019           WY      Wyoming       ARDI   \n",
              "\n",
              "                  Data_Value_Unit ConditionType            Category  \\\n",
              "0  Alcohol-Attributable Fractions         Acute  Other Acute Causes   \n",
              "1  Alcohol-Attributable Fractions         Acute  Other Acute Causes   \n",
              "2  Alcohol-Attributable Fractions         Acute  Other Acute Causes   \n",
              "3  Alcohol-Attributable Fractions         Acute  Other Acute Causes   \n",
              "4  Alcohol-Attributable Fractions         Acute  Other Acute Causes   \n",
              "\n",
              "  Cause_of_Death  Direct_AAF  Direct_AAF_Alt  ...     Sex  AgeGroup  \\\n",
              "0       Drowning        0.34            0.34  ...  Female   Overall   \n",
              "1       Drowning        0.34            0.34  ...    Male   Overall   \n",
              "2  Fall injuries        0.32            0.32  ...  Female   Overall   \n",
              "3  Fall injuries        0.32            0.32  ...    Male   Overall   \n",
              "4  Fire injuries        0.42            0.42  ...  Female   Overall   \n",
              "\n",
              "  LocationID  ConditionTypeID CategoryID  Cause_of_Death_ID ConsumptionID  \\\n",
              "0         56            ACUTE       CAT9             DROWNI        ANYALC   \n",
              "1         56            ACUTE       CAT9             DROWNI        ANYALC   \n",
              "2         56            ACUTE       CAT9             FALLIN        ANYALC   \n",
              "3         56            ACUTE       CAT9             FALLIN        ANYALC   \n",
              "4         56            ACUTE       CAT9             FIREIN        ANYALC   \n",
              "\n",
              "  SexID AgeGroupID DataValueUnitID  \n",
              "0  GENF       Age0       5YEARSAVG  \n",
              "1  GENM       Age0       5YEARSAVG  \n",
              "2  GENF       Age0       5YEARSAVG  \n",
              "3  GENM       Age0       5YEARSAVG  \n",
              "4  GENF       Age0       5YEARSAVG  \n",
              "\n",
              "[5 rows x 29 columns]"
            ],
            "text/html": [
              "\n",
              "  <div id=\"df-2db785e0-21c2-4662-aee0-c9860cc93392\">\n",
              "    <div class=\"colab-df-container\">\n",
              "      <div>\n",
              "<style scoped>\n",
              "    .dataframe tbody tr th:only-of-type {\n",
              "        vertical-align: middle;\n",
              "    }\n",
              "\n",
              "    .dataframe tbody tr th {\n",
              "        vertical-align: top;\n",
              "    }\n",
              "\n",
              "    .dataframe thead th {\n",
              "        text-align: right;\n",
              "    }\n",
              "</style>\n",
              "<table border=\"1\" class=\"dataframe\">\n",
              "  <thead>\n",
              "    <tr style=\"text-align: right;\">\n",
              "      <th></th>\n",
              "      <th>Associated_AAD_YPLL_Years</th>\n",
              "      <th>LocationAbbr</th>\n",
              "      <th>LocationDesc</th>\n",
              "      <th>DataSource</th>\n",
              "      <th>Data_Value_Unit</th>\n",
              "      <th>ConditionType</th>\n",
              "      <th>Category</th>\n",
              "      <th>Cause_of_Death</th>\n",
              "      <th>Direct_AAF</th>\n",
              "      <th>Direct_AAF_Alt</th>\n",
              "      <th>...</th>\n",
              "      <th>Sex</th>\n",
              "      <th>AgeGroup</th>\n",
              "      <th>LocationID</th>\n",
              "      <th>ConditionTypeID</th>\n",
              "      <th>CategoryID</th>\n",
              "      <th>Cause_of_Death_ID</th>\n",
              "      <th>ConsumptionID</th>\n",
              "      <th>SexID</th>\n",
              "      <th>AgeGroupID</th>\n",
              "      <th>DataValueUnitID</th>\n",
              "    </tr>\n",
              "  </thead>\n",
              "  <tbody>\n",
              "    <tr>\n",
              "      <th>0</th>\n",
              "      <td>2015-2019</td>\n",
              "      <td>WY</td>\n",
              "      <td>Wyoming</td>\n",
              "      <td>ARDI</td>\n",
              "      <td>Alcohol-Attributable Fractions</td>\n",
              "      <td>Acute</td>\n",
              "      <td>Other Acute Causes</td>\n",
              "      <td>Drowning</td>\n",
              "      <td>0.34</td>\n",
              "      <td>0.34</td>\n",
              "      <td>...</td>\n",
              "      <td>Female</td>\n",
              "      <td>Overall</td>\n",
              "      <td>56</td>\n",
              "      <td>ACUTE</td>\n",
              "      <td>CAT9</td>\n",
              "      <td>DROWNI</td>\n",
              "      <td>ANYALC</td>\n",
              "      <td>GENF</td>\n",
              "      <td>Age0</td>\n",
              "      <td>5YEARSAVG</td>\n",
              "    </tr>\n",
              "    <tr>\n",
              "      <th>1</th>\n",
              "      <td>2015-2019</td>\n",
              "      <td>WY</td>\n",
              "      <td>Wyoming</td>\n",
              "      <td>ARDI</td>\n",
              "      <td>Alcohol-Attributable Fractions</td>\n",
              "      <td>Acute</td>\n",
              "      <td>Other Acute Causes</td>\n",
              "      <td>Drowning</td>\n",
              "      <td>0.34</td>\n",
              "      <td>0.34</td>\n",
              "      <td>...</td>\n",
              "      <td>Male</td>\n",
              "      <td>Overall</td>\n",
              "      <td>56</td>\n",
              "      <td>ACUTE</td>\n",
              "      <td>CAT9</td>\n",
              "      <td>DROWNI</td>\n",
              "      <td>ANYALC</td>\n",
              "      <td>GENM</td>\n",
              "      <td>Age0</td>\n",
              "      <td>5YEARSAVG</td>\n",
              "    </tr>\n",
              "    <tr>\n",
              "      <th>2</th>\n",
              "      <td>2015-2019</td>\n",
              "      <td>WY</td>\n",
              "      <td>Wyoming</td>\n",
              "      <td>ARDI</td>\n",
              "      <td>Alcohol-Attributable Fractions</td>\n",
              "      <td>Acute</td>\n",
              "      <td>Other Acute Causes</td>\n",
              "      <td>Fall injuries</td>\n",
              "      <td>0.32</td>\n",
              "      <td>0.32</td>\n",
              "      <td>...</td>\n",
              "      <td>Female</td>\n",
              "      <td>Overall</td>\n",
              "      <td>56</td>\n",
              "      <td>ACUTE</td>\n",
              "      <td>CAT9</td>\n",
              "      <td>FALLIN</td>\n",
              "      <td>ANYALC</td>\n",
              "      <td>GENF</td>\n",
              "      <td>Age0</td>\n",
              "      <td>5YEARSAVG</td>\n",
              "    </tr>\n",
              "    <tr>\n",
              "      <th>3</th>\n",
              "      <td>2015-2019</td>\n",
              "      <td>WY</td>\n",
              "      <td>Wyoming</td>\n",
              "      <td>ARDI</td>\n",
              "      <td>Alcohol-Attributable Fractions</td>\n",
              "      <td>Acute</td>\n",
              "      <td>Other Acute Causes</td>\n",
              "      <td>Fall injuries</td>\n",
              "      <td>0.32</td>\n",
              "      <td>0.32</td>\n",
              "      <td>...</td>\n",
              "      <td>Male</td>\n",
              "      <td>Overall</td>\n",
              "      <td>56</td>\n",
              "      <td>ACUTE</td>\n",
              "      <td>CAT9</td>\n",
              "      <td>FALLIN</td>\n",
              "      <td>ANYALC</td>\n",
              "      <td>GENM</td>\n",
              "      <td>Age0</td>\n",
              "      <td>5YEARSAVG</td>\n",
              "    </tr>\n",
              "    <tr>\n",
              "      <th>4</th>\n",
              "      <td>2015-2019</td>\n",
              "      <td>WY</td>\n",
              "      <td>Wyoming</td>\n",
              "      <td>ARDI</td>\n",
              "      <td>Alcohol-Attributable Fractions</td>\n",
              "      <td>Acute</td>\n",
              "      <td>Other Acute Causes</td>\n",
              "      <td>Fire injuries</td>\n",
              "      <td>0.42</td>\n",
              "      <td>0.42</td>\n",
              "      <td>...</td>\n",
              "      <td>Female</td>\n",
              "      <td>Overall</td>\n",
              "      <td>56</td>\n",
              "      <td>ACUTE</td>\n",
              "      <td>CAT9</td>\n",
              "      <td>FIREIN</td>\n",
              "      <td>ANYALC</td>\n",
              "      <td>GENF</td>\n",
              "      <td>Age0</td>\n",
              "      <td>5YEARSAVG</td>\n",
              "    </tr>\n",
              "  </tbody>\n",
              "</table>\n",
              "<p>5 rows × 29 columns</p>\n",
              "</div>\n",
              "      <button class=\"colab-df-convert\" onclick=\"convertToInteractive('df-2db785e0-21c2-4662-aee0-c9860cc93392')\"\n",
              "              title=\"Convert this dataframe to an interactive table.\"\n",
              "              style=\"display:none;\">\n",
              "        \n",
              "  <svg xmlns=\"http://www.w3.org/2000/svg\" height=\"24px\"viewBox=\"0 0 24 24\"\n",
              "       width=\"24px\">\n",
              "    <path d=\"M0 0h24v24H0V0z\" fill=\"none\"/>\n",
              "    <path d=\"M18.56 5.44l.94 2.06.94-2.06 2.06-.94-2.06-.94-.94-2.06-.94 2.06-2.06.94zm-11 1L8.5 8.5l.94-2.06 2.06-.94-2.06-.94L8.5 2.5l-.94 2.06-2.06.94zm10 10l.94 2.06.94-2.06 2.06-.94-2.06-.94-.94-2.06-.94 2.06-2.06.94z\"/><path d=\"M17.41 7.96l-1.37-1.37c-.4-.4-.92-.59-1.43-.59-.52 0-1.04.2-1.43.59L10.3 9.45l-7.72 7.72c-.78.78-.78 2.05 0 2.83L4 21.41c.39.39.9.59 1.41.59.51 0 1.02-.2 1.41-.59l7.78-7.78 2.81-2.81c.8-.78.8-2.07 0-2.86zM5.41 20L4 18.59l7.72-7.72 1.47 1.35L5.41 20z\"/>\n",
              "  </svg>\n",
              "      </button>\n",
              "      \n",
              "  <style>\n",
              "    .colab-df-container {\n",
              "      display:flex;\n",
              "      flex-wrap:wrap;\n",
              "      gap: 12px;\n",
              "    }\n",
              "\n",
              "    .colab-df-convert {\n",
              "      background-color: #E8F0FE;\n",
              "      border: none;\n",
              "      border-radius: 50%;\n",
              "      cursor: pointer;\n",
              "      display: none;\n",
              "      fill: #1967D2;\n",
              "      height: 32px;\n",
              "      padding: 0 0 0 0;\n",
              "      width: 32px;\n",
              "    }\n",
              "\n",
              "    .colab-df-convert:hover {\n",
              "      background-color: #E2EBFA;\n",
              "      box-shadow: 0px 1px 2px rgba(60, 64, 67, 0.3), 0px 1px 3px 1px rgba(60, 64, 67, 0.15);\n",
              "      fill: #174EA6;\n",
              "    }\n",
              "\n",
              "    [theme=dark] .colab-df-convert {\n",
              "      background-color: #3B4455;\n",
              "      fill: #D2E3FC;\n",
              "    }\n",
              "\n",
              "    [theme=dark] .colab-df-convert:hover {\n",
              "      background-color: #434B5C;\n",
              "      box-shadow: 0px 1px 3px 1px rgba(0, 0, 0, 0.15);\n",
              "      filter: drop-shadow(0px 1px 2px rgba(0, 0, 0, 0.3));\n",
              "      fill: #FFFFFF;\n",
              "    }\n",
              "  </style>\n",
              "\n",
              "      <script>\n",
              "        const buttonEl =\n",
              "          document.querySelector('#df-2db785e0-21c2-4662-aee0-c9860cc93392 button.colab-df-convert');\n",
              "        buttonEl.style.display =\n",
              "          google.colab.kernel.accessAllowed ? 'block' : 'none';\n",
              "\n",
              "        async function convertToInteractive(key) {\n",
              "          const element = document.querySelector('#df-2db785e0-21c2-4662-aee0-c9860cc93392');\n",
              "          const dataTable =\n",
              "            await google.colab.kernel.invokeFunction('convertToInteractive',\n",
              "                                                     [key], {});\n",
              "          if (!dataTable) return;\n",
              "\n",
              "          const docLinkHtml = 'Like what you see? Visit the ' +\n",
              "            '<a target=\"_blank\" href=https://colab.research.google.com/notebooks/data_table.ipynb>data table notebook</a>'\n",
              "            + ' to learn more about interactive tables.';\n",
              "          element.innerHTML = '';\n",
              "          dataTable['output_type'] = 'display_data';\n",
              "          await google.colab.output.renderOutput(dataTable, element);\n",
              "          const docLink = document.createElement('div');\n",
              "          docLink.innerHTML = docLinkHtml;\n",
              "          element.appendChild(docLink);\n",
              "        }\n",
              "      </script>\n",
              "    </div>\n",
              "  </div>\n",
              "  "
            ]
          },
          "metadata": {},
          "execution_count": 239
        }
      ],
      "source": [
        "# Inspect and delete unnecessary columns\n",
        "\n",
        "# More definitions and use cases at  https://pubmed.ncbi.nlm.nih.gov/1652146/\n",
        "df.head()"
      ]
    },
    {
      "cell_type": "code",
      "execution_count": 240,
      "metadata": {
        "colab": {
          "base_uri": "https://localhost:8080/"
        },
        "id": "R4W_rz0_jSV9",
        "outputId": "326f1f5c-d857-44cc-c92b-02b8a7fdc18d"
      },
      "outputs": [
        {
          "output_type": "execute_result",
          "data": {
            "text/plain": [
              "Associated_AAD_YPLL_Years      object\n",
              "LocationAbbr                   object\n",
              "LocationDesc                   object\n",
              "DataSource                     object\n",
              "Data_Value_Unit                object\n",
              "ConditionType                  object\n",
              "Category                       object\n",
              "Cause_of_Death                 object\n",
              "Direct_AAF                    float64\n",
              "Direct_AAF_Alt                float64\n",
              "Indirect_AAF_Low               object\n",
              "Indirect_AAF_Low_Alt          float64\n",
              "Indirect_AAF_Medium            object\n",
              "Indirect_AAF_Medium_Alt       float64\n",
              "Indirect_AAF_High              object\n",
              "Indirect_AAF_High_Alt         float64\n",
              "Data_Value_Footnote_Symbol     object\n",
              "Data_Value_Footnote            object\n",
              "ConsumptionPattern             object\n",
              "Sex                            object\n",
              "AgeGroup                       object\n",
              "LocationID                      int64\n",
              "ConditionTypeID                object\n",
              "CategoryID                     object\n",
              "Cause_of_Death_ID              object\n",
              "ConsumptionID                  object\n",
              "SexID                          object\n",
              "AgeGroupID                     object\n",
              "DataValueUnitID                object\n",
              "dtype: object"
            ]
          },
          "metadata": {},
          "execution_count": 240
        }
      ],
      "source": [
        "# We will use dataset 1\n",
        "df.dtypes"
      ]
    },
    {
      "cell_type": "code",
      "execution_count": 241,
      "metadata": {
        "colab": {
          "base_uri": "https://localhost:8080/",
          "height": 206
        },
        "id": "80VHQ8ADjVQj",
        "outputId": "d25d2877-5631-4f4d-efd5-91c71423b6c7"
      },
      "outputs": [
        {
          "output_type": "execute_result",
          "data": {
            "text/plain": [
              "  Associated_AAD_YPLL_Years  ConditionType            Category Cause_of_Death  \\\n",
              "0                  2015-2019         Acute  Other Acute Causes       Drowning   \n",
              "1                  2015-2019         Acute  Other Acute Causes       Drowning   \n",
              "2                  2015-2019         Acute  Other Acute Causes  Fall injuries   \n",
              "3                  2015-2019         Acute  Other Acute Causes  Fall injuries   \n",
              "4                  2015-2019         Acute  Other Acute Causes  Fire injuries   \n",
              "\n",
              "  ConsumptionPattern     Sex AgeGroup  \n",
              "0    Any Alcohol Use  Female  Overall  \n",
              "1    Any Alcohol Use    Male  Overall  \n",
              "2    Any Alcohol Use  Female  Overall  \n",
              "3    Any Alcohol Use    Male  Overall  \n",
              "4    Any Alcohol Use  Female  Overall  "
            ],
            "text/html": [
              "\n",
              "  <div id=\"df-3c8254b1-e6ac-44ae-8c98-c54bd2afd51c\">\n",
              "    <div class=\"colab-df-container\">\n",
              "      <div>\n",
              "<style scoped>\n",
              "    .dataframe tbody tr th:only-of-type {\n",
              "        vertical-align: middle;\n",
              "    }\n",
              "\n",
              "    .dataframe tbody tr th {\n",
              "        vertical-align: top;\n",
              "    }\n",
              "\n",
              "    .dataframe thead th {\n",
              "        text-align: right;\n",
              "    }\n",
              "</style>\n",
              "<table border=\"1\" class=\"dataframe\">\n",
              "  <thead>\n",
              "    <tr style=\"text-align: right;\">\n",
              "      <th></th>\n",
              "      <th>Associated_AAD_YPLL_Years</th>\n",
              "      <th>ConditionType</th>\n",
              "      <th>Category</th>\n",
              "      <th>Cause_of_Death</th>\n",
              "      <th>ConsumptionPattern</th>\n",
              "      <th>Sex</th>\n",
              "      <th>AgeGroup</th>\n",
              "    </tr>\n",
              "  </thead>\n",
              "  <tbody>\n",
              "    <tr>\n",
              "      <th>0</th>\n",
              "      <td>2015-2019</td>\n",
              "      <td>Acute</td>\n",
              "      <td>Other Acute Causes</td>\n",
              "      <td>Drowning</td>\n",
              "      <td>Any Alcohol Use</td>\n",
              "      <td>Female</td>\n",
              "      <td>Overall</td>\n",
              "    </tr>\n",
              "    <tr>\n",
              "      <th>1</th>\n",
              "      <td>2015-2019</td>\n",
              "      <td>Acute</td>\n",
              "      <td>Other Acute Causes</td>\n",
              "      <td>Drowning</td>\n",
              "      <td>Any Alcohol Use</td>\n",
              "      <td>Male</td>\n",
              "      <td>Overall</td>\n",
              "    </tr>\n",
              "    <tr>\n",
              "      <th>2</th>\n",
              "      <td>2015-2019</td>\n",
              "      <td>Acute</td>\n",
              "      <td>Other Acute Causes</td>\n",
              "      <td>Fall injuries</td>\n",
              "      <td>Any Alcohol Use</td>\n",
              "      <td>Female</td>\n",
              "      <td>Overall</td>\n",
              "    </tr>\n",
              "    <tr>\n",
              "      <th>3</th>\n",
              "      <td>2015-2019</td>\n",
              "      <td>Acute</td>\n",
              "      <td>Other Acute Causes</td>\n",
              "      <td>Fall injuries</td>\n",
              "      <td>Any Alcohol Use</td>\n",
              "      <td>Male</td>\n",
              "      <td>Overall</td>\n",
              "    </tr>\n",
              "    <tr>\n",
              "      <th>4</th>\n",
              "      <td>2015-2019</td>\n",
              "      <td>Acute</td>\n",
              "      <td>Other Acute Causes</td>\n",
              "      <td>Fire injuries</td>\n",
              "      <td>Any Alcohol Use</td>\n",
              "      <td>Female</td>\n",
              "      <td>Overall</td>\n",
              "    </tr>\n",
              "  </tbody>\n",
              "</table>\n",
              "</div>\n",
              "      <button class=\"colab-df-convert\" onclick=\"convertToInteractive('df-3c8254b1-e6ac-44ae-8c98-c54bd2afd51c')\"\n",
              "              title=\"Convert this dataframe to an interactive table.\"\n",
              "              style=\"display:none;\">\n",
              "        \n",
              "  <svg xmlns=\"http://www.w3.org/2000/svg\" height=\"24px\"viewBox=\"0 0 24 24\"\n",
              "       width=\"24px\">\n",
              "    <path d=\"M0 0h24v24H0V0z\" fill=\"none\"/>\n",
              "    <path d=\"M18.56 5.44l.94 2.06.94-2.06 2.06-.94-2.06-.94-.94-2.06-.94 2.06-2.06.94zm-11 1L8.5 8.5l.94-2.06 2.06-.94-2.06-.94L8.5 2.5l-.94 2.06-2.06.94zm10 10l.94 2.06.94-2.06 2.06-.94-2.06-.94-.94-2.06-.94 2.06-2.06.94z\"/><path d=\"M17.41 7.96l-1.37-1.37c-.4-.4-.92-.59-1.43-.59-.52 0-1.04.2-1.43.59L10.3 9.45l-7.72 7.72c-.78.78-.78 2.05 0 2.83L4 21.41c.39.39.9.59 1.41.59.51 0 1.02-.2 1.41-.59l7.78-7.78 2.81-2.81c.8-.78.8-2.07 0-2.86zM5.41 20L4 18.59l7.72-7.72 1.47 1.35L5.41 20z\"/>\n",
              "  </svg>\n",
              "      </button>\n",
              "      \n",
              "  <style>\n",
              "    .colab-df-container {\n",
              "      display:flex;\n",
              "      flex-wrap:wrap;\n",
              "      gap: 12px;\n",
              "    }\n",
              "\n",
              "    .colab-df-convert {\n",
              "      background-color: #E8F0FE;\n",
              "      border: none;\n",
              "      border-radius: 50%;\n",
              "      cursor: pointer;\n",
              "      display: none;\n",
              "      fill: #1967D2;\n",
              "      height: 32px;\n",
              "      padding: 0 0 0 0;\n",
              "      width: 32px;\n",
              "    }\n",
              "\n",
              "    .colab-df-convert:hover {\n",
              "      background-color: #E2EBFA;\n",
              "      box-shadow: 0px 1px 2px rgba(60, 64, 67, 0.3), 0px 1px 3px 1px rgba(60, 64, 67, 0.15);\n",
              "      fill: #174EA6;\n",
              "    }\n",
              "\n",
              "    [theme=dark] .colab-df-convert {\n",
              "      background-color: #3B4455;\n",
              "      fill: #D2E3FC;\n",
              "    }\n",
              "\n",
              "    [theme=dark] .colab-df-convert:hover {\n",
              "      background-color: #434B5C;\n",
              "      box-shadow: 0px 1px 3px 1px rgba(0, 0, 0, 0.15);\n",
              "      filter: drop-shadow(0px 1px 2px rgba(0, 0, 0, 0.3));\n",
              "      fill: #FFFFFF;\n",
              "    }\n",
              "  </style>\n",
              "\n",
              "      <script>\n",
              "        const buttonEl =\n",
              "          document.querySelector('#df-3c8254b1-e6ac-44ae-8c98-c54bd2afd51c button.colab-df-convert');\n",
              "        buttonEl.style.display =\n",
              "          google.colab.kernel.accessAllowed ? 'block' : 'none';\n",
              "\n",
              "        async function convertToInteractive(key) {\n",
              "          const element = document.querySelector('#df-3c8254b1-e6ac-44ae-8c98-c54bd2afd51c');\n",
              "          const dataTable =\n",
              "            await google.colab.kernel.invokeFunction('convertToInteractive',\n",
              "                                                     [key], {});\n",
              "          if (!dataTable) return;\n",
              "\n",
              "          const docLinkHtml = 'Like what you see? Visit the ' +\n",
              "            '<a target=\"_blank\" href=https://colab.research.google.com/notebooks/data_table.ipynb>data table notebook</a>'\n",
              "            + ' to learn more about interactive tables.';\n",
              "          element.innerHTML = '';\n",
              "          dataTable['output_type'] = 'display_data';\n",
              "          await google.colab.output.renderOutput(dataTable, element);\n",
              "          const docLink = document.createElement('div');\n",
              "          docLink.innerHTML = docLinkHtml;\n",
              "          element.appendChild(docLink);\n",
              "        }\n",
              "      </script>\n",
              "    </div>\n",
              "  </div>\n",
              "  "
            ]
          },
          "metadata": {},
          "execution_count": 241
        }
      ],
      "source": [
        "# Drop unwanted columns\n",
        "# The following columns are missing alot of data, and therefore filling them may affect the final results\n",
        "# Direct_AAF, Direct_AAF_Alt, Indirect_AAF_Low, Indirect_AAF_Low_Alt, Indirect_AAF_Medium, Indirect_AAF_Medium_Alt, Indirect_AAF_High, Indirect_AAF_High_Alt\n",
        "# The rest of the columns being dropped are  non essential because they contain repettitive data, reduntant data or meaningless ID's in out context\n",
        "# Resolution is to drop entire columns\n",
        "\n",
        "df = df.drop(columns=['Data_Value_Unit' ,'LocationAbbr', 'LocationDesc', 'DataSource', 'DataValueUnitID', 'LocationID', 'AgeGroupID', 'SexID','Direct_AAF', 'Direct_AAF_Alt', 'Indirect_AAF_Low', 'Indirect_AAF_Low_Alt',\n",
        "                      'Indirect_AAF_Medium', 'Indirect_AAF_Medium_Alt', 'Indirect_AAF_High', 'Indirect_AAF_High_Alt', 'Data_Value_Footnote_Symbol', 'Data_Value_Footnote', 'CategoryID', 'Cause_of_Death_ID',\n",
        "                      'ConditionTypeID', 'ConsumptionID', 'Cause_of_Death_ID'])\n",
        "df.head()"
      ]
    },
    {
      "cell_type": "code",
      "execution_count": 242,
      "metadata": {
        "colab": {
          "base_uri": "https://localhost:8080/"
        },
        "id": "nlvG-mNxjw2-",
        "outputId": "68bb7a87-cb5e-4fff-c098-d7a3729dceec"
      },
      "outputs": [
        {
          "output_type": "stream",
          "name": "stdout",
          "text": [
            "We found 13464 duplicates\n"
          ]
        }
      ],
      "source": [
        "# Find , count and finally delete duplicates\n",
        "print(f'We found {df.duplicated().sum()} duplicates')"
      ]
    },
    {
      "cell_type": "code",
      "execution_count": 243,
      "metadata": {
        "colab": {
          "base_uri": "https://localhost:8080/"
        },
        "id": "4kbBoFVQpD7U",
        "outputId": "04f1f3a1-0041-41ed-eafc-490a5699572c"
      },
      "outputs": [
        {
          "output_type": "stream",
          "name": "stdout",
          "text": [
            "Number of duplicates after deleting are 0\n"
          ]
        }
      ],
      "source": [
        "# There are 13464 duplicated rows, therefore we'll dlete them\n",
        "df = df.drop_duplicates()\n",
        "print('Number of duplicates after deleting are',df.duplicated().sum())\n",
        "# all duplicates are removed"
      ]
    },
    {
      "cell_type": "code",
      "execution_count": 244,
      "metadata": {
        "colab": {
          "base_uri": "https://localhost:8080/"
        },
        "id": "yDXEqCpWpkWa",
        "outputId": "6506b255-401c-4745-e4a7-e18e4e8150c2"
      },
      "outputs": [
        {
          "output_type": "stream",
          "name": "stdout",
          "text": [
            "We found Associated_AAD_YPLL_Years     0\n",
            "ConditionType                 0\n",
            "Category                      0\n",
            "Cause_of_Death                0\n",
            "ConsumptionPattern            0\n",
            "Sex                           0\n",
            "AgeGroup                      0\n",
            "dtype: int64 missing values\n"
          ]
        }
      ],
      "source": [
        "# Find and deal with missing values\n",
        "print(f'We found {df.isna().sum()} missing values')\n",
        "# There are no more missing vlues"
      ]
    },
    {
      "cell_type": "code",
      "execution_count": 245,
      "metadata": {
        "colab": {
          "base_uri": "https://localhost:8080/",
          "height": 206
        },
        "id": "ozr1DJ0P0bmL",
        "outputId": "143144d8-aef5-440d-abb4-5ba7d581f462"
      },
      "outputs": [
        {
          "output_type": "execute_result",
          "data": {
            "text/plain": [
              "  Associated_AAD_YPLL_Years  ConditionType            Category Cause_of_Death  \\\n",
              "0                  2015-2019         Acute  Other Acute Causes       Drowning   \n",
              "1                  2015-2019         Acute  Other Acute Causes       Drowning   \n",
              "2                  2015-2019         Acute  Other Acute Causes  Fall injuries   \n",
              "3                  2015-2019         Acute  Other Acute Causes  Fall injuries   \n",
              "4                  2015-2019         Acute  Other Acute Causes  Fire injuries   \n",
              "\n",
              "  ConsumptionPattern     Sex AgeGroup  \n",
              "0    Any Alcohol Use  Female  Overall  \n",
              "1    Any Alcohol Use    Male  Overall  \n",
              "2    Any Alcohol Use  Female  Overall  \n",
              "3    Any Alcohol Use    Male  Overall  \n",
              "4    Any Alcohol Use  Female  Overall  "
            ],
            "text/html": [
              "\n",
              "  <div id=\"df-6268c8d5-24fc-4c1c-9856-f3a3fd5f789c\">\n",
              "    <div class=\"colab-df-container\">\n",
              "      <div>\n",
              "<style scoped>\n",
              "    .dataframe tbody tr th:only-of-type {\n",
              "        vertical-align: middle;\n",
              "    }\n",
              "\n",
              "    .dataframe tbody tr th {\n",
              "        vertical-align: top;\n",
              "    }\n",
              "\n",
              "    .dataframe thead th {\n",
              "        text-align: right;\n",
              "    }\n",
              "</style>\n",
              "<table border=\"1\" class=\"dataframe\">\n",
              "  <thead>\n",
              "    <tr style=\"text-align: right;\">\n",
              "      <th></th>\n",
              "      <th>Associated_AAD_YPLL_Years</th>\n",
              "      <th>ConditionType</th>\n",
              "      <th>Category</th>\n",
              "      <th>Cause_of_Death</th>\n",
              "      <th>ConsumptionPattern</th>\n",
              "      <th>Sex</th>\n",
              "      <th>AgeGroup</th>\n",
              "    </tr>\n",
              "  </thead>\n",
              "  <tbody>\n",
              "    <tr>\n",
              "      <th>0</th>\n",
              "      <td>2015-2019</td>\n",
              "      <td>Acute</td>\n",
              "      <td>Other Acute Causes</td>\n",
              "      <td>Drowning</td>\n",
              "      <td>Any Alcohol Use</td>\n",
              "      <td>Female</td>\n",
              "      <td>Overall</td>\n",
              "    </tr>\n",
              "    <tr>\n",
              "      <th>1</th>\n",
              "      <td>2015-2019</td>\n",
              "      <td>Acute</td>\n",
              "      <td>Other Acute Causes</td>\n",
              "      <td>Drowning</td>\n",
              "      <td>Any Alcohol Use</td>\n",
              "      <td>Male</td>\n",
              "      <td>Overall</td>\n",
              "    </tr>\n",
              "    <tr>\n",
              "      <th>2</th>\n",
              "      <td>2015-2019</td>\n",
              "      <td>Acute</td>\n",
              "      <td>Other Acute Causes</td>\n",
              "      <td>Fall injuries</td>\n",
              "      <td>Any Alcohol Use</td>\n",
              "      <td>Female</td>\n",
              "      <td>Overall</td>\n",
              "    </tr>\n",
              "    <tr>\n",
              "      <th>3</th>\n",
              "      <td>2015-2019</td>\n",
              "      <td>Acute</td>\n",
              "      <td>Other Acute Causes</td>\n",
              "      <td>Fall injuries</td>\n",
              "      <td>Any Alcohol Use</td>\n",
              "      <td>Male</td>\n",
              "      <td>Overall</td>\n",
              "    </tr>\n",
              "    <tr>\n",
              "      <th>4</th>\n",
              "      <td>2015-2019</td>\n",
              "      <td>Acute</td>\n",
              "      <td>Other Acute Causes</td>\n",
              "      <td>Fire injuries</td>\n",
              "      <td>Any Alcohol Use</td>\n",
              "      <td>Female</td>\n",
              "      <td>Overall</td>\n",
              "    </tr>\n",
              "  </tbody>\n",
              "</table>\n",
              "</div>\n",
              "      <button class=\"colab-df-convert\" onclick=\"convertToInteractive('df-6268c8d5-24fc-4c1c-9856-f3a3fd5f789c')\"\n",
              "              title=\"Convert this dataframe to an interactive table.\"\n",
              "              style=\"display:none;\">\n",
              "        \n",
              "  <svg xmlns=\"http://www.w3.org/2000/svg\" height=\"24px\"viewBox=\"0 0 24 24\"\n",
              "       width=\"24px\">\n",
              "    <path d=\"M0 0h24v24H0V0z\" fill=\"none\"/>\n",
              "    <path d=\"M18.56 5.44l.94 2.06.94-2.06 2.06-.94-2.06-.94-.94-2.06-.94 2.06-2.06.94zm-11 1L8.5 8.5l.94-2.06 2.06-.94-2.06-.94L8.5 2.5l-.94 2.06-2.06.94zm10 10l.94 2.06.94-2.06 2.06-.94-2.06-.94-.94-2.06-.94 2.06-2.06.94z\"/><path d=\"M17.41 7.96l-1.37-1.37c-.4-.4-.92-.59-1.43-.59-.52 0-1.04.2-1.43.59L10.3 9.45l-7.72 7.72c-.78.78-.78 2.05 0 2.83L4 21.41c.39.39.9.59 1.41.59.51 0 1.02-.2 1.41-.59l7.78-7.78 2.81-2.81c.8-.78.8-2.07 0-2.86zM5.41 20L4 18.59l7.72-7.72 1.47 1.35L5.41 20z\"/>\n",
              "  </svg>\n",
              "      </button>\n",
              "      \n",
              "  <style>\n",
              "    .colab-df-container {\n",
              "      display:flex;\n",
              "      flex-wrap:wrap;\n",
              "      gap: 12px;\n",
              "    }\n",
              "\n",
              "    .colab-df-convert {\n",
              "      background-color: #E8F0FE;\n",
              "      border: none;\n",
              "      border-radius: 50%;\n",
              "      cursor: pointer;\n",
              "      display: none;\n",
              "      fill: #1967D2;\n",
              "      height: 32px;\n",
              "      padding: 0 0 0 0;\n",
              "      width: 32px;\n",
              "    }\n",
              "\n",
              "    .colab-df-convert:hover {\n",
              "      background-color: #E2EBFA;\n",
              "      box-shadow: 0px 1px 2px rgba(60, 64, 67, 0.3), 0px 1px 3px 1px rgba(60, 64, 67, 0.15);\n",
              "      fill: #174EA6;\n",
              "    }\n",
              "\n",
              "    [theme=dark] .colab-df-convert {\n",
              "      background-color: #3B4455;\n",
              "      fill: #D2E3FC;\n",
              "    }\n",
              "\n",
              "    [theme=dark] .colab-df-convert:hover {\n",
              "      background-color: #434B5C;\n",
              "      box-shadow: 0px 1px 3px 1px rgba(0, 0, 0, 0.15);\n",
              "      filter: drop-shadow(0px 1px 2px rgba(0, 0, 0, 0.3));\n",
              "      fill: #FFFFFF;\n",
              "    }\n",
              "  </style>\n",
              "\n",
              "      <script>\n",
              "        const buttonEl =\n",
              "          document.querySelector('#df-6268c8d5-24fc-4c1c-9856-f3a3fd5f789c button.colab-df-convert');\n",
              "        buttonEl.style.display =\n",
              "          google.colab.kernel.accessAllowed ? 'block' : 'none';\n",
              "\n",
              "        async function convertToInteractive(key) {\n",
              "          const element = document.querySelector('#df-6268c8d5-24fc-4c1c-9856-f3a3fd5f789c');\n",
              "          const dataTable =\n",
              "            await google.colab.kernel.invokeFunction('convertToInteractive',\n",
              "                                                     [key], {});\n",
              "          if (!dataTable) return;\n",
              "\n",
              "          const docLinkHtml = 'Like what you see? Visit the ' +\n",
              "            '<a target=\"_blank\" href=https://colab.research.google.com/notebooks/data_table.ipynb>data table notebook</a>'\n",
              "            + ' to learn more about interactive tables.';\n",
              "          element.innerHTML = '';\n",
              "          dataTable['output_type'] = 'display_data';\n",
              "          await google.colab.output.renderOutput(dataTable, element);\n",
              "          const docLink = document.createElement('div');\n",
              "          docLink.innerHTML = docLinkHtml;\n",
              "          element.appendChild(docLink);\n",
              "        }\n",
              "      </script>\n",
              "    </div>\n",
              "  </div>\n",
              "  "
            ]
          },
          "metadata": {},
          "execution_count": 245
        }
      ],
      "source": [
        "# Explore the data once more\n",
        "df.head()"
      ]
    },
    {
      "cell_type": "code",
      "execution_count": 246,
      "metadata": {
        "id": "PUKzkhZKo6Qn"
      },
      "outputs": [],
      "source": [
        "# produce univariate visuals for the target and all feature\n",
        "# Split the dataset into Target and features matrix\n",
        "# We will also do Label Encoding\n",
        "\n",
        "# label_encoder object knows how to understand word labels.\n",
        "label_encoder = preprocessing.LabelEncoder()\n",
        "\n",
        "# Encode labels in column 'Cause_of_Death'.\n",
        "df['Cause_of_Death'] = label_encoder.fit_transform(df['Cause_of_Death'])\n",
        "\n",
        "y = df['Cause_of_Death']\n",
        "X = df.drop(columns=['Cause_of_Death'])\n"
      ]
    },
    {
      "cell_type": "code",
      "execution_count": 247,
      "metadata": {
        "id": "N1_JenHApGyT"
      },
      "outputs": [],
      "source": [
        "# Split data into training and test sets (validation split)\n",
        "X_train, X_test, y_train, y_test = train_test_split(X, y, test_size=0.20, random_state=42)"
      ]
    },
    {
      "cell_type": "code",
      "execution_count": 248,
      "metadata": {
        "colab": {
          "base_uri": "https://localhost:8080/"
        },
        "id": "M11IjushgsmQ",
        "outputId": "c77d6ec5-4b7b-4c57-b47d-c8e6a6a51026"
      },
      "outputs": [
        {
          "output_type": "execute_result",
          "data": {
            "text/plain": [
              "1    130\n",
              "0     81\n",
              "Name: ConditionType, dtype: int64"
            ]
          },
          "metadata": {},
          "execution_count": 248
        }
      ],
      "source": [
        "# condition type \n",
        "# Since content type vaiable are ordinal we will ordical encode them\n",
        "cond = {'Acute':0, 'Chronic': 1}\n",
        "X_train['ConditionType'] = X_train['ConditionType'].replace(cond)\n",
        "X_test['ConditionType'] = X_test['ConditionType'].replace(cond)\n",
        "X_train['ConditionType'].value_counts()"
      ]
    },
    {
      "cell_type": "code",
      "execution_count": 249,
      "metadata": {
        "colab": {
          "base_uri": "https://localhost:8080/"
        },
        "id": "TxoG936jh9Jd",
        "outputId": "ad34a948-2b85-4347-868e-05c46f692ea4"
      },
      "outputs": [
        {
          "output_type": "execute_result",
          "data": {
            "text/plain": [
              "1    106\n",
              "0    105\n",
              "Name: ConsumptionPattern, dtype: int64"
            ]
          },
          "metadata": {},
          "execution_count": 249
        }
      ],
      "source": [
        "# ConsumptionPattern\n",
        "# Let's do ordinal encoding on the ConsumptionPattern\n",
        "pattern = {'Any Alcohol Use':0, 'Excessive Alcohol Use':1}\n",
        "X_train['ConsumptionPattern'] = X_train['ConsumptionPattern'].replace(pattern)\n",
        "X_test['ConsumptionPattern'] = X_test['ConsumptionPattern'].replace(pattern)\n",
        "X_train['ConsumptionPattern'].value_counts()\n"
      ]
    },
    {
      "cell_type": "code",
      "execution_count": 250,
      "metadata": {
        "colab": {
          "base_uri": "https://localhost:8080/"
        },
        "id": "cX9qy8m5ZEB0",
        "outputId": "15baad4d-69c9-4d92-e59b-7a643614cb4e"
      },
      "outputs": [
        {
          "output_type": "execute_result",
          "data": {
            "text/plain": [
              "Associated_AAD_YPLL_Years     object\n",
              "ConditionType                  int64\n",
              "Category                      object\n",
              "ConsumptionPattern             int64\n",
              "Sex                           object\n",
              "AgeGroup                      object\n",
              "dtype: object"
            ]
          },
          "metadata": {},
          "execution_count": 250
        }
      ],
      "source": [
        "X_train.dtypes"
      ]
    },
    {
      "cell_type": "code",
      "execution_count": 251,
      "metadata": {
        "colab": {
          "base_uri": "https://localhost:8080/"
        },
        "id": "EqvDSE7MiRiV",
        "outputId": "da9f6da5-1fd3-404d-a153-9c94674c36c5"
      },
      "outputs": [
        {
          "output_type": "execute_result",
          "data": {
            "text/plain": [
              "Overall    232\n",
              "65+          4\n",
              "0-14         4\n",
              "15-19        4\n",
              "55-64        4\n",
              "45-54        4\n",
              "35-44        4\n",
              "20-24        4\n",
              "25-34        4\n",
              "Name: AgeGroup, dtype: int64"
            ]
          },
          "metadata": {},
          "execution_count": 251
        }
      ],
      "source": [
        "# AgeGroup\n",
        "# We'll do ordinal encoding on AgeGroup\n",
        "df['AgeGroup'].value_counts()"
      ]
    },
    {
      "cell_type": "code",
      "execution_count": 252,
      "metadata": {
        "colab": {
          "base_uri": "https://localhost:8080/"
        },
        "id": "mZMHLKELw9_U",
        "outputId": "d76d5d07-cb3c-4c5f-a694-e8aa8bfdb738"
      },
      "outputs": [
        {
          "output_type": "execute_result",
          "data": {
            "text/plain": [
              "144    0\n",
              "73     0\n",
              "78     0\n",
              "264    0\n",
              "194    0\n",
              "      ..\n",
              "20     2\n",
              "200    0\n",
              "71     0\n",
              "106    0\n",
              "102    0\n",
              "Name: AgeGroup, Length: 211, dtype: int64"
            ]
          },
          "metadata": {},
          "execution_count": 252
        }
      ],
      "source": [
        "# Do ordinal encoding on AgeGroup\n",
        "ageGroup = {'Overall': 0, '0-14': 1, '15-19': 2, '20-24': 3, '25-34':4, '35-44':5, '45-54':6, '55-64':7, '65+':8}\n",
        "X_train['AgeGroup'] = X_train['AgeGroup'].replace(ageGroup)\n",
        "X_test['AgeGroup'] = X_test['AgeGroup'].replace(ageGroup)\n",
        "X_train['AgeGroup']"
      ]
    },
    {
      "cell_type": "markdown",
      "metadata": {
        "id": "nfF9p2P17n9L"
      },
      "source": [
        "We will now do OneHot Encoding on the remaining columns i.e Sex, Cause of Death and Category"
      ]
    },
    {
      "cell_type": "code",
      "execution_count": 253,
      "metadata": {
        "colab": {
          "base_uri": "https://localhost:8080/"
        },
        "id": "dfnxMGhiiJ8Q",
        "outputId": "d8bd3d07-eb1a-4f8a-83d2-b25be47147aa"
      },
      "outputs": [
        {
          "output_type": "execute_result",
          "data": {
            "text/plain": [
              "Female    132\n",
              "Male      132\n",
              "Name: Sex, dtype: int64"
            ]
          },
          "metadata": {},
          "execution_count": 253
        }
      ],
      "source": [
        "# Sex\n",
        "df['Sex'].value_counts()"
      ]
    },
    {
      "cell_type": "code",
      "execution_count": 254,
      "metadata": {
        "colab": {
          "base_uri": "https://localhost:8080/"
        },
        "id": "pIfaXslqsNSo",
        "outputId": "1ab33363-d822-498b-c8da-29f155a23c52"
      },
      "outputs": [
        {
          "output_type": "execute_result",
          "data": {
            "text/plain": [
              "44    32\n",
              "25     8\n",
              "27     4\n",
              "53     4\n",
              "15     4\n",
              "16     4\n",
              "17     4\n",
              "18     4\n",
              "19     4\n",
              "20     4\n",
              "21     4\n",
              "22     4\n",
              "13     4\n",
              "37     4\n",
              "52     4\n",
              "28     4\n",
              "31     4\n",
              "34     4\n",
              "35     4\n",
              "42     4\n",
              "47     4\n",
              "48     4\n",
              "51     4\n",
              "24     4\n",
              "39     4\n",
              "40     4\n",
              "41     4\n",
              "49     4\n",
              "14     4\n",
              "30     4\n",
              "29     4\n",
              "26     4\n",
              "32     4\n",
              "33     4\n",
              "36     4\n",
              "38     4\n",
              "4      4\n",
              "50     4\n",
              "0      4\n",
              "12     4\n",
              "23     4\n",
              "43     4\n",
              "45     4\n",
              "46     4\n",
              "57     4\n",
              "54     4\n",
              "55     4\n",
              "1      4\n",
              "2      4\n",
              "3      4\n",
              "5      4\n",
              "6      4\n",
              "7      4\n",
              "8      4\n",
              "9      4\n",
              "10     4\n",
              "11     4\n",
              "56     4\n",
              "Name: Cause_of_Death, dtype: int64"
            ]
          },
          "metadata": {},
          "execution_count": 254
        }
      ],
      "source": [
        "# Cause of Death\n",
        "df['Cause_of_Death'].value_counts()"
      ]
    },
    {
      "cell_type": "code",
      "execution_count": null,
      "metadata": {
        "colab": {
          "base_uri": "https://localhost:8080/"
        },
        "id": "P3xGW7VAhNZA",
        "outputId": "4b460f18-9d58-485f-bae7-b6e92584cb55"
      },
      "outputs": [
        {
          "data": {
            "text/plain": [
              "Other Acute Causes                  52\n",
              "100% Alcohol-Attributable           52\n",
              "Cancer                              36\n",
              "Motor Vehicle Traffic Crashes       32\n",
              "Liver, Gallbladder, and Pancreas    28\n",
              "Other Chronic Causes                24\n",
              "Heart Disease and Stroke            20\n",
              "Alcohol-Related Poisonings           8\n",
              "Suicide                              8\n",
              "Coronary heart disease               4\n",
              "Name: Category, dtype: int64"
            ]
          },
          "execution_count": 31,
          "metadata": {},
          "output_type": "execute_result"
        }
      ],
      "source": [
        "# Category\n",
        "df['Category'].value_counts()"
      ]
    },
    {
      "cell_type": "code",
      "execution_count": 35,
      "metadata": {
        "id": "DMYyi2cCuGN-"
      },
      "outputs": [],
      "source": [
        "# Select columns with specific names\n",
        "# make categorical selector\n",
        "cat_selector = make_column_selector(dtype_include='object')\n"
      ]
    },
    {
      "cell_type": "code",
      "execution_count": 36,
      "metadata": {
        "colab": {
          "base_uri": "https://localhost:8080/",
          "height": 424
        },
        "id": "PcCQDohPoKcf",
        "outputId": "a70c05f0-9994-43d6-8633-5cc3f3e399de"
      },
      "outputs": [
        {
          "output_type": "execute_result",
          "data": {
            "text/plain": [
              "    Associated_AAD_YPLL_Years                        Category     Sex\n",
              "144                  2015-2019     Alcohol-Related Poisonings  Female\n",
              "73                   2015-2019      100% Alcohol-Attributable    Male\n",
              "78                   2015-2019      100% Alcohol-Attributable  Female\n",
              "264                  2015-2019           Other Chronic Causes    Male\n",
              "194                  2015-2019      100% Alcohol-Attributable  Female\n",
              "..                         ...                            ...     ...\n",
              "20                   2015-2019  Motor Vehicle Traffic Crashes  Female\n",
              "200                  2015-2019      100% Alcohol-Attributable  Female\n",
              "71                   2015-2019      100% Alcohol-Attributable    Male\n",
              "106                  2015-2019         Coronary heart disease  Female\n",
              "102                  2015-2019                         Cancer    Male\n",
              "\n",
              "[211 rows x 3 columns]"
            ],
            "text/html": [
              "\n",
              "  <div id=\"df-2b8d00f0-5d62-41f5-b372-86ea75828cb3\">\n",
              "    <div class=\"colab-df-container\">\n",
              "      <div>\n",
              "<style scoped>\n",
              "    .dataframe tbody tr th:only-of-type {\n",
              "        vertical-align: middle;\n",
              "    }\n",
              "\n",
              "    .dataframe tbody tr th {\n",
              "        vertical-align: top;\n",
              "    }\n",
              "\n",
              "    .dataframe thead th {\n",
              "        text-align: right;\n",
              "    }\n",
              "</style>\n",
              "<table border=\"1\" class=\"dataframe\">\n",
              "  <thead>\n",
              "    <tr style=\"text-align: right;\">\n",
              "      <th></th>\n",
              "      <th>Associated_AAD_YPLL_Years</th>\n",
              "      <th>Category</th>\n",
              "      <th>Sex</th>\n",
              "    </tr>\n",
              "  </thead>\n",
              "  <tbody>\n",
              "    <tr>\n",
              "      <th>144</th>\n",
              "      <td>2015-2019</td>\n",
              "      <td>Alcohol-Related Poisonings</td>\n",
              "      <td>Female</td>\n",
              "    </tr>\n",
              "    <tr>\n",
              "      <th>73</th>\n",
              "      <td>2015-2019</td>\n",
              "      <td>100% Alcohol-Attributable</td>\n",
              "      <td>Male</td>\n",
              "    </tr>\n",
              "    <tr>\n",
              "      <th>78</th>\n",
              "      <td>2015-2019</td>\n",
              "      <td>100% Alcohol-Attributable</td>\n",
              "      <td>Female</td>\n",
              "    </tr>\n",
              "    <tr>\n",
              "      <th>264</th>\n",
              "      <td>2015-2019</td>\n",
              "      <td>Other Chronic Causes</td>\n",
              "      <td>Male</td>\n",
              "    </tr>\n",
              "    <tr>\n",
              "      <th>194</th>\n",
              "      <td>2015-2019</td>\n",
              "      <td>100% Alcohol-Attributable</td>\n",
              "      <td>Female</td>\n",
              "    </tr>\n",
              "    <tr>\n",
              "      <th>...</th>\n",
              "      <td>...</td>\n",
              "      <td>...</td>\n",
              "      <td>...</td>\n",
              "    </tr>\n",
              "    <tr>\n",
              "      <th>20</th>\n",
              "      <td>2015-2019</td>\n",
              "      <td>Motor Vehicle Traffic Crashes</td>\n",
              "      <td>Female</td>\n",
              "    </tr>\n",
              "    <tr>\n",
              "      <th>200</th>\n",
              "      <td>2015-2019</td>\n",
              "      <td>100% Alcohol-Attributable</td>\n",
              "      <td>Female</td>\n",
              "    </tr>\n",
              "    <tr>\n",
              "      <th>71</th>\n",
              "      <td>2015-2019</td>\n",
              "      <td>100% Alcohol-Attributable</td>\n",
              "      <td>Male</td>\n",
              "    </tr>\n",
              "    <tr>\n",
              "      <th>106</th>\n",
              "      <td>2015-2019</td>\n",
              "      <td>Coronary heart disease</td>\n",
              "      <td>Female</td>\n",
              "    </tr>\n",
              "    <tr>\n",
              "      <th>102</th>\n",
              "      <td>2015-2019</td>\n",
              "      <td>Cancer</td>\n",
              "      <td>Male</td>\n",
              "    </tr>\n",
              "  </tbody>\n",
              "</table>\n",
              "<p>211 rows × 3 columns</p>\n",
              "</div>\n",
              "      <button class=\"colab-df-convert\" onclick=\"convertToInteractive('df-2b8d00f0-5d62-41f5-b372-86ea75828cb3')\"\n",
              "              title=\"Convert this dataframe to an interactive table.\"\n",
              "              style=\"display:none;\">\n",
              "        \n",
              "  <svg xmlns=\"http://www.w3.org/2000/svg\" height=\"24px\"viewBox=\"0 0 24 24\"\n",
              "       width=\"24px\">\n",
              "    <path d=\"M0 0h24v24H0V0z\" fill=\"none\"/>\n",
              "    <path d=\"M18.56 5.44l.94 2.06.94-2.06 2.06-.94-2.06-.94-.94-2.06-.94 2.06-2.06.94zm-11 1L8.5 8.5l.94-2.06 2.06-.94-2.06-.94L8.5 2.5l-.94 2.06-2.06.94zm10 10l.94 2.06.94-2.06 2.06-.94-2.06-.94-.94-2.06-.94 2.06-2.06.94z\"/><path d=\"M17.41 7.96l-1.37-1.37c-.4-.4-.92-.59-1.43-.59-.52 0-1.04.2-1.43.59L10.3 9.45l-7.72 7.72c-.78.78-.78 2.05 0 2.83L4 21.41c.39.39.9.59 1.41.59.51 0 1.02-.2 1.41-.59l7.78-7.78 2.81-2.81c.8-.78.8-2.07 0-2.86zM5.41 20L4 18.59l7.72-7.72 1.47 1.35L5.41 20z\"/>\n",
              "  </svg>\n",
              "      </button>\n",
              "      \n",
              "  <style>\n",
              "    .colab-df-container {\n",
              "      display:flex;\n",
              "      flex-wrap:wrap;\n",
              "      gap: 12px;\n",
              "    }\n",
              "\n",
              "    .colab-df-convert {\n",
              "      background-color: #E8F0FE;\n",
              "      border: none;\n",
              "      border-radius: 50%;\n",
              "      cursor: pointer;\n",
              "      display: none;\n",
              "      fill: #1967D2;\n",
              "      height: 32px;\n",
              "      padding: 0 0 0 0;\n",
              "      width: 32px;\n",
              "    }\n",
              "\n",
              "    .colab-df-convert:hover {\n",
              "      background-color: #E2EBFA;\n",
              "      box-shadow: 0px 1px 2px rgba(60, 64, 67, 0.3), 0px 1px 3px 1px rgba(60, 64, 67, 0.15);\n",
              "      fill: #174EA6;\n",
              "    }\n",
              "\n",
              "    [theme=dark] .colab-df-convert {\n",
              "      background-color: #3B4455;\n",
              "      fill: #D2E3FC;\n",
              "    }\n",
              "\n",
              "    [theme=dark] .colab-df-convert:hover {\n",
              "      background-color: #434B5C;\n",
              "      box-shadow: 0px 1px 3px 1px rgba(0, 0, 0, 0.15);\n",
              "      filter: drop-shadow(0px 1px 2px rgba(0, 0, 0, 0.3));\n",
              "      fill: #FFFFFF;\n",
              "    }\n",
              "  </style>\n",
              "\n",
              "      <script>\n",
              "        const buttonEl =\n",
              "          document.querySelector('#df-2b8d00f0-5d62-41f5-b372-86ea75828cb3 button.colab-df-convert');\n",
              "        buttonEl.style.display =\n",
              "          google.colab.kernel.accessAllowed ? 'block' : 'none';\n",
              "\n",
              "        async function convertToInteractive(key) {\n",
              "          const element = document.querySelector('#df-2b8d00f0-5d62-41f5-b372-86ea75828cb3');\n",
              "          const dataTable =\n",
              "            await google.colab.kernel.invokeFunction('convertToInteractive',\n",
              "                                                     [key], {});\n",
              "          if (!dataTable) return;\n",
              "\n",
              "          const docLinkHtml = 'Like what you see? Visit the ' +\n",
              "            '<a target=\"_blank\" href=https://colab.research.google.com/notebooks/data_table.ipynb>data table notebook</a>'\n",
              "            + ' to learn more about interactive tables.';\n",
              "          element.innerHTML = '';\n",
              "          dataTable['output_type'] = 'display_data';\n",
              "          await google.colab.output.renderOutput(dataTable, element);\n",
              "          const docLink = document.createElement('div');\n",
              "          docLink.innerHTML = docLinkHtml;\n",
              "          element.appendChild(docLink);\n",
              "        }\n",
              "      </script>\n",
              "    </div>\n",
              "  </div>\n",
              "  "
            ]
          },
          "metadata": {},
          "execution_count": 36
        }
      ],
      "source": [
        "# create a subset of data for only categorical nominal columns\n",
        "train_cat_data = X_train[cat_selector(X_train)]\n",
        "test_cat_data = X_test[cat_selector(X_test)]\n",
        "train_cat_data\n"
      ]
    },
    {
      "cell_type": "code",
      "execution_count": 37,
      "metadata": {
        "colab": {
          "base_uri": "https://localhost:8080/"
        },
        "id": "15ielDowuTv4",
        "outputId": "8a1fff3d-b794-41cc-90e7-6878e7aea1c8"
      },
      "outputs": [
        {
          "output_type": "execute_result",
          "data": {
            "text/plain": [
              "array([[1., 0., 1., ..., 0., 1., 0.],\n",
              "       [1., 1., 0., ..., 0., 0., 1.],\n",
              "       [1., 1., 0., ..., 0., 1., 0.],\n",
              "       ...,\n",
              "       [1., 1., 0., ..., 0., 0., 1.],\n",
              "       [1., 0., 0., ..., 0., 1., 0.],\n",
              "       [1., 0., 0., ..., 0., 0., 1.]])"
            ]
          },
          "metadata": {},
          "execution_count": 37
        }
      ],
      "source": [
        "#instantiate one hot encoder\n",
        "ohe_encoder = OneHotEncoder(sparse=False, handle_unknown='ignore')\n",
        "\n",
        "#fit the OneHotEncoder on the training data\n",
        "ohe_encoder.fit(train_cat_data)\n",
        "\n",
        "#transform both the training and the testing data\n",
        "train_ohe = ohe_encoder.transform(train_cat_data)\n",
        "test_ohe = ohe_encoder.transform(test_cat_data)\n",
        "train_ohe\n",
        "\n"
      ]
    },
    {
      "cell_type": "code",
      "execution_count": 38,
      "metadata": {
        "colab": {
          "base_uri": "https://localhost:8080/",
          "height": 540
        },
        "id": "VXUi7dRSvY7o",
        "outputId": "c08024ec-03e8-42ff-be61-0fa19e48196e"
      },
      "outputs": [
        {
          "output_type": "execute_result",
          "data": {
            "text/plain": [
              "     Associated_AAD_YPLL_Years _2015-2019  Category_100% Alcohol-Attributable  \\\n",
              "0                                     1.0                                 0.0   \n",
              "1                                     1.0                                 1.0   \n",
              "2                                     1.0                                 1.0   \n",
              "3                                     1.0                                 0.0   \n",
              "4                                     1.0                                 1.0   \n",
              "..                                    ...                                 ...   \n",
              "206                                   1.0                                 0.0   \n",
              "207                                   1.0                                 1.0   \n",
              "208                                   1.0                                 1.0   \n",
              "209                                   1.0                                 0.0   \n",
              "210                                   1.0                                 0.0   \n",
              "\n",
              "     Category_Alcohol-Related Poisonings  Category_Cancer  \\\n",
              "0                                    1.0              0.0   \n",
              "1                                    0.0              0.0   \n",
              "2                                    0.0              0.0   \n",
              "3                                    0.0              0.0   \n",
              "4                                    0.0              0.0   \n",
              "..                                   ...              ...   \n",
              "206                                  0.0              0.0   \n",
              "207                                  0.0              0.0   \n",
              "208                                  0.0              0.0   \n",
              "209                                  0.0              0.0   \n",
              "210                                  0.0              1.0   \n",
              "\n",
              "     Category_Coronary heart disease  Category_Heart Disease and Stroke  \\\n",
              "0                                0.0                                0.0   \n",
              "1                                0.0                                0.0   \n",
              "2                                0.0                                0.0   \n",
              "3                                0.0                                0.0   \n",
              "4                                0.0                                0.0   \n",
              "..                               ...                                ...   \n",
              "206                              0.0                                0.0   \n",
              "207                              0.0                                0.0   \n",
              "208                              0.0                                0.0   \n",
              "209                              1.0                                0.0   \n",
              "210                              0.0                                0.0   \n",
              "\n",
              "     Category_Liver, Gallbladder, and Pancreas  \\\n",
              "0                                          0.0   \n",
              "1                                          0.0   \n",
              "2                                          0.0   \n",
              "3                                          0.0   \n",
              "4                                          0.0   \n",
              "..                                         ...   \n",
              "206                                        0.0   \n",
              "207                                        0.0   \n",
              "208                                        0.0   \n",
              "209                                        0.0   \n",
              "210                                        0.0   \n",
              "\n",
              "     Category_Motor Vehicle Traffic Crashes  Category_Other Acute Causes  \\\n",
              "0                                       0.0                          0.0   \n",
              "1                                       0.0                          0.0   \n",
              "2                                       0.0                          0.0   \n",
              "3                                       0.0                          0.0   \n",
              "4                                       0.0                          0.0   \n",
              "..                                      ...                          ...   \n",
              "206                                     1.0                          0.0   \n",
              "207                                     0.0                          0.0   \n",
              "208                                     0.0                          0.0   \n",
              "209                                     0.0                          0.0   \n",
              "210                                     0.0                          0.0   \n",
              "\n",
              "     Category_Other Chronic Causes  Category_Suicide  Sex_Female  Sex_Male  \n",
              "0                              0.0               0.0         1.0       0.0  \n",
              "1                              0.0               0.0         0.0       1.0  \n",
              "2                              0.0               0.0         1.0       0.0  \n",
              "3                              1.0               0.0         0.0       1.0  \n",
              "4                              0.0               0.0         1.0       0.0  \n",
              "..                             ...               ...         ...       ...  \n",
              "206                            0.0               0.0         1.0       0.0  \n",
              "207                            0.0               0.0         1.0       0.0  \n",
              "208                            0.0               0.0         0.0       1.0  \n",
              "209                            0.0               0.0         1.0       0.0  \n",
              "210                            0.0               0.0         0.0       1.0  \n",
              "\n",
              "[211 rows x 13 columns]"
            ],
            "text/html": [
              "\n",
              "  <div id=\"df-13590eeb-da3c-476a-9e3b-6090af1456db\">\n",
              "    <div class=\"colab-df-container\">\n",
              "      <div>\n",
              "<style scoped>\n",
              "    .dataframe tbody tr th:only-of-type {\n",
              "        vertical-align: middle;\n",
              "    }\n",
              "\n",
              "    .dataframe tbody tr th {\n",
              "        vertical-align: top;\n",
              "    }\n",
              "\n",
              "    .dataframe thead th {\n",
              "        text-align: right;\n",
              "    }\n",
              "</style>\n",
              "<table border=\"1\" class=\"dataframe\">\n",
              "  <thead>\n",
              "    <tr style=\"text-align: right;\">\n",
              "      <th></th>\n",
              "      <th>Associated_AAD_YPLL_Years _2015-2019</th>\n",
              "      <th>Category_100% Alcohol-Attributable</th>\n",
              "      <th>Category_Alcohol-Related Poisonings</th>\n",
              "      <th>Category_Cancer</th>\n",
              "      <th>Category_Coronary heart disease</th>\n",
              "      <th>Category_Heart Disease and Stroke</th>\n",
              "      <th>Category_Liver, Gallbladder, and Pancreas</th>\n",
              "      <th>Category_Motor Vehicle Traffic Crashes</th>\n",
              "      <th>Category_Other Acute Causes</th>\n",
              "      <th>Category_Other Chronic Causes</th>\n",
              "      <th>Category_Suicide</th>\n",
              "      <th>Sex_Female</th>\n",
              "      <th>Sex_Male</th>\n",
              "    </tr>\n",
              "  </thead>\n",
              "  <tbody>\n",
              "    <tr>\n",
              "      <th>0</th>\n",
              "      <td>1.0</td>\n",
              "      <td>0.0</td>\n",
              "      <td>1.0</td>\n",
              "      <td>0.0</td>\n",
              "      <td>0.0</td>\n",
              "      <td>0.0</td>\n",
              "      <td>0.0</td>\n",
              "      <td>0.0</td>\n",
              "      <td>0.0</td>\n",
              "      <td>0.0</td>\n",
              "      <td>0.0</td>\n",
              "      <td>1.0</td>\n",
              "      <td>0.0</td>\n",
              "    </tr>\n",
              "    <tr>\n",
              "      <th>1</th>\n",
              "      <td>1.0</td>\n",
              "      <td>1.0</td>\n",
              "      <td>0.0</td>\n",
              "      <td>0.0</td>\n",
              "      <td>0.0</td>\n",
              "      <td>0.0</td>\n",
              "      <td>0.0</td>\n",
              "      <td>0.0</td>\n",
              "      <td>0.0</td>\n",
              "      <td>0.0</td>\n",
              "      <td>0.0</td>\n",
              "      <td>0.0</td>\n",
              "      <td>1.0</td>\n",
              "    </tr>\n",
              "    <tr>\n",
              "      <th>2</th>\n",
              "      <td>1.0</td>\n",
              "      <td>1.0</td>\n",
              "      <td>0.0</td>\n",
              "      <td>0.0</td>\n",
              "      <td>0.0</td>\n",
              "      <td>0.0</td>\n",
              "      <td>0.0</td>\n",
              "      <td>0.0</td>\n",
              "      <td>0.0</td>\n",
              "      <td>0.0</td>\n",
              "      <td>0.0</td>\n",
              "      <td>1.0</td>\n",
              "      <td>0.0</td>\n",
              "    </tr>\n",
              "    <tr>\n",
              "      <th>3</th>\n",
              "      <td>1.0</td>\n",
              "      <td>0.0</td>\n",
              "      <td>0.0</td>\n",
              "      <td>0.0</td>\n",
              "      <td>0.0</td>\n",
              "      <td>0.0</td>\n",
              "      <td>0.0</td>\n",
              "      <td>0.0</td>\n",
              "      <td>0.0</td>\n",
              "      <td>1.0</td>\n",
              "      <td>0.0</td>\n",
              "      <td>0.0</td>\n",
              "      <td>1.0</td>\n",
              "    </tr>\n",
              "    <tr>\n",
              "      <th>4</th>\n",
              "      <td>1.0</td>\n",
              "      <td>1.0</td>\n",
              "      <td>0.0</td>\n",
              "      <td>0.0</td>\n",
              "      <td>0.0</td>\n",
              "      <td>0.0</td>\n",
              "      <td>0.0</td>\n",
              "      <td>0.0</td>\n",
              "      <td>0.0</td>\n",
              "      <td>0.0</td>\n",
              "      <td>0.0</td>\n",
              "      <td>1.0</td>\n",
              "      <td>0.0</td>\n",
              "    </tr>\n",
              "    <tr>\n",
              "      <th>...</th>\n",
              "      <td>...</td>\n",
              "      <td>...</td>\n",
              "      <td>...</td>\n",
              "      <td>...</td>\n",
              "      <td>...</td>\n",
              "      <td>...</td>\n",
              "      <td>...</td>\n",
              "      <td>...</td>\n",
              "      <td>...</td>\n",
              "      <td>...</td>\n",
              "      <td>...</td>\n",
              "      <td>...</td>\n",
              "      <td>...</td>\n",
              "    </tr>\n",
              "    <tr>\n",
              "      <th>206</th>\n",
              "      <td>1.0</td>\n",
              "      <td>0.0</td>\n",
              "      <td>0.0</td>\n",
              "      <td>0.0</td>\n",
              "      <td>0.0</td>\n",
              "      <td>0.0</td>\n",
              "      <td>0.0</td>\n",
              "      <td>1.0</td>\n",
              "      <td>0.0</td>\n",
              "      <td>0.0</td>\n",
              "      <td>0.0</td>\n",
              "      <td>1.0</td>\n",
              "      <td>0.0</td>\n",
              "    </tr>\n",
              "    <tr>\n",
              "      <th>207</th>\n",
              "      <td>1.0</td>\n",
              "      <td>1.0</td>\n",
              "      <td>0.0</td>\n",
              "      <td>0.0</td>\n",
              "      <td>0.0</td>\n",
              "      <td>0.0</td>\n",
              "      <td>0.0</td>\n",
              "      <td>0.0</td>\n",
              "      <td>0.0</td>\n",
              "      <td>0.0</td>\n",
              "      <td>0.0</td>\n",
              "      <td>1.0</td>\n",
              "      <td>0.0</td>\n",
              "    </tr>\n",
              "    <tr>\n",
              "      <th>208</th>\n",
              "      <td>1.0</td>\n",
              "      <td>1.0</td>\n",
              "      <td>0.0</td>\n",
              "      <td>0.0</td>\n",
              "      <td>0.0</td>\n",
              "      <td>0.0</td>\n",
              "      <td>0.0</td>\n",
              "      <td>0.0</td>\n",
              "      <td>0.0</td>\n",
              "      <td>0.0</td>\n",
              "      <td>0.0</td>\n",
              "      <td>0.0</td>\n",
              "      <td>1.0</td>\n",
              "    </tr>\n",
              "    <tr>\n",
              "      <th>209</th>\n",
              "      <td>1.0</td>\n",
              "      <td>0.0</td>\n",
              "      <td>0.0</td>\n",
              "      <td>0.0</td>\n",
              "      <td>1.0</td>\n",
              "      <td>0.0</td>\n",
              "      <td>0.0</td>\n",
              "      <td>0.0</td>\n",
              "      <td>0.0</td>\n",
              "      <td>0.0</td>\n",
              "      <td>0.0</td>\n",
              "      <td>1.0</td>\n",
              "      <td>0.0</td>\n",
              "    </tr>\n",
              "    <tr>\n",
              "      <th>210</th>\n",
              "      <td>1.0</td>\n",
              "      <td>0.0</td>\n",
              "      <td>0.0</td>\n",
              "      <td>1.0</td>\n",
              "      <td>0.0</td>\n",
              "      <td>0.0</td>\n",
              "      <td>0.0</td>\n",
              "      <td>0.0</td>\n",
              "      <td>0.0</td>\n",
              "      <td>0.0</td>\n",
              "      <td>0.0</td>\n",
              "      <td>0.0</td>\n",
              "      <td>1.0</td>\n",
              "    </tr>\n",
              "  </tbody>\n",
              "</table>\n",
              "<p>211 rows × 13 columns</p>\n",
              "</div>\n",
              "      <button class=\"colab-df-convert\" onclick=\"convertToInteractive('df-13590eeb-da3c-476a-9e3b-6090af1456db')\"\n",
              "              title=\"Convert this dataframe to an interactive table.\"\n",
              "              style=\"display:none;\">\n",
              "        \n",
              "  <svg xmlns=\"http://www.w3.org/2000/svg\" height=\"24px\"viewBox=\"0 0 24 24\"\n",
              "       width=\"24px\">\n",
              "    <path d=\"M0 0h24v24H0V0z\" fill=\"none\"/>\n",
              "    <path d=\"M18.56 5.44l.94 2.06.94-2.06 2.06-.94-2.06-.94-.94-2.06-.94 2.06-2.06.94zm-11 1L8.5 8.5l.94-2.06 2.06-.94-2.06-.94L8.5 2.5l-.94 2.06-2.06.94zm10 10l.94 2.06.94-2.06 2.06-.94-2.06-.94-.94-2.06-.94 2.06-2.06.94z\"/><path d=\"M17.41 7.96l-1.37-1.37c-.4-.4-.92-.59-1.43-.59-.52 0-1.04.2-1.43.59L10.3 9.45l-7.72 7.72c-.78.78-.78 2.05 0 2.83L4 21.41c.39.39.9.59 1.41.59.51 0 1.02-.2 1.41-.59l7.78-7.78 2.81-2.81c.8-.78.8-2.07 0-2.86zM5.41 20L4 18.59l7.72-7.72 1.47 1.35L5.41 20z\"/>\n",
              "  </svg>\n",
              "      </button>\n",
              "      \n",
              "  <style>\n",
              "    .colab-df-container {\n",
              "      display:flex;\n",
              "      flex-wrap:wrap;\n",
              "      gap: 12px;\n",
              "    }\n",
              "\n",
              "    .colab-df-convert {\n",
              "      background-color: #E8F0FE;\n",
              "      border: none;\n",
              "      border-radius: 50%;\n",
              "      cursor: pointer;\n",
              "      display: none;\n",
              "      fill: #1967D2;\n",
              "      height: 32px;\n",
              "      padding: 0 0 0 0;\n",
              "      width: 32px;\n",
              "    }\n",
              "\n",
              "    .colab-df-convert:hover {\n",
              "      background-color: #E2EBFA;\n",
              "      box-shadow: 0px 1px 2px rgba(60, 64, 67, 0.3), 0px 1px 3px 1px rgba(60, 64, 67, 0.15);\n",
              "      fill: #174EA6;\n",
              "    }\n",
              "\n",
              "    [theme=dark] .colab-df-convert {\n",
              "      background-color: #3B4455;\n",
              "      fill: #D2E3FC;\n",
              "    }\n",
              "\n",
              "    [theme=dark] .colab-df-convert:hover {\n",
              "      background-color: #434B5C;\n",
              "      box-shadow: 0px 1px 3px 1px rgba(0, 0, 0, 0.15);\n",
              "      filter: drop-shadow(0px 1px 2px rgba(0, 0, 0, 0.3));\n",
              "      fill: #FFFFFF;\n",
              "    }\n",
              "  </style>\n",
              "\n",
              "      <script>\n",
              "        const buttonEl =\n",
              "          document.querySelector('#df-13590eeb-da3c-476a-9e3b-6090af1456db button.colab-df-convert');\n",
              "        buttonEl.style.display =\n",
              "          google.colab.kernel.accessAllowed ? 'block' : 'none';\n",
              "\n",
              "        async function convertToInteractive(key) {\n",
              "          const element = document.querySelector('#df-13590eeb-da3c-476a-9e3b-6090af1456db');\n",
              "          const dataTable =\n",
              "            await google.colab.kernel.invokeFunction('convertToInteractive',\n",
              "                                                     [key], {});\n",
              "          if (!dataTable) return;\n",
              "\n",
              "          const docLinkHtml = 'Like what you see? Visit the ' +\n",
              "            '<a target=\"_blank\" href=https://colab.research.google.com/notebooks/data_table.ipynb>data table notebook</a>'\n",
              "            + ' to learn more about interactive tables.';\n",
              "          element.innerHTML = '';\n",
              "          dataTable['output_type'] = 'display_data';\n",
              "          await google.colab.output.renderOutput(dataTable, element);\n",
              "          const docLink = document.createElement('div');\n",
              "          docLink.innerHTML = docLinkHtml;\n",
              "          element.appendChild(docLink);\n",
              "        }\n",
              "      </script>\n",
              "    </div>\n",
              "  </div>\n",
              "  "
            ]
          },
          "metadata": {},
          "execution_count": 38
        }
      ],
      "source": [
        "# convert dataframe, \n",
        "\n",
        "# pick column names from encoder\n",
        "ohe_column_names = ohe_encoder.get_feature_names_out(train_cat_data.columns)\n",
        "\n",
        "# convert train dataframe\n",
        "train_ohe = pd.DataFrame(train_ohe, columns=ohe_column_names)\n",
        "\n",
        "# convert test dataframe\n",
        "test_ohe = pd.DataFrame(test_ohe, columns=ohe_column_names)\n",
        "\n",
        "# Visualize data again\n",
        "train_ohe"
      ]
    },
    {
      "cell_type": "code",
      "execution_count": 39,
      "metadata": {
        "colab": {
          "base_uri": "https://localhost:8080/",
          "height": 540
        },
        "id": "kpZJwiczzWkF",
        "outputId": "60166726-1d07-4bc3-8cc4-b3a2c6c3f375"
      },
      "outputs": [
        {
          "output_type": "execute_result",
          "data": {
            "text/plain": [
              "     ConditionType  ConsumptionPattern  AgeGroup  \\\n",
              "0                0                   0         0   \n",
              "1                1                   1         0   \n",
              "2                1                   1         0   \n",
              "3                1                   0         0   \n",
              "4                1                   0         0   \n",
              "..             ...                 ...       ...   \n",
              "206              0                   1         2   \n",
              "207              1                   0         0   \n",
              "208              1                   1         0   \n",
              "209              1                   1         0   \n",
              "210              1                   1         0   \n",
              "\n",
              "     Associated_AAD_YPLL_Years _2015-2019  Category_100% Alcohol-Attributable  \\\n",
              "0                                     1.0                                 0.0   \n",
              "1                                     1.0                                 1.0   \n",
              "2                                     1.0                                 1.0   \n",
              "3                                     1.0                                 0.0   \n",
              "4                                     1.0                                 1.0   \n",
              "..                                    ...                                 ...   \n",
              "206                                   1.0                                 0.0   \n",
              "207                                   1.0                                 1.0   \n",
              "208                                   1.0                                 1.0   \n",
              "209                                   1.0                                 0.0   \n",
              "210                                   1.0                                 0.0   \n",
              "\n",
              "     Category_Alcohol-Related Poisonings  Category_Cancer  \\\n",
              "0                                    1.0              0.0   \n",
              "1                                    0.0              0.0   \n",
              "2                                    0.0              0.0   \n",
              "3                                    0.0              0.0   \n",
              "4                                    0.0              0.0   \n",
              "..                                   ...              ...   \n",
              "206                                  0.0              0.0   \n",
              "207                                  0.0              0.0   \n",
              "208                                  0.0              0.0   \n",
              "209                                  0.0              0.0   \n",
              "210                                  0.0              1.0   \n",
              "\n",
              "     Category_Coronary heart disease  Category_Heart Disease and Stroke  \\\n",
              "0                                0.0                                0.0   \n",
              "1                                0.0                                0.0   \n",
              "2                                0.0                                0.0   \n",
              "3                                0.0                                0.0   \n",
              "4                                0.0                                0.0   \n",
              "..                               ...                                ...   \n",
              "206                              0.0                                0.0   \n",
              "207                              0.0                                0.0   \n",
              "208                              0.0                                0.0   \n",
              "209                              1.0                                0.0   \n",
              "210                              0.0                                0.0   \n",
              "\n",
              "     Category_Liver, Gallbladder, and Pancreas  \\\n",
              "0                                          0.0   \n",
              "1                                          0.0   \n",
              "2                                          0.0   \n",
              "3                                          0.0   \n",
              "4                                          0.0   \n",
              "..                                         ...   \n",
              "206                                        0.0   \n",
              "207                                        0.0   \n",
              "208                                        0.0   \n",
              "209                                        0.0   \n",
              "210                                        0.0   \n",
              "\n",
              "     Category_Motor Vehicle Traffic Crashes  Category_Other Acute Causes  \\\n",
              "0                                       0.0                          0.0   \n",
              "1                                       0.0                          0.0   \n",
              "2                                       0.0                          0.0   \n",
              "3                                       0.0                          0.0   \n",
              "4                                       0.0                          0.0   \n",
              "..                                      ...                          ...   \n",
              "206                                     1.0                          0.0   \n",
              "207                                     0.0                          0.0   \n",
              "208                                     0.0                          0.0   \n",
              "209                                     0.0                          0.0   \n",
              "210                                     0.0                          0.0   \n",
              "\n",
              "     Category_Other Chronic Causes  Category_Suicide  Sex_Female  Sex_Male  \n",
              "0                              0.0               0.0         1.0       0.0  \n",
              "1                              0.0               0.0         0.0       1.0  \n",
              "2                              0.0               0.0         1.0       0.0  \n",
              "3                              1.0               0.0         0.0       1.0  \n",
              "4                              0.0               0.0         1.0       0.0  \n",
              "..                             ...               ...         ...       ...  \n",
              "206                            0.0               0.0         1.0       0.0  \n",
              "207                            0.0               0.0         1.0       0.0  \n",
              "208                            0.0               0.0         0.0       1.0  \n",
              "209                            0.0               0.0         1.0       0.0  \n",
              "210                            0.0               0.0         0.0       1.0  \n",
              "\n",
              "[211 rows x 16 columns]"
            ],
            "text/html": [
              "\n",
              "  <div id=\"df-93383221-5f37-4532-badc-6ea3a4ea5048\">\n",
              "    <div class=\"colab-df-container\">\n",
              "      <div>\n",
              "<style scoped>\n",
              "    .dataframe tbody tr th:only-of-type {\n",
              "        vertical-align: middle;\n",
              "    }\n",
              "\n",
              "    .dataframe tbody tr th {\n",
              "        vertical-align: top;\n",
              "    }\n",
              "\n",
              "    .dataframe thead th {\n",
              "        text-align: right;\n",
              "    }\n",
              "</style>\n",
              "<table border=\"1\" class=\"dataframe\">\n",
              "  <thead>\n",
              "    <tr style=\"text-align: right;\">\n",
              "      <th></th>\n",
              "      <th>ConditionType</th>\n",
              "      <th>ConsumptionPattern</th>\n",
              "      <th>AgeGroup</th>\n",
              "      <th>Associated_AAD_YPLL_Years _2015-2019</th>\n",
              "      <th>Category_100% Alcohol-Attributable</th>\n",
              "      <th>Category_Alcohol-Related Poisonings</th>\n",
              "      <th>Category_Cancer</th>\n",
              "      <th>Category_Coronary heart disease</th>\n",
              "      <th>Category_Heart Disease and Stroke</th>\n",
              "      <th>Category_Liver, Gallbladder, and Pancreas</th>\n",
              "      <th>Category_Motor Vehicle Traffic Crashes</th>\n",
              "      <th>Category_Other Acute Causes</th>\n",
              "      <th>Category_Other Chronic Causes</th>\n",
              "      <th>Category_Suicide</th>\n",
              "      <th>Sex_Female</th>\n",
              "      <th>Sex_Male</th>\n",
              "    </tr>\n",
              "  </thead>\n",
              "  <tbody>\n",
              "    <tr>\n",
              "      <th>0</th>\n",
              "      <td>0</td>\n",
              "      <td>0</td>\n",
              "      <td>0</td>\n",
              "      <td>1.0</td>\n",
              "      <td>0.0</td>\n",
              "      <td>1.0</td>\n",
              "      <td>0.0</td>\n",
              "      <td>0.0</td>\n",
              "      <td>0.0</td>\n",
              "      <td>0.0</td>\n",
              "      <td>0.0</td>\n",
              "      <td>0.0</td>\n",
              "      <td>0.0</td>\n",
              "      <td>0.0</td>\n",
              "      <td>1.0</td>\n",
              "      <td>0.0</td>\n",
              "    </tr>\n",
              "    <tr>\n",
              "      <th>1</th>\n",
              "      <td>1</td>\n",
              "      <td>1</td>\n",
              "      <td>0</td>\n",
              "      <td>1.0</td>\n",
              "      <td>1.0</td>\n",
              "      <td>0.0</td>\n",
              "      <td>0.0</td>\n",
              "      <td>0.0</td>\n",
              "      <td>0.0</td>\n",
              "      <td>0.0</td>\n",
              "      <td>0.0</td>\n",
              "      <td>0.0</td>\n",
              "      <td>0.0</td>\n",
              "      <td>0.0</td>\n",
              "      <td>0.0</td>\n",
              "      <td>1.0</td>\n",
              "    </tr>\n",
              "    <tr>\n",
              "      <th>2</th>\n",
              "      <td>1</td>\n",
              "      <td>1</td>\n",
              "      <td>0</td>\n",
              "      <td>1.0</td>\n",
              "      <td>1.0</td>\n",
              "      <td>0.0</td>\n",
              "      <td>0.0</td>\n",
              "      <td>0.0</td>\n",
              "      <td>0.0</td>\n",
              "      <td>0.0</td>\n",
              "      <td>0.0</td>\n",
              "      <td>0.0</td>\n",
              "      <td>0.0</td>\n",
              "      <td>0.0</td>\n",
              "      <td>1.0</td>\n",
              "      <td>0.0</td>\n",
              "    </tr>\n",
              "    <tr>\n",
              "      <th>3</th>\n",
              "      <td>1</td>\n",
              "      <td>0</td>\n",
              "      <td>0</td>\n",
              "      <td>1.0</td>\n",
              "      <td>0.0</td>\n",
              "      <td>0.0</td>\n",
              "      <td>0.0</td>\n",
              "      <td>0.0</td>\n",
              "      <td>0.0</td>\n",
              "      <td>0.0</td>\n",
              "      <td>0.0</td>\n",
              "      <td>0.0</td>\n",
              "      <td>1.0</td>\n",
              "      <td>0.0</td>\n",
              "      <td>0.0</td>\n",
              "      <td>1.0</td>\n",
              "    </tr>\n",
              "    <tr>\n",
              "      <th>4</th>\n",
              "      <td>1</td>\n",
              "      <td>0</td>\n",
              "      <td>0</td>\n",
              "      <td>1.0</td>\n",
              "      <td>1.0</td>\n",
              "      <td>0.0</td>\n",
              "      <td>0.0</td>\n",
              "      <td>0.0</td>\n",
              "      <td>0.0</td>\n",
              "      <td>0.0</td>\n",
              "      <td>0.0</td>\n",
              "      <td>0.0</td>\n",
              "      <td>0.0</td>\n",
              "      <td>0.0</td>\n",
              "      <td>1.0</td>\n",
              "      <td>0.0</td>\n",
              "    </tr>\n",
              "    <tr>\n",
              "      <th>...</th>\n",
              "      <td>...</td>\n",
              "      <td>...</td>\n",
              "      <td>...</td>\n",
              "      <td>...</td>\n",
              "      <td>...</td>\n",
              "      <td>...</td>\n",
              "      <td>...</td>\n",
              "      <td>...</td>\n",
              "      <td>...</td>\n",
              "      <td>...</td>\n",
              "      <td>...</td>\n",
              "      <td>...</td>\n",
              "      <td>...</td>\n",
              "      <td>...</td>\n",
              "      <td>...</td>\n",
              "      <td>...</td>\n",
              "    </tr>\n",
              "    <tr>\n",
              "      <th>206</th>\n",
              "      <td>0</td>\n",
              "      <td>1</td>\n",
              "      <td>2</td>\n",
              "      <td>1.0</td>\n",
              "      <td>0.0</td>\n",
              "      <td>0.0</td>\n",
              "      <td>0.0</td>\n",
              "      <td>0.0</td>\n",
              "      <td>0.0</td>\n",
              "      <td>0.0</td>\n",
              "      <td>1.0</td>\n",
              "      <td>0.0</td>\n",
              "      <td>0.0</td>\n",
              "      <td>0.0</td>\n",
              "      <td>1.0</td>\n",
              "      <td>0.0</td>\n",
              "    </tr>\n",
              "    <tr>\n",
              "      <th>207</th>\n",
              "      <td>1</td>\n",
              "      <td>0</td>\n",
              "      <td>0</td>\n",
              "      <td>1.0</td>\n",
              "      <td>1.0</td>\n",
              "      <td>0.0</td>\n",
              "      <td>0.0</td>\n",
              "      <td>0.0</td>\n",
              "      <td>0.0</td>\n",
              "      <td>0.0</td>\n",
              "      <td>0.0</td>\n",
              "      <td>0.0</td>\n",
              "      <td>0.0</td>\n",
              "      <td>0.0</td>\n",
              "      <td>1.0</td>\n",
              "      <td>0.0</td>\n",
              "    </tr>\n",
              "    <tr>\n",
              "      <th>208</th>\n",
              "      <td>1</td>\n",
              "      <td>1</td>\n",
              "      <td>0</td>\n",
              "      <td>1.0</td>\n",
              "      <td>1.0</td>\n",
              "      <td>0.0</td>\n",
              "      <td>0.0</td>\n",
              "      <td>0.0</td>\n",
              "      <td>0.0</td>\n",
              "      <td>0.0</td>\n",
              "      <td>0.0</td>\n",
              "      <td>0.0</td>\n",
              "      <td>0.0</td>\n",
              "      <td>0.0</td>\n",
              "      <td>0.0</td>\n",
              "      <td>1.0</td>\n",
              "    </tr>\n",
              "    <tr>\n",
              "      <th>209</th>\n",
              "      <td>1</td>\n",
              "      <td>1</td>\n",
              "      <td>0</td>\n",
              "      <td>1.0</td>\n",
              "      <td>0.0</td>\n",
              "      <td>0.0</td>\n",
              "      <td>0.0</td>\n",
              "      <td>1.0</td>\n",
              "      <td>0.0</td>\n",
              "      <td>0.0</td>\n",
              "      <td>0.0</td>\n",
              "      <td>0.0</td>\n",
              "      <td>0.0</td>\n",
              "      <td>0.0</td>\n",
              "      <td>1.0</td>\n",
              "      <td>0.0</td>\n",
              "    </tr>\n",
              "    <tr>\n",
              "      <th>210</th>\n",
              "      <td>1</td>\n",
              "      <td>1</td>\n",
              "      <td>0</td>\n",
              "      <td>1.0</td>\n",
              "      <td>0.0</td>\n",
              "      <td>0.0</td>\n",
              "      <td>1.0</td>\n",
              "      <td>0.0</td>\n",
              "      <td>0.0</td>\n",
              "      <td>0.0</td>\n",
              "      <td>0.0</td>\n",
              "      <td>0.0</td>\n",
              "      <td>0.0</td>\n",
              "      <td>0.0</td>\n",
              "      <td>0.0</td>\n",
              "      <td>1.0</td>\n",
              "    </tr>\n",
              "  </tbody>\n",
              "</table>\n",
              "<p>211 rows × 16 columns</p>\n",
              "</div>\n",
              "      <button class=\"colab-df-convert\" onclick=\"convertToInteractive('df-93383221-5f37-4532-badc-6ea3a4ea5048')\"\n",
              "              title=\"Convert this dataframe to an interactive table.\"\n",
              "              style=\"display:none;\">\n",
              "        \n",
              "  <svg xmlns=\"http://www.w3.org/2000/svg\" height=\"24px\"viewBox=\"0 0 24 24\"\n",
              "       width=\"24px\">\n",
              "    <path d=\"M0 0h24v24H0V0z\" fill=\"none\"/>\n",
              "    <path d=\"M18.56 5.44l.94 2.06.94-2.06 2.06-.94-2.06-.94-.94-2.06-.94 2.06-2.06.94zm-11 1L8.5 8.5l.94-2.06 2.06-.94-2.06-.94L8.5 2.5l-.94 2.06-2.06.94zm10 10l.94 2.06.94-2.06 2.06-.94-2.06-.94-.94-2.06-.94 2.06-2.06.94z\"/><path d=\"M17.41 7.96l-1.37-1.37c-.4-.4-.92-.59-1.43-.59-.52 0-1.04.2-1.43.59L10.3 9.45l-7.72 7.72c-.78.78-.78 2.05 0 2.83L4 21.41c.39.39.9.59 1.41.59.51 0 1.02-.2 1.41-.59l7.78-7.78 2.81-2.81c.8-.78.8-2.07 0-2.86zM5.41 20L4 18.59l7.72-7.72 1.47 1.35L5.41 20z\"/>\n",
              "  </svg>\n",
              "      </button>\n",
              "      \n",
              "  <style>\n",
              "    .colab-df-container {\n",
              "      display:flex;\n",
              "      flex-wrap:wrap;\n",
              "      gap: 12px;\n",
              "    }\n",
              "\n",
              "    .colab-df-convert {\n",
              "      background-color: #E8F0FE;\n",
              "      border: none;\n",
              "      border-radius: 50%;\n",
              "      cursor: pointer;\n",
              "      display: none;\n",
              "      fill: #1967D2;\n",
              "      height: 32px;\n",
              "      padding: 0 0 0 0;\n",
              "      width: 32px;\n",
              "    }\n",
              "\n",
              "    .colab-df-convert:hover {\n",
              "      background-color: #E2EBFA;\n",
              "      box-shadow: 0px 1px 2px rgba(60, 64, 67, 0.3), 0px 1px 3px 1px rgba(60, 64, 67, 0.15);\n",
              "      fill: #174EA6;\n",
              "    }\n",
              "\n",
              "    [theme=dark] .colab-df-convert {\n",
              "      background-color: #3B4455;\n",
              "      fill: #D2E3FC;\n",
              "    }\n",
              "\n",
              "    [theme=dark] .colab-df-convert:hover {\n",
              "      background-color: #434B5C;\n",
              "      box-shadow: 0px 1px 3px 1px rgba(0, 0, 0, 0.15);\n",
              "      filter: drop-shadow(0px 1px 2px rgba(0, 0, 0, 0.3));\n",
              "      fill: #FFFFFF;\n",
              "    }\n",
              "  </style>\n",
              "\n",
              "      <script>\n",
              "        const buttonEl =\n",
              "          document.querySelector('#df-93383221-5f37-4532-badc-6ea3a4ea5048 button.colab-df-convert');\n",
              "        buttonEl.style.display =\n",
              "          google.colab.kernel.accessAllowed ? 'block' : 'none';\n",
              "\n",
              "        async function convertToInteractive(key) {\n",
              "          const element = document.querySelector('#df-93383221-5f37-4532-badc-6ea3a4ea5048');\n",
              "          const dataTable =\n",
              "            await google.colab.kernel.invokeFunction('convertToInteractive',\n",
              "                                                     [key], {});\n",
              "          if (!dataTable) return;\n",
              "\n",
              "          const docLinkHtml = 'Like what you see? Visit the ' +\n",
              "            '<a target=\"_blank\" href=https://colab.research.google.com/notebooks/data_table.ipynb>data table notebook</a>'\n",
              "            + ' to learn more about interactive tables.';\n",
              "          element.innerHTML = '';\n",
              "          dataTable['output_type'] = 'display_data';\n",
              "          await google.colab.output.renderOutput(dataTable, element);\n",
              "          const docLink = document.createElement('div');\n",
              "          docLink.innerHTML = docLinkHtml;\n",
              "          element.appendChild(docLink);\n",
              "        }\n",
              "      </script>\n",
              "    </div>\n",
              "  </div>\n",
              "  "
            ]
          },
          "metadata": {},
          "execution_count": 39
        }
      ],
      "source": [
        "# Unite the One-hot Encoded Categorical Features with the ordinal Features\n",
        "\n",
        "# create a numeric selector\n",
        "num_selector = make_column_selector(dtype_include='number')\n",
        "\n",
        "# re-group / isolate columns with numeric datatypes\n",
        "train_nums = X_train[num_selector(X_train)].reset_index(drop=True)\n",
        "test_nums = X_test[num_selector(X_test)].reset_index(drop=True)\n",
        "\n",
        "# re-combine the train and test sets on axis 1 (columns)\n",
        "X_train_processed = pd.concat([train_nums, train_ohe], axis=1)\n",
        "X_test_processed = pd.concat([test_nums, test_ohe], axis=1)\n",
        "X_train_processed\n"
      ]
    },
    {
      "cell_type": "code",
      "execution_count": 199,
      "metadata": {
        "id": "wgSjtwxo-8WI"
      },
      "outputs": [],
      "source": [
        "from sklearn.preprocessing import  OneHotEncoder\n",
        "from sklearn.impute import SimpleImputer\n",
        "from sklearn.compose import make_column_transformer, make_column_selector\n",
        "from sklearn.pipeline import make_pipeline\n",
        "from sklearn.model_selection import train_test_split"
      ]
    },
    {
      "cell_type": "code",
      "execution_count": 41,
      "metadata": {
        "id": "1ZKBSRtz8abN"
      },
      "outputs": [],
      "source": [
        "#  Instantiate Column Selectors\n",
        "cat1_selector = make_column_selector(dtype_include='object')\n",
        "num_selector = make_column_selector(dtype_include='number')"
      ]
    },
    {
      "cell_type": "code",
      "execution_count": 42,
      "metadata": {
        "id": "YMgCosiC9xGG"
      },
      "outputs": [],
      "source": [
        "#  Instantiate Transformers.\n",
        "# Imputer\n",
        "freq_imputer = SimpleImputer(strategy='most_frequent')\n",
        "\n",
        "ohe2 = OneHotEncoder(handle_unknown='ignore', sparse=False)"
      ]
    },
    {
      "cell_type": "code",
      "execution_count": 43,
      "metadata": {
        "id": "7JcvpXy1-k-U"
      },
      "outputs": [],
      "source": [
        "# Instantiate Pipeline for categorical data pre-procesing\n",
        "\n",
        "categorical_pipeline = make_pipeline(freq_imputer, ohe2)"
      ]
    },
    {
      "cell_type": "code",
      "execution_count": 44,
      "metadata": {
        "colab": {
          "base_uri": "https://localhost:8080/",
          "height": 153
        },
        "id": "g9pnlGiwEfAm",
        "outputId": "7e4772b8-0ce3-42c3-f769-3a38e40315a1"
      },
      "outputs": [
        {
          "output_type": "execute_result",
          "data": {
            "text/plain": [
              "ColumnTransformer(transformers=[('pipeline',\n",
              "                                 Pipeline(steps=[('simpleimputer',\n",
              "                                                  SimpleImputer(strategy='most_frequent')),\n",
              "                                                 ('onehotencoder',\n",
              "                                                  OneHotEncoder(handle_unknown='ignore',\n",
              "                                                                sparse=False))]),\n",
              "                                 <sklearn.compose._column_transformer.make_column_selector object at 0x7fb1232a8550>)])"
            ],
            "text/html": [
              "<style>#sk-f4126594-396f-4573-accf-fd1875302fa1 {color: black;background-color: white;}#sk-f4126594-396f-4573-accf-fd1875302fa1 pre{padding: 0;}#sk-f4126594-396f-4573-accf-fd1875302fa1 div.sk-toggleable {background-color: white;}#sk-f4126594-396f-4573-accf-fd1875302fa1 label.sk-toggleable__label {cursor: pointer;display: block;width: 100%;margin-bottom: 0;padding: 0.3em;box-sizing: border-box;text-align: center;}#sk-f4126594-396f-4573-accf-fd1875302fa1 label.sk-toggleable__label-arrow:before {content: \"▸\";float: left;margin-right: 0.25em;color: #696969;}#sk-f4126594-396f-4573-accf-fd1875302fa1 label.sk-toggleable__label-arrow:hover:before {color: black;}#sk-f4126594-396f-4573-accf-fd1875302fa1 div.sk-estimator:hover label.sk-toggleable__label-arrow:before {color: black;}#sk-f4126594-396f-4573-accf-fd1875302fa1 div.sk-toggleable__content {max-height: 0;max-width: 0;overflow: hidden;text-align: left;background-color: #f0f8ff;}#sk-f4126594-396f-4573-accf-fd1875302fa1 div.sk-toggleable__content pre {margin: 0.2em;color: black;border-radius: 0.25em;background-color: #f0f8ff;}#sk-f4126594-396f-4573-accf-fd1875302fa1 input.sk-toggleable__control:checked~div.sk-toggleable__content {max-height: 200px;max-width: 100%;overflow: auto;}#sk-f4126594-396f-4573-accf-fd1875302fa1 input.sk-toggleable__control:checked~label.sk-toggleable__label-arrow:before {content: \"▾\";}#sk-f4126594-396f-4573-accf-fd1875302fa1 div.sk-estimator input.sk-toggleable__control:checked~label.sk-toggleable__label {background-color: #d4ebff;}#sk-f4126594-396f-4573-accf-fd1875302fa1 div.sk-label input.sk-toggleable__control:checked~label.sk-toggleable__label {background-color: #d4ebff;}#sk-f4126594-396f-4573-accf-fd1875302fa1 input.sk-hidden--visually {border: 0;clip: rect(1px 1px 1px 1px);clip: rect(1px, 1px, 1px, 1px);height: 1px;margin: -1px;overflow: hidden;padding: 0;position: absolute;width: 1px;}#sk-f4126594-396f-4573-accf-fd1875302fa1 div.sk-estimator {font-family: monospace;background-color: #f0f8ff;border: 1px dotted black;border-radius: 0.25em;box-sizing: border-box;margin-bottom: 0.5em;}#sk-f4126594-396f-4573-accf-fd1875302fa1 div.sk-estimator:hover {background-color: #d4ebff;}#sk-f4126594-396f-4573-accf-fd1875302fa1 div.sk-parallel-item::after {content: \"\";width: 100%;border-bottom: 1px solid gray;flex-grow: 1;}#sk-f4126594-396f-4573-accf-fd1875302fa1 div.sk-label:hover label.sk-toggleable__label {background-color: #d4ebff;}#sk-f4126594-396f-4573-accf-fd1875302fa1 div.sk-serial::before {content: \"\";position: absolute;border-left: 1px solid gray;box-sizing: border-box;top: 2em;bottom: 0;left: 50%;}#sk-f4126594-396f-4573-accf-fd1875302fa1 div.sk-serial {display: flex;flex-direction: column;align-items: center;background-color: white;padding-right: 0.2em;padding-left: 0.2em;}#sk-f4126594-396f-4573-accf-fd1875302fa1 div.sk-item {z-index: 1;}#sk-f4126594-396f-4573-accf-fd1875302fa1 div.sk-parallel {display: flex;align-items: stretch;justify-content: center;background-color: white;}#sk-f4126594-396f-4573-accf-fd1875302fa1 div.sk-parallel::before {content: \"\";position: absolute;border-left: 1px solid gray;box-sizing: border-box;top: 2em;bottom: 0;left: 50%;}#sk-f4126594-396f-4573-accf-fd1875302fa1 div.sk-parallel-item {display: flex;flex-direction: column;position: relative;background-color: white;}#sk-f4126594-396f-4573-accf-fd1875302fa1 div.sk-parallel-item:first-child::after {align-self: flex-end;width: 50%;}#sk-f4126594-396f-4573-accf-fd1875302fa1 div.sk-parallel-item:last-child::after {align-self: flex-start;width: 50%;}#sk-f4126594-396f-4573-accf-fd1875302fa1 div.sk-parallel-item:only-child::after {width: 0;}#sk-f4126594-396f-4573-accf-fd1875302fa1 div.sk-dashed-wrapped {border: 1px dashed gray;margin: 0 0.4em 0.5em 0.4em;box-sizing: border-box;padding-bottom: 0.4em;background-color: white;position: relative;}#sk-f4126594-396f-4573-accf-fd1875302fa1 div.sk-label label {font-family: monospace;font-weight: bold;background-color: white;display: inline-block;line-height: 1.2em;}#sk-f4126594-396f-4573-accf-fd1875302fa1 div.sk-label-container {position: relative;z-index: 2;text-align: center;}#sk-f4126594-396f-4573-accf-fd1875302fa1 div.sk-container {/* jupyter's `normalize.less` sets `[hidden] { display: none; }` but bootstrap.min.css set `[hidden] { display: none !important; }` so we also need the `!important` here to be able to override the default hidden behavior on the sphinx rendered scikit-learn.org. See: https://github.com/scikit-learn/scikit-learn/issues/21755 */display: inline-block !important;position: relative;}#sk-f4126594-396f-4573-accf-fd1875302fa1 div.sk-text-repr-fallback {display: none;}</style><div id=\"sk-f4126594-396f-4573-accf-fd1875302fa1\" class=\"sk-top-container\"><div class=\"sk-text-repr-fallback\"><pre>ColumnTransformer(transformers=[(&#x27;pipeline&#x27;,\n",
              "                                 Pipeline(steps=[(&#x27;simpleimputer&#x27;,\n",
              "                                                  SimpleImputer(strategy=&#x27;most_frequent&#x27;)),\n",
              "                                                 (&#x27;onehotencoder&#x27;,\n",
              "                                                  OneHotEncoder(handle_unknown=&#x27;ignore&#x27;,\n",
              "                                                                sparse=False))]),\n",
              "                                 &lt;sklearn.compose._column_transformer.make_column_selector object at 0x7fb1232a8550&gt;)])</pre><b>Please rerun this cell to show the HTML repr or trust the notebook.</b></div><div class=\"sk-container\" hidden><div class=\"sk-item sk-dashed-wrapped\"><div class=\"sk-label-container\"><div class=\"sk-label sk-toggleable\"><input class=\"sk-toggleable__control sk-hidden--visually\" id=\"f2a88fcc-5e32-4eee-8d2f-0631659184c9\" type=\"checkbox\" ><label for=\"f2a88fcc-5e32-4eee-8d2f-0631659184c9\" class=\"sk-toggleable__label sk-toggleable__label-arrow\">ColumnTransformer</label><div class=\"sk-toggleable__content\"><pre>ColumnTransformer(transformers=[(&#x27;pipeline&#x27;,\n",
              "                                 Pipeline(steps=[(&#x27;simpleimputer&#x27;,\n",
              "                                                  SimpleImputer(strategy=&#x27;most_frequent&#x27;)),\n",
              "                                                 (&#x27;onehotencoder&#x27;,\n",
              "                                                  OneHotEncoder(handle_unknown=&#x27;ignore&#x27;,\n",
              "                                                                sparse=False))]),\n",
              "                                 &lt;sklearn.compose._column_transformer.make_column_selector object at 0x7fb1232a8550&gt;)])</pre></div></div></div><div class=\"sk-parallel\"><div class=\"sk-parallel-item\"><div class=\"sk-item\"><div class=\"sk-label-container\"><div class=\"sk-label sk-toggleable\"><input class=\"sk-toggleable__control sk-hidden--visually\" id=\"14512d1b-ff6d-4497-8680-04cccd686af5\" type=\"checkbox\" ><label for=\"14512d1b-ff6d-4497-8680-04cccd686af5\" class=\"sk-toggleable__label sk-toggleable__label-arrow\">pipeline</label><div class=\"sk-toggleable__content\"><pre>&lt;sklearn.compose._column_transformer.make_column_selector object at 0x7fb1232a8550&gt;</pre></div></div></div><div class=\"sk-serial\"><div class=\"sk-item\"><div class=\"sk-serial\"><div class=\"sk-item\"><div class=\"sk-estimator sk-toggleable\"><input class=\"sk-toggleable__control sk-hidden--visually\" id=\"3fb38c9b-e899-4a37-902d-ab231ca93fd1\" type=\"checkbox\" ><label for=\"3fb38c9b-e899-4a37-902d-ab231ca93fd1\" class=\"sk-toggleable__label sk-toggleable__label-arrow\">SimpleImputer</label><div class=\"sk-toggleable__content\"><pre>SimpleImputer(strategy=&#x27;most_frequent&#x27;)</pre></div></div></div><div class=\"sk-item\"><div class=\"sk-estimator sk-toggleable\"><input class=\"sk-toggleable__control sk-hidden--visually\" id=\"8965c815-7b18-447d-bcc3-eabdbd54f044\" type=\"checkbox\" ><label for=\"8965c815-7b18-447d-bcc3-eabdbd54f044\" class=\"sk-toggleable__label sk-toggleable__label-arrow\">OneHotEncoder</label><div class=\"sk-toggleable__content\"><pre>OneHotEncoder(handle_unknown=&#x27;ignore&#x27;, sparse=False)</pre></div></div></div></div></div></div></div></div></div></div></div></div>"
            ]
          },
          "metadata": {},
          "execution_count": 44
        }
      ],
      "source": [
        "#  Instantiate ColumnTransformer\n",
        "\n",
        "# Tuple for Column Transformer\n",
        "category_tuple = (categorical_pipeline, cat1_selector)\n",
        "\n",
        "# ColumnTransformer\n",
        "preprocessor = make_column_transformer(category_tuple)\n",
        "preprocessor\n"
      ]
    },
    {
      "cell_type": "code",
      "execution_count": 200,
      "metadata": {
        "colab": {
          "base_uri": "https://localhost:8080/",
          "height": 153
        },
        "id": "6Ef5QPHuGUR_",
        "outputId": "078fbe5b-3223-4686-cbdb-4f34bf43edbf"
      },
      "outputs": [
        {
          "output_type": "execute_result",
          "data": {
            "text/plain": [
              "ColumnTransformer(transformers=[('pipeline',\n",
              "                                 Pipeline(steps=[('simpleimputer',\n",
              "                                                  SimpleImputer(strategy='most_frequent')),\n",
              "                                                 ('onehotencoder',\n",
              "                                                  OneHotEncoder(handle_unknown='ignore',\n",
              "                                                                sparse=False))]),\n",
              "                                 <sklearn.compose._column_transformer.make_column_selector object at 0x7fb1232a8550>)])"
            ],
            "text/html": [
              "<style>#sk-992e2375-062a-4820-8f27-5d97da7b8cfa {color: black;background-color: white;}#sk-992e2375-062a-4820-8f27-5d97da7b8cfa pre{padding: 0;}#sk-992e2375-062a-4820-8f27-5d97da7b8cfa div.sk-toggleable {background-color: white;}#sk-992e2375-062a-4820-8f27-5d97da7b8cfa label.sk-toggleable__label {cursor: pointer;display: block;width: 100%;margin-bottom: 0;padding: 0.3em;box-sizing: border-box;text-align: center;}#sk-992e2375-062a-4820-8f27-5d97da7b8cfa label.sk-toggleable__label-arrow:before {content: \"▸\";float: left;margin-right: 0.25em;color: #696969;}#sk-992e2375-062a-4820-8f27-5d97da7b8cfa label.sk-toggleable__label-arrow:hover:before {color: black;}#sk-992e2375-062a-4820-8f27-5d97da7b8cfa div.sk-estimator:hover label.sk-toggleable__label-arrow:before {color: black;}#sk-992e2375-062a-4820-8f27-5d97da7b8cfa div.sk-toggleable__content {max-height: 0;max-width: 0;overflow: hidden;text-align: left;background-color: #f0f8ff;}#sk-992e2375-062a-4820-8f27-5d97da7b8cfa div.sk-toggleable__content pre {margin: 0.2em;color: black;border-radius: 0.25em;background-color: #f0f8ff;}#sk-992e2375-062a-4820-8f27-5d97da7b8cfa input.sk-toggleable__control:checked~div.sk-toggleable__content {max-height: 200px;max-width: 100%;overflow: auto;}#sk-992e2375-062a-4820-8f27-5d97da7b8cfa input.sk-toggleable__control:checked~label.sk-toggleable__label-arrow:before {content: \"▾\";}#sk-992e2375-062a-4820-8f27-5d97da7b8cfa div.sk-estimator input.sk-toggleable__control:checked~label.sk-toggleable__label {background-color: #d4ebff;}#sk-992e2375-062a-4820-8f27-5d97da7b8cfa div.sk-label input.sk-toggleable__control:checked~label.sk-toggleable__label {background-color: #d4ebff;}#sk-992e2375-062a-4820-8f27-5d97da7b8cfa input.sk-hidden--visually {border: 0;clip: rect(1px 1px 1px 1px);clip: rect(1px, 1px, 1px, 1px);height: 1px;margin: -1px;overflow: hidden;padding: 0;position: absolute;width: 1px;}#sk-992e2375-062a-4820-8f27-5d97da7b8cfa div.sk-estimator {font-family: monospace;background-color: #f0f8ff;border: 1px dotted black;border-radius: 0.25em;box-sizing: border-box;margin-bottom: 0.5em;}#sk-992e2375-062a-4820-8f27-5d97da7b8cfa div.sk-estimator:hover {background-color: #d4ebff;}#sk-992e2375-062a-4820-8f27-5d97da7b8cfa div.sk-parallel-item::after {content: \"\";width: 100%;border-bottom: 1px solid gray;flex-grow: 1;}#sk-992e2375-062a-4820-8f27-5d97da7b8cfa div.sk-label:hover label.sk-toggleable__label {background-color: #d4ebff;}#sk-992e2375-062a-4820-8f27-5d97da7b8cfa div.sk-serial::before {content: \"\";position: absolute;border-left: 1px solid gray;box-sizing: border-box;top: 2em;bottom: 0;left: 50%;}#sk-992e2375-062a-4820-8f27-5d97da7b8cfa div.sk-serial {display: flex;flex-direction: column;align-items: center;background-color: white;padding-right: 0.2em;padding-left: 0.2em;}#sk-992e2375-062a-4820-8f27-5d97da7b8cfa div.sk-item {z-index: 1;}#sk-992e2375-062a-4820-8f27-5d97da7b8cfa div.sk-parallel {display: flex;align-items: stretch;justify-content: center;background-color: white;}#sk-992e2375-062a-4820-8f27-5d97da7b8cfa div.sk-parallel::before {content: \"\";position: absolute;border-left: 1px solid gray;box-sizing: border-box;top: 2em;bottom: 0;left: 50%;}#sk-992e2375-062a-4820-8f27-5d97da7b8cfa div.sk-parallel-item {display: flex;flex-direction: column;position: relative;background-color: white;}#sk-992e2375-062a-4820-8f27-5d97da7b8cfa div.sk-parallel-item:first-child::after {align-self: flex-end;width: 50%;}#sk-992e2375-062a-4820-8f27-5d97da7b8cfa div.sk-parallel-item:last-child::after {align-self: flex-start;width: 50%;}#sk-992e2375-062a-4820-8f27-5d97da7b8cfa div.sk-parallel-item:only-child::after {width: 0;}#sk-992e2375-062a-4820-8f27-5d97da7b8cfa div.sk-dashed-wrapped {border: 1px dashed gray;margin: 0 0.4em 0.5em 0.4em;box-sizing: border-box;padding-bottom: 0.4em;background-color: white;position: relative;}#sk-992e2375-062a-4820-8f27-5d97da7b8cfa div.sk-label label {font-family: monospace;font-weight: bold;background-color: white;display: inline-block;line-height: 1.2em;}#sk-992e2375-062a-4820-8f27-5d97da7b8cfa div.sk-label-container {position: relative;z-index: 2;text-align: center;}#sk-992e2375-062a-4820-8f27-5d97da7b8cfa div.sk-container {/* jupyter's `normalize.less` sets `[hidden] { display: none; }` but bootstrap.min.css set `[hidden] { display: none !important; }` so we also need the `!important` here to be able to override the default hidden behavior on the sphinx rendered scikit-learn.org. See: https://github.com/scikit-learn/scikit-learn/issues/21755 */display: inline-block !important;position: relative;}#sk-992e2375-062a-4820-8f27-5d97da7b8cfa div.sk-text-repr-fallback {display: none;}</style><div id=\"sk-992e2375-062a-4820-8f27-5d97da7b8cfa\" class=\"sk-top-container\"><div class=\"sk-text-repr-fallback\"><pre>ColumnTransformer(transformers=[(&#x27;pipeline&#x27;,\n",
              "                                 Pipeline(steps=[(&#x27;simpleimputer&#x27;,\n",
              "                                                  SimpleImputer(strategy=&#x27;most_frequent&#x27;)),\n",
              "                                                 (&#x27;onehotencoder&#x27;,\n",
              "                                                  OneHotEncoder(handle_unknown=&#x27;ignore&#x27;,\n",
              "                                                                sparse=False))]),\n",
              "                                 &lt;sklearn.compose._column_transformer.make_column_selector object at 0x7fb1232a8550&gt;)])</pre><b>Please rerun this cell to show the HTML repr or trust the notebook.</b></div><div class=\"sk-container\" hidden><div class=\"sk-item sk-dashed-wrapped\"><div class=\"sk-label-container\"><div class=\"sk-label sk-toggleable\"><input class=\"sk-toggleable__control sk-hidden--visually\" id=\"29b73366-6b92-4f2a-98bd-6e683331ef26\" type=\"checkbox\" ><label for=\"29b73366-6b92-4f2a-98bd-6e683331ef26\" class=\"sk-toggleable__label sk-toggleable__label-arrow\">ColumnTransformer</label><div class=\"sk-toggleable__content\"><pre>ColumnTransformer(transformers=[(&#x27;pipeline&#x27;,\n",
              "                                 Pipeline(steps=[(&#x27;simpleimputer&#x27;,\n",
              "                                                  SimpleImputer(strategy=&#x27;most_frequent&#x27;)),\n",
              "                                                 (&#x27;onehotencoder&#x27;,\n",
              "                                                  OneHotEncoder(handle_unknown=&#x27;ignore&#x27;,\n",
              "                                                                sparse=False))]),\n",
              "                                 &lt;sklearn.compose._column_transformer.make_column_selector object at 0x7fb1232a8550&gt;)])</pre></div></div></div><div class=\"sk-parallel\"><div class=\"sk-parallel-item\"><div class=\"sk-item\"><div class=\"sk-label-container\"><div class=\"sk-label sk-toggleable\"><input class=\"sk-toggleable__control sk-hidden--visually\" id=\"2ba1e957-4e8a-4c2d-b2fb-6f5a64aef9b3\" type=\"checkbox\" ><label for=\"2ba1e957-4e8a-4c2d-b2fb-6f5a64aef9b3\" class=\"sk-toggleable__label sk-toggleable__label-arrow\">pipeline</label><div class=\"sk-toggleable__content\"><pre>&lt;sklearn.compose._column_transformer.make_column_selector object at 0x7fb1232a8550&gt;</pre></div></div></div><div class=\"sk-serial\"><div class=\"sk-item\"><div class=\"sk-serial\"><div class=\"sk-item\"><div class=\"sk-estimator sk-toggleable\"><input class=\"sk-toggleable__control sk-hidden--visually\" id=\"15bdf962-08bf-470c-a321-cff8ff182213\" type=\"checkbox\" ><label for=\"15bdf962-08bf-470c-a321-cff8ff182213\" class=\"sk-toggleable__label sk-toggleable__label-arrow\">SimpleImputer</label><div class=\"sk-toggleable__content\"><pre>SimpleImputer(strategy=&#x27;most_frequent&#x27;)</pre></div></div></div><div class=\"sk-item\"><div class=\"sk-estimator sk-toggleable\"><input class=\"sk-toggleable__control sk-hidden--visually\" id=\"a93acf30-da10-40be-a184-9b0500a10e7d\" type=\"checkbox\" ><label for=\"a93acf30-da10-40be-a184-9b0500a10e7d\" class=\"sk-toggleable__label sk-toggleable__label-arrow\">OneHotEncoder</label><div class=\"sk-toggleable__content\"><pre>OneHotEncoder(handle_unknown=&#x27;ignore&#x27;, sparse=False)</pre></div></div></div></div></div></div></div></div></div></div></div></div>"
            ]
          },
          "metadata": {},
          "execution_count": 200
        }
      ],
      "source": [
        "# Transformer the Data\n",
        "\n",
        "# fit on train\n",
        "preprocessor.fit(X_train_processed)\n",
        "# X_train_processed"
      ]
    },
    {
      "cell_type": "code",
      "execution_count": 46,
      "metadata": {
        "id": "LZZoG9wiGkhv"
      },
      "outputs": [],
      "source": [
        "# transform train and test\n",
        "X_train_processed2 = preprocessor.transform(X_train)\n",
        "X_test_processed2 = preprocessor.transform(X_test)"
      ]
    },
    {
      "cell_type": "code",
      "execution_count": 47,
      "metadata": {
        "colab": {
          "base_uri": "https://localhost:8080/"
        },
        "id": "NAhkbDIIGqlY",
        "outputId": "ecff32ff-af34-457a-9582-e6500e23b567"
      },
      "outputs": [
        {
          "output_type": "stream",
          "name": "stdout",
          "text": [
            "0 missing values in training data\n",
            "0 missing values in testing data\n",
            "\n",
            "\n",
            "All data in X_train_processed are float64\n",
            "All data in X_test_processed are float64\n",
            "\n",
            "\n",
            "shape of data is (211, 0)\n",
            "\n",
            "\n"
          ]
        },
        {
          "output_type": "execute_result",
          "data": {
            "text/plain": [
              "array([], shape=(211, 0), dtype=float64)"
            ]
          },
          "metadata": {},
          "execution_count": 47
        }
      ],
      "source": [
        "# Check for missing values and that data is scaled and one-hot encoded\n",
        "print(np.isnan(X_train_processed2).sum().sum(), 'missing values in training data')\n",
        "print(np.isnan(X_test_processed2).sum().sum(), 'missing values in testing data')\n",
        "print('\\n')\n",
        "print('All data in X_train_processed are', X_train_processed2.dtype)\n",
        "print('All data in X_test_processed are', X_test_processed2.dtype)\n",
        "print('\\n')\n",
        "print('shape of data is', X_train_processed2.shape)\n",
        "print('\\n')\n",
        "X_train_processed2"
      ]
    },
    {
      "cell_type": "code",
      "execution_count": 76,
      "metadata": {
        "id": "yJDzAW3yKE7k"
      },
      "outputs": [],
      "source": [
        "# Import and Fit on Regression, Decision Trees and Bagging Regressor\n",
        "from sklearn.linear_model import LinearRegression\n",
        "from sklearn.tree import DecisionTreeRegressor\n",
        "from sklearn.ensemble import BaggingRegressor\n",
        "\n",
        "reg = LinearRegression()\n",
        "reg_tree = DecisionTreeRegressor(random_state = 42,\n",
        "                                 max_depth=5,\n",
        "                                 min_samples_leaf=2)\n",
        "\n",
        "bagreg = BaggingRegressor(random_state = 42,\n",
        "                                 max_features=5,\n",
        "                                 n_estimators=1000,\n",
        "                                 n_jobs=16)\n",
        "\n"
      ]
    },
    {
      "cell_type": "code",
      "execution_count": 77,
      "metadata": {
        "id": "aeSyd0bIKR-H"
      },
      "outputs": [],
      "source": [
        "# Create a modeling pipelines for all models\n",
        "from sklearn.pipeline import make_pipeline\n",
        "reg_pipe = make_pipeline(reg)\n",
        "reg_tree_pipe = make_pipeline(reg_tree)\n",
        "bagreg_pipe = make_pipeline(bagreg)"
      ]
    },
    {
      "cell_type": "code",
      "source": [
        "# Look at the hyperparameters\n",
        "reg.get_params()"
      ],
      "metadata": {
        "colab": {
          "base_uri": "https://localhost:8080/"
        },
        "id": "Xjr5LiQGPowl",
        "outputId": "22cf7a69-8181-448d-8260-77d3686f644f"
      },
      "execution_count": 78,
      "outputs": [
        {
          "output_type": "execute_result",
          "data": {
            "text/plain": [
              "{'copy_X': True,\n",
              " 'fit_intercept': True,\n",
              " 'n_jobs': None,\n",
              " 'normalize': 'deprecated',\n",
              " 'positive': False}"
            ]
          },
          "metadata": {},
          "execution_count": 78
        }
      ]
    },
    {
      "cell_type": "code",
      "source": [
        "# Look at the hyperparameters\n",
        "bagreg.get_params()\n"
      ],
      "metadata": {
        "colab": {
          "base_uri": "https://localhost:8080/"
        },
        "id": "39cIpd6TOT9y",
        "outputId": "11b2f549-cfd4-41d8-df2d-312fc300aa10"
      },
      "execution_count": 255,
      "outputs": [
        {
          "output_type": "execute_result",
          "data": {
            "text/plain": [
              "{'base_estimator': None,\n",
              " 'bootstrap': True,\n",
              " 'bootstrap_features': False,\n",
              " 'max_features': 5,\n",
              " 'max_samples': 1.0,\n",
              " 'n_estimators': 1000,\n",
              " 'n_jobs': 16,\n",
              " 'oob_score': False,\n",
              " 'random_state': 42,\n",
              " 'verbose': 0,\n",
              " 'warm_start': False}"
            ]
          },
          "metadata": {},
          "execution_count": 255
        }
      ]
    },
    {
      "cell_type": "code",
      "source": [
        "# Look at the hyperparameters\n",
        "reg_tree.get_params()"
      ],
      "metadata": {
        "colab": {
          "base_uri": "https://localhost:8080/"
        },
        "id": "SHuMUs1EOXc4",
        "outputId": "dd304c8b-92cb-46d3-952f-fef4c43a4b1d"
      },
      "execution_count": 256,
      "outputs": [
        {
          "output_type": "execute_result",
          "data": {
            "text/plain": [
              "{'ccp_alpha': 0.0,\n",
              " 'criterion': 'squared_error',\n",
              " 'max_depth': 5,\n",
              " 'max_features': None,\n",
              " 'max_leaf_nodes': None,\n",
              " 'min_impurity_decrease': 0.0,\n",
              " 'min_samples_leaf': 2,\n",
              " 'min_samples_split': 2,\n",
              " 'min_weight_fraction_leaf': 0.0,\n",
              " 'random_state': 42,\n",
              " 'splitter': 'best'}"
            ]
          },
          "metadata": {},
          "execution_count": 256
        }
      ]
    },
    {
      "cell_type": "code",
      "execution_count": 257,
      "metadata": {
        "colab": {
          "base_uri": "https://localhost:8080/",
          "height": 92
        },
        "id": "YLuj7LWxKg7Y",
        "outputId": "fd8d8549-684b-433a-ec3b-66ba04e3806d"
      },
      "outputs": [
        {
          "output_type": "execute_result",
          "data": {
            "text/plain": [
              "Pipeline(steps=[('baggingregressor',\n",
              "                 BaggingRegressor(max_features=5, n_estimators=1000, n_jobs=16,\n",
              "                                  random_state=42))])"
            ],
            "text/html": [
              "<style>#sk-3b215711-17cd-4fce-aaea-9a0c9dcf1440 {color: black;background-color: white;}#sk-3b215711-17cd-4fce-aaea-9a0c9dcf1440 pre{padding: 0;}#sk-3b215711-17cd-4fce-aaea-9a0c9dcf1440 div.sk-toggleable {background-color: white;}#sk-3b215711-17cd-4fce-aaea-9a0c9dcf1440 label.sk-toggleable__label {cursor: pointer;display: block;width: 100%;margin-bottom: 0;padding: 0.3em;box-sizing: border-box;text-align: center;}#sk-3b215711-17cd-4fce-aaea-9a0c9dcf1440 label.sk-toggleable__label-arrow:before {content: \"▸\";float: left;margin-right: 0.25em;color: #696969;}#sk-3b215711-17cd-4fce-aaea-9a0c9dcf1440 label.sk-toggleable__label-arrow:hover:before {color: black;}#sk-3b215711-17cd-4fce-aaea-9a0c9dcf1440 div.sk-estimator:hover label.sk-toggleable__label-arrow:before {color: black;}#sk-3b215711-17cd-4fce-aaea-9a0c9dcf1440 div.sk-toggleable__content {max-height: 0;max-width: 0;overflow: hidden;text-align: left;background-color: #f0f8ff;}#sk-3b215711-17cd-4fce-aaea-9a0c9dcf1440 div.sk-toggleable__content pre {margin: 0.2em;color: black;border-radius: 0.25em;background-color: #f0f8ff;}#sk-3b215711-17cd-4fce-aaea-9a0c9dcf1440 input.sk-toggleable__control:checked~div.sk-toggleable__content {max-height: 200px;max-width: 100%;overflow: auto;}#sk-3b215711-17cd-4fce-aaea-9a0c9dcf1440 input.sk-toggleable__control:checked~label.sk-toggleable__label-arrow:before {content: \"▾\";}#sk-3b215711-17cd-4fce-aaea-9a0c9dcf1440 div.sk-estimator input.sk-toggleable__control:checked~label.sk-toggleable__label {background-color: #d4ebff;}#sk-3b215711-17cd-4fce-aaea-9a0c9dcf1440 div.sk-label input.sk-toggleable__control:checked~label.sk-toggleable__label {background-color: #d4ebff;}#sk-3b215711-17cd-4fce-aaea-9a0c9dcf1440 input.sk-hidden--visually {border: 0;clip: rect(1px 1px 1px 1px);clip: rect(1px, 1px, 1px, 1px);height: 1px;margin: -1px;overflow: hidden;padding: 0;position: absolute;width: 1px;}#sk-3b215711-17cd-4fce-aaea-9a0c9dcf1440 div.sk-estimator {font-family: monospace;background-color: #f0f8ff;border: 1px dotted black;border-radius: 0.25em;box-sizing: border-box;margin-bottom: 0.5em;}#sk-3b215711-17cd-4fce-aaea-9a0c9dcf1440 div.sk-estimator:hover {background-color: #d4ebff;}#sk-3b215711-17cd-4fce-aaea-9a0c9dcf1440 div.sk-parallel-item::after {content: \"\";width: 100%;border-bottom: 1px solid gray;flex-grow: 1;}#sk-3b215711-17cd-4fce-aaea-9a0c9dcf1440 div.sk-label:hover label.sk-toggleable__label {background-color: #d4ebff;}#sk-3b215711-17cd-4fce-aaea-9a0c9dcf1440 div.sk-serial::before {content: \"\";position: absolute;border-left: 1px solid gray;box-sizing: border-box;top: 2em;bottom: 0;left: 50%;}#sk-3b215711-17cd-4fce-aaea-9a0c9dcf1440 div.sk-serial {display: flex;flex-direction: column;align-items: center;background-color: white;padding-right: 0.2em;padding-left: 0.2em;}#sk-3b215711-17cd-4fce-aaea-9a0c9dcf1440 div.sk-item {z-index: 1;}#sk-3b215711-17cd-4fce-aaea-9a0c9dcf1440 div.sk-parallel {display: flex;align-items: stretch;justify-content: center;background-color: white;}#sk-3b215711-17cd-4fce-aaea-9a0c9dcf1440 div.sk-parallel::before {content: \"\";position: absolute;border-left: 1px solid gray;box-sizing: border-box;top: 2em;bottom: 0;left: 50%;}#sk-3b215711-17cd-4fce-aaea-9a0c9dcf1440 div.sk-parallel-item {display: flex;flex-direction: column;position: relative;background-color: white;}#sk-3b215711-17cd-4fce-aaea-9a0c9dcf1440 div.sk-parallel-item:first-child::after {align-self: flex-end;width: 50%;}#sk-3b215711-17cd-4fce-aaea-9a0c9dcf1440 div.sk-parallel-item:last-child::after {align-self: flex-start;width: 50%;}#sk-3b215711-17cd-4fce-aaea-9a0c9dcf1440 div.sk-parallel-item:only-child::after {width: 0;}#sk-3b215711-17cd-4fce-aaea-9a0c9dcf1440 div.sk-dashed-wrapped {border: 1px dashed gray;margin: 0 0.4em 0.5em 0.4em;box-sizing: border-box;padding-bottom: 0.4em;background-color: white;position: relative;}#sk-3b215711-17cd-4fce-aaea-9a0c9dcf1440 div.sk-label label {font-family: monospace;font-weight: bold;background-color: white;display: inline-block;line-height: 1.2em;}#sk-3b215711-17cd-4fce-aaea-9a0c9dcf1440 div.sk-label-container {position: relative;z-index: 2;text-align: center;}#sk-3b215711-17cd-4fce-aaea-9a0c9dcf1440 div.sk-container {/* jupyter's `normalize.less` sets `[hidden] { display: none; }` but bootstrap.min.css set `[hidden] { display: none !important; }` so we also need the `!important` here to be able to override the default hidden behavior on the sphinx rendered scikit-learn.org. See: https://github.com/scikit-learn/scikit-learn/issues/21755 */display: inline-block !important;position: relative;}#sk-3b215711-17cd-4fce-aaea-9a0c9dcf1440 div.sk-text-repr-fallback {display: none;}</style><div id=\"sk-3b215711-17cd-4fce-aaea-9a0c9dcf1440\" class=\"sk-top-container\"><div class=\"sk-text-repr-fallback\"><pre>Pipeline(steps=[(&#x27;baggingregressor&#x27;,\n",
              "                 BaggingRegressor(max_features=5, n_estimators=1000, n_jobs=16,\n",
              "                                  random_state=42))])</pre><b>Please rerun this cell to show the HTML repr or trust the notebook.</b></div><div class=\"sk-container\" hidden><div class=\"sk-item sk-dashed-wrapped\"><div class=\"sk-label-container\"><div class=\"sk-label sk-toggleable\"><input class=\"sk-toggleable__control sk-hidden--visually\" id=\"7f4ca587-e6a2-444f-9517-8d776126ebb3\" type=\"checkbox\" ><label for=\"7f4ca587-e6a2-444f-9517-8d776126ebb3\" class=\"sk-toggleable__label sk-toggleable__label-arrow\">Pipeline</label><div class=\"sk-toggleable__content\"><pre>Pipeline(steps=[(&#x27;baggingregressor&#x27;,\n",
              "                 BaggingRegressor(max_features=5, n_estimators=1000, n_jobs=16,\n",
              "                                  random_state=42))])</pre></div></div></div><div class=\"sk-serial\"><div class=\"sk-item\"><div class=\"sk-estimator sk-toggleable\"><input class=\"sk-toggleable__control sk-hidden--visually\" id=\"d980fed8-9ec9-4f5f-8ac0-e979c8b1331b\" type=\"checkbox\" ><label for=\"d980fed8-9ec9-4f5f-8ac0-e979c8b1331b\" class=\"sk-toggleable__label sk-toggleable__label-arrow\">BaggingRegressor</label><div class=\"sk-toggleable__content\"><pre>BaggingRegressor(max_features=5, n_estimators=1000, n_jobs=16, random_state=42)</pre></div></div></div></div></div></div></div>"
            ]
          },
          "metadata": {},
          "execution_count": 257
        }
      ],
      "source": [
        "# Train the model on your training data. \n",
        "\n",
        "reg_pipe.fit(X_train_processed, y_train)\n",
        "reg_tree_pipe.fit(X_train_processed, y_train)\n",
        "bagreg_pipe.fit(X_train_processed, y_train)"
      ]
    },
    {
      "cell_type": "code",
      "execution_count": 258,
      "metadata": {
        "id": "THTR6406afFO"
      },
      "outputs": [],
      "source": [
        "# Predict using Linear Regression pipeline\n",
        "y_regpred_test = reg_pipe.predict(X_test_processed)\n",
        "y_regpred_train = reg_pipe.predict(X_train_processed)"
      ]
    },
    {
      "cell_type": "code",
      "source": [
        "#  Predict using Tree Regression pipeline\n",
        "y_regtree_pred_test = reg_tree_pipe.predict(X_test_processed)\n",
        "y_regtree_pred_train = reg_tree_pipe.predict(X_train_processed)"
      ],
      "metadata": {
        "id": "ESDKvDzVLeq6"
      },
      "execution_count": 259,
      "outputs": []
    },
    {
      "cell_type": "code",
      "source": [
        "# # Predict using Bagging Regression pipeline\n",
        "y_regbag_pred_test = bagreg_pipe.predict(X_test_processed)\n",
        "y_regbag_pred_train = bagreg_pipe.predict(X_train_processed)"
      ],
      "metadata": {
        "id": "wt0g70wUPLSw"
      },
      "execution_count": 260,
      "outputs": []
    },
    {
      "cell_type": "code",
      "source": [
        "# Let's perform metrics to measure performance of the 3 models\n",
        "\n",
        "#  Line regression , bagging regression and tree regression"
      ],
      "metadata": {
        "id": "CUSkxw2oTFaA"
      },
      "execution_count": null,
      "outputs": []
    },
    {
      "cell_type": "code",
      "source": [
        "# Let's do R2 score Metric on Line Regression\n",
        "\n",
        "from sklearn.metrics import r2_score, mean_absolute_error, mean_squared_error\n",
        "train_r2 = r2_score(y_train, y_regpred_train)\n",
        "test_r2 = r2_score(y_test, y_regpred_test)\n",
        "\n",
        "print('Line Regression Score on Training Set', train_r2)\n",
        "print('Line Regression Score on Test Set', test_r2,)\n",
        "print('\\n')\n",
        "print(f'Therefore the score on Training set is: {train_r2*100} % and {test_r2*100} % on Test the set')"
      ],
      "metadata": {
        "colab": {
          "base_uri": "https://localhost:8080/"
        },
        "id": "eBbsO00HWGWl",
        "outputId": "4d6c21ae-cb94-40f8-8cd4-e4be4e15183a"
      },
      "execution_count": 261,
      "outputs": [
        {
          "output_type": "stream",
          "name": "stdout",
          "text": [
            "Line Regression Score on Training Set 0.5965292018108928\n",
            "Line Regression Score on Test Set 0.49637421957118544\n",
            "\n",
            "\n",
            "Therefore the score on Training set is: 59.65292018108927 % and 49.63742195711854 % on Test the set\n"
          ]
        }
      ]
    },
    {
      "cell_type": "code",
      "source": [
        "# Let's do R2 score metric on Bagging Regression\n",
        "\n",
        "trainb_r2 = r2_score(y_train, y_regbag_pred_train)\n",
        "testb_r2 = r2_score(y_test, y_regbag_pred_test)\n",
        "\n",
        "print('Line Regression Score on Training Set', trainb_r2)\n",
        "print('Line Regression Score on Test Set', testb_r2,)\n",
        "print('\\n')\n",
        "print(f'Therefore the score on Training set is: {trainb_r2*100} % and {testb_r2*100} % on Test the set')"
      ],
      "metadata": {
        "colab": {
          "base_uri": "https://localhost:8080/"
        },
        "id": "oS3V9vNjZ5C2",
        "outputId": "6437488e-fbe1-49a2-acae-f562941560c7"
      },
      "execution_count": 262,
      "outputs": [
        {
          "output_type": "stream",
          "name": "stdout",
          "text": [
            "Line Regression Score on Training Set 0.405306349886032\n",
            "Line Regression Score on Test Set 0.36414008509036633\n",
            "\n",
            "\n",
            "Therefore the score on Training set is: 40.5306349886032 % and 36.414008509036634 % on Test the set\n"
          ]
        }
      ]
    },
    {
      "cell_type": "code",
      "source": [
        "# Let's do R2 score Metric on Line Regression\n",
        "\n",
        "train_r2_tree = r2_score(y_train, y_regtree_pred_train)\n",
        "test_r2_tree = r2_score(y_test, y_regtree_pred_test)\n",
        "\n",
        "print('Line Regression Score on Training Set', train_r2)\n",
        "print('Line Regression Score on Test Set', test_r2,)\n",
        "print('\\n')\n",
        "print(f'Therefore the score on Training set is: {train_r2_tree*100} % and {test_r2_tree*100} % on Test the set')"
      ],
      "metadata": {
        "colab": {
          "base_uri": "https://localhost:8080/"
        },
        "id": "lLtAGn2Ta2ro",
        "outputId": "3b4e7d00-38f7-4f09-d718-3bb0a2c040ef"
      },
      "execution_count": 263,
      "outputs": [
        {
          "output_type": "stream",
          "name": "stdout",
          "text": [
            "Line Regression Score on Training Set 0.5965292018108928\n",
            "Line Regression Score on Test Set 0.49637421957118544\n",
            "\n",
            "\n",
            "Therefore the score on Training set is: 58.898200141127276 % and 27.369563649189566 % on Test the set\n"
          ]
        }
      ]
    },
    {
      "cell_type": "code",
      "source": [
        "# Choose your \"production\" model and justify this decision\n",
        "\n",
        "# I choose Line Regression model \n",
        "# The Reason is as it performs better when it comes to prediction on both training and test R2 Scores\n",
        "# Compared to Bagging Regression and Tree Regression models"
      ],
      "metadata": {
        "id": "H7wrr7uucbxh"
      },
      "execution_count": null,
      "outputs": []
    },
    {
      "cell_type": "code",
      "execution_count": 266,
      "metadata": {
        "colab": {
          "base_uri": "https://localhost:8080/",
          "height": 569
        },
        "id": "Q6FxsqWUprRW",
        "outputId": "0f401493-4b3d-442a-a2a9-4670128b8e09"
      },
      "outputs": [
        {
          "output_type": "execute_result",
          "data": {
            "text/plain": [
              "Text(0.5, 1.0, 'A Bar Plot showing Number of Alcohol Related Deaths')"
            ]
          },
          "metadata": {},
          "execution_count": 266
        },
        {
          "output_type": "display_data",
          "data": {
            "text/plain": [
              "<Figure size 432x288 with 1 Axes>"
            ],
            "image/png": "[encoded data removed]"
          },
          "metadata": {
            "needs_background": "light"
          }
        }
      ],
      "source": [
        "# Univariate plot for Cause_of_Death_ID \n",
        "# https://www.kaggle.com/code/residentmario/univariate-plotting-with-pandas\n",
        "df['Cause_of_Death'].value_counts().head(30).plot.bar()\n",
        "# plt.title(\"A Plot showing Number of Alcohol Related Deaths\")\n",
        "plt.title(label=\"A Bar Plot showing Number of Alcohol Related Deaths\",\n",
        "          fontsize=20,\n",
        "          color=\"blue\")"
      ]
    },
    {
      "cell_type": "code",
      "source": [
        "X_train_processed.dtypes"
      ],
      "metadata": {
        "colab": {
          "base_uri": "https://localhost:8080/"
        },
        "id": "x8eoqp82xCRn",
        "outputId": "a0a8e424-e5f9-4a68-980e-d6cf71f255b1"
      },
      "execution_count": 290,
      "outputs": [
        {
          "output_type": "execute_result",
          "data": {
            "text/plain": [
              "ConditionType                                  int64\n",
              "ConsumptionPattern                             int64\n",
              "AgeGroup                                       int64\n",
              "Associated_AAD_YPLL_Years _2015-2019         float64\n",
              "Category_100% Alcohol-Attributable           float64\n",
              "Category_Alcohol-Related Poisonings          float64\n",
              "Category_Cancer                              float64\n",
              "Category_Coronary heart disease              float64\n",
              "Category_Heart Disease and Stroke            float64\n",
              "Category_Liver, Gallbladder, and Pancreas    float64\n",
              "Category_Motor Vehicle Traffic Crashes       float64\n",
              "Category_Other Acute Causes                  float64\n",
              "Category_Other Chronic Causes                float64\n",
              "Category_Suicide                             float64\n",
              "Sex_Female                                   float64\n",
              "Sex_Male                                     float64\n",
              "dtype: object"
            ]
          },
          "metadata": {},
          "execution_count": 290
        }
      ]
    },
    {
      "cell_type": "code",
      "source": [
        "X_train_processed"
      ],
      "metadata": {
        "colab": {
          "base_uri": "https://localhost:8080/",
          "height": 540
        },
        "id": "dd40hQ630BN9",
        "outputId": "c6cdb91f-451c-478a-a74c-c94219242cb2"
      },
      "execution_count": 295,
      "outputs": [
        {
          "output_type": "execute_result",
          "data": {
            "text/plain": [
              "     ConditionType  ConsumptionPattern  AgeGroup  \\\n",
              "0                0                   0         0   \n",
              "1                1                   1         0   \n",
              "2                1                   1         0   \n",
              "3                1                   0         0   \n",
              "4                1                   0         0   \n",
              "..             ...                 ...       ...   \n",
              "206              0                   1         2   \n",
              "207              1                   0         0   \n",
              "208              1                   1         0   \n",
              "209              1                   1         0   \n",
              "210              1                   1         0   \n",
              "\n",
              "     Associated_AAD_YPLL_Years _2015-2019  Category_100% Alcohol-Attributable  \\\n",
              "0                                     1.0                                 0.0   \n",
              "1                                     1.0                                 1.0   \n",
              "2                                     1.0                                 1.0   \n",
              "3                                     1.0                                 0.0   \n",
              "4                                     1.0                                 1.0   \n",
              "..                                    ...                                 ...   \n",
              "206                                   1.0                                 0.0   \n",
              "207                                   1.0                                 1.0   \n",
              "208                                   1.0                                 1.0   \n",
              "209                                   1.0                                 0.0   \n",
              "210                                   1.0                                 0.0   \n",
              "\n",
              "     Category_Alcohol-Related Poisonings  Category_Cancer  \\\n",
              "0                                    1.0              0.0   \n",
              "1                                    0.0              0.0   \n",
              "2                                    0.0              0.0   \n",
              "3                                    0.0              0.0   \n",
              "4                                    0.0              0.0   \n",
              "..                                   ...              ...   \n",
              "206                                  0.0              0.0   \n",
              "207                                  0.0              0.0   \n",
              "208                                  0.0              0.0   \n",
              "209                                  0.0              0.0   \n",
              "210                                  0.0              1.0   \n",
              "\n",
              "     Category_Coronary heart disease  Category_Heart Disease and Stroke  \\\n",
              "0                                0.0                                0.0   \n",
              "1                                0.0                                0.0   \n",
              "2                                0.0                                0.0   \n",
              "3                                0.0                                0.0   \n",
              "4                                0.0                                0.0   \n",
              "..                               ...                                ...   \n",
              "206                              0.0                                0.0   \n",
              "207                              0.0                                0.0   \n",
              "208                              0.0                                0.0   \n",
              "209                              1.0                                0.0   \n",
              "210                              0.0                                0.0   \n",
              "\n",
              "     Category_Liver, Gallbladder, and Pancreas  \\\n",
              "0                                          0.0   \n",
              "1                                          0.0   \n",
              "2                                          0.0   \n",
              "3                                          0.0   \n",
              "4                                          0.0   \n",
              "..                                         ...   \n",
              "206                                        0.0   \n",
              "207                                        0.0   \n",
              "208                                        0.0   \n",
              "209                                        0.0   \n",
              "210                                        0.0   \n",
              "\n",
              "     Category_Motor Vehicle Traffic Crashes  Category_Other Acute Causes  \\\n",
              "0                                       0.0                          0.0   \n",
              "1                                       0.0                          0.0   \n",
              "2                                       0.0                          0.0   \n",
              "3                                       0.0                          0.0   \n",
              "4                                       0.0                          0.0   \n",
              "..                                      ...                          ...   \n",
              "206                                     1.0                          0.0   \n",
              "207                                     0.0                          0.0   \n",
              "208                                     0.0                          0.0   \n",
              "209                                     0.0                          0.0   \n",
              "210                                     0.0                          0.0   \n",
              "\n",
              "     Category_Other Chronic Causes  Category_Suicide  Sex_Female  Sex_Male  \n",
              "0                              0.0               0.0         1.0       0.0  \n",
              "1                              0.0               0.0         0.0       1.0  \n",
              "2                              0.0               0.0         1.0       0.0  \n",
              "3                              1.0               0.0         0.0       1.0  \n",
              "4                              0.0               0.0         1.0       0.0  \n",
              "..                             ...               ...         ...       ...  \n",
              "206                            0.0               0.0         1.0       0.0  \n",
              "207                            0.0               0.0         1.0       0.0  \n",
              "208                            0.0               0.0         0.0       1.0  \n",
              "209                            0.0               0.0         1.0       0.0  \n",
              "210                            0.0               0.0         0.0       1.0  \n",
              "\n",
              "[211 rows x 16 columns]"
            ],
            "text/html": [
              "\n",
              "  <div id=\"df-096c4b2a-803a-431b-ac45-01edfffb6137\">\n",
              "    <div class=\"colab-df-container\">\n",
              "      <div>\n",
              "<style scoped>\n",
              "    .dataframe tbody tr th:only-of-type {\n",
              "        vertical-align: middle;\n",
              "    }\n",
              "\n",
              "    .dataframe tbody tr th {\n",
              "        vertical-align: top;\n",
              "    }\n",
              "\n",
              "    .dataframe thead th {\n",
              "        text-align: right;\n",
              "    }\n",
              "</style>\n",
              "<table border=\"1\" class=\"dataframe\">\n",
              "  <thead>\n",
              "    <tr style=\"text-align: right;\">\n",
              "      <th></th>\n",
              "      <th>ConditionType</th>\n",
              "      <th>ConsumptionPattern</th>\n",
              "      <th>AgeGroup</th>\n",
              "      <th>Associated_AAD_YPLL_Years _2015-2019</th>\n",
              "      <th>Category_100% Alcohol-Attributable</th>\n",
              "      <th>Category_Alcohol-Related Poisonings</th>\n",
              "      <th>Category_Cancer</th>\n",
              "      <th>Category_Coronary heart disease</th>\n",
              "      <th>Category_Heart Disease and Stroke</th>\n",
              "      <th>Category_Liver, Gallbladder, and Pancreas</th>\n",
              "      <th>Category_Motor Vehicle Traffic Crashes</th>\n",
              "      <th>Category_Other Acute Causes</th>\n",
              "      <th>Category_Other Chronic Causes</th>\n",
              "      <th>Category_Suicide</th>\n",
              "      <th>Sex_Female</th>\n",
              "      <th>Sex_Male</th>\n",
              "    </tr>\n",
              "  </thead>\n",
              "  <tbody>\n",
              "    <tr>\n",
              "      <th>0</th>\n",
              "      <td>0</td>\n",
              "      <td>0</td>\n",
              "      <td>0</td>\n",
              "      <td>1.0</td>\n",
              "      <td>0.0</td>\n",
              "      <td>1.0</td>\n",
              "      <td>0.0</td>\n",
              "      <td>0.0</td>\n",
              "      <td>0.0</td>\n",
              "      <td>0.0</td>\n",
              "      <td>0.0</td>\n",
              "      <td>0.0</td>\n",
              "      <td>0.0</td>\n",
              "      <td>0.0</td>\n",
              "      <td>1.0</td>\n",
              "      <td>0.0</td>\n",
              "    </tr>\n",
              "    <tr>\n",
              "      <th>1</th>\n",
              "      <td>1</td>\n",
              "      <td>1</td>\n",
              "      <td>0</td>\n",
              "      <td>1.0</td>\n",
              "      <td>1.0</td>\n",
              "      <td>0.0</td>\n",
              "      <td>0.0</td>\n",
              "      <td>0.0</td>\n",
              "      <td>0.0</td>\n",
              "      <td>0.0</td>\n",
              "      <td>0.0</td>\n",
              "      <td>0.0</td>\n",
              "      <td>0.0</td>\n",
              "      <td>0.0</td>\n",
              "      <td>0.0</td>\n",
              "      <td>1.0</td>\n",
              "    </tr>\n",
              "    <tr>\n",
              "      <th>2</th>\n",
              "      <td>1</td>\n",
              "      <td>1</td>\n",
              "      <td>0</td>\n",
              "      <td>1.0</td>\n",
              "      <td>1.0</td>\n",
              "      <td>0.0</td>\n",
              "      <td>0.0</td>\n",
              "      <td>0.0</td>\n",
              "      <td>0.0</td>\n",
              "      <td>0.0</td>\n",
              "      <td>0.0</td>\n",
              "      <td>0.0</td>\n",
              "      <td>0.0</td>\n",
              "      <td>0.0</td>\n",
              "      <td>1.0</td>\n",
              "      <td>0.0</td>\n",
              "    </tr>\n",
              "    <tr>\n",
              "      <th>3</th>\n",
              "      <td>1</td>\n",
              "      <td>0</td>\n",
              "      <td>0</td>\n",
              "      <td>1.0</td>\n",
              "      <td>0.0</td>\n",
              "      <td>0.0</td>\n",
              "      <td>0.0</td>\n",
              "      <td>0.0</td>\n",
              "      <td>0.0</td>\n",
              "      <td>0.0</td>\n",
              "      <td>0.0</td>\n",
              "      <td>0.0</td>\n",
              "      <td>1.0</td>\n",
              "      <td>0.0</td>\n",
              "      <td>0.0</td>\n",
              "      <td>1.0</td>\n",
              "    </tr>\n",
              "    <tr>\n",
              "      <th>4</th>\n",
              "      <td>1</td>\n",
              "      <td>0</td>\n",
              "      <td>0</td>\n",
              "      <td>1.0</td>\n",
              "      <td>1.0</td>\n",
              "      <td>0.0</td>\n",
              "      <td>0.0</td>\n",
              "      <td>0.0</td>\n",
              "      <td>0.0</td>\n",
              "      <td>0.0</td>\n",
              "      <td>0.0</td>\n",
              "      <td>0.0</td>\n",
              "      <td>0.0</td>\n",
              "      <td>0.0</td>\n",
              "      <td>1.0</td>\n",
              "      <td>0.0</td>\n",
              "    </tr>\n",
              "    <tr>\n",
              "      <th>...</th>\n",
              "      <td>...</td>\n",
              "      <td>...</td>\n",
              "      <td>...</td>\n",
              "      <td>...</td>\n",
              "      <td>...</td>\n",
              "      <td>...</td>\n",
              "      <td>...</td>\n",
              "      <td>...</td>\n",
              "      <td>...</td>\n",
              "      <td>...</td>\n",
              "      <td>...</td>\n",
              "      <td>...</td>\n",
              "      <td>...</td>\n",
              "      <td>...</td>\n",
              "      <td>...</td>\n",
              "      <td>...</td>\n",
              "    </tr>\n",
              "    <tr>\n",
              "      <th>206</th>\n",
              "      <td>0</td>\n",
              "      <td>1</td>\n",
              "      <td>2</td>\n",
              "      <td>1.0</td>\n",
              "      <td>0.0</td>\n",
              "      <td>0.0</td>\n",
              "      <td>0.0</td>\n",
              "      <td>0.0</td>\n",
              "      <td>0.0</td>\n",
              "      <td>0.0</td>\n",
              "      <td>1.0</td>\n",
              "      <td>0.0</td>\n",
              "      <td>0.0</td>\n",
              "      <td>0.0</td>\n",
              "      <td>1.0</td>\n",
              "      <td>0.0</td>\n",
              "    </tr>\n",
              "    <tr>\n",
              "      <th>207</th>\n",
              "      <td>1</td>\n",
              "      <td>0</td>\n",
              "      <td>0</td>\n",
              "      <td>1.0</td>\n",
              "      <td>1.0</td>\n",
              "      <td>0.0</td>\n",
              "      <td>0.0</td>\n",
              "      <td>0.0</td>\n",
              "      <td>0.0</td>\n",
              "      <td>0.0</td>\n",
              "      <td>0.0</td>\n",
              "      <td>0.0</td>\n",
              "      <td>0.0</td>\n",
              "      <td>0.0</td>\n",
              "      <td>1.0</td>\n",
              "      <td>0.0</td>\n",
              "    </tr>\n",
              "    <tr>\n",
              "      <th>208</th>\n",
              "      <td>1</td>\n",
              "      <td>1</td>\n",
              "      <td>0</td>\n",
              "      <td>1.0</td>\n",
              "      <td>1.0</td>\n",
              "      <td>0.0</td>\n",
              "      <td>0.0</td>\n",
              "      <td>0.0</td>\n",
              "      <td>0.0</td>\n",
              "      <td>0.0</td>\n",
              "      <td>0.0</td>\n",
              "      <td>0.0</td>\n",
              "      <td>0.0</td>\n",
              "      <td>0.0</td>\n",
              "      <td>0.0</td>\n",
              "      <td>1.0</td>\n",
              "    </tr>\n",
              "    <tr>\n",
              "      <th>209</th>\n",
              "      <td>1</td>\n",
              "      <td>1</td>\n",
              "      <td>0</td>\n",
              "      <td>1.0</td>\n",
              "      <td>0.0</td>\n",
              "      <td>0.0</td>\n",
              "      <td>0.0</td>\n",
              "      <td>1.0</td>\n",
              "      <td>0.0</td>\n",
              "      <td>0.0</td>\n",
              "      <td>0.0</td>\n",
              "      <td>0.0</td>\n",
              "      <td>0.0</td>\n",
              "      <td>0.0</td>\n",
              "      <td>1.0</td>\n",
              "      <td>0.0</td>\n",
              "    </tr>\n",
              "    <tr>\n",
              "      <th>210</th>\n",
              "      <td>1</td>\n",
              "      <td>1</td>\n",
              "      <td>0</td>\n",
              "      <td>1.0</td>\n",
              "      <td>0.0</td>\n",
              "      <td>0.0</td>\n",
              "      <td>1.0</td>\n",
              "      <td>0.0</td>\n",
              "      <td>0.0</td>\n",
              "      <td>0.0</td>\n",
              "      <td>0.0</td>\n",
              "      <td>0.0</td>\n",
              "      <td>0.0</td>\n",
              "      <td>0.0</td>\n",
              "      <td>0.0</td>\n",
              "      <td>1.0</td>\n",
              "    </tr>\n",
              "  </tbody>\n",
              "</table>\n",
              "<p>211 rows × 16 columns</p>\n",
              "</div>\n",
              "      <button class=\"colab-df-convert\" onclick=\"convertToInteractive('df-096c4b2a-803a-431b-ac45-01edfffb6137')\"\n",
              "              title=\"Convert this dataframe to an interactive table.\"\n",
              "              style=\"display:none;\">\n",
              "        \n",
              "  <svg xmlns=\"http://www.w3.org/2000/svg\" height=\"24px\"viewBox=\"0 0 24 24\"\n",
              "       width=\"24px\">\n",
              "    <path d=\"M0 0h24v24H0V0z\" fill=\"none\"/>\n",
              "    <path d=\"M18.56 5.44l.94 2.06.94-2.06 2.06-.94-2.06-.94-.94-2.06-.94 2.06-2.06.94zm-11 1L8.5 8.5l.94-2.06 2.06-.94-2.06-.94L8.5 2.5l-.94 2.06-2.06.94zm10 10l.94 2.06.94-2.06 2.06-.94-2.06-.94-.94-2.06-.94 2.06-2.06.94z\"/><path d=\"M17.41 7.96l-1.37-1.37c-.4-.4-.92-.59-1.43-.59-.52 0-1.04.2-1.43.59L10.3 9.45l-7.72 7.72c-.78.78-.78 2.05 0 2.83L4 21.41c.39.39.9.59 1.41.59.51 0 1.02-.2 1.41-.59l7.78-7.78 2.81-2.81c.8-.78.8-2.07 0-2.86zM5.41 20L4 18.59l7.72-7.72 1.47 1.35L5.41 20z\"/>\n",
              "  </svg>\n",
              "      </button>\n",
              "      \n",
              "  <style>\n",
              "    .colab-df-container {\n",
              "      display:flex;\n",
              "      flex-wrap:wrap;\n",
              "      gap: 12px;\n",
              "    }\n",
              "\n",
              "    .colab-df-convert {\n",
              "      background-color: #E8F0FE;\n",
              "      border: none;\n",
              "      border-radius: 50%;\n",
              "      cursor: pointer;\n",
              "      display: none;\n",
              "      fill: #1967D2;\n",
              "      height: 32px;\n",
              "      padding: 0 0 0 0;\n",
              "      width: 32px;\n",
              "    }\n",
              "\n",
              "    .colab-df-convert:hover {\n",
              "      background-color: #E2EBFA;\n",
              "      box-shadow: 0px 1px 2px rgba(60, 64, 67, 0.3), 0px 1px 3px 1px rgba(60, 64, 67, 0.15);\n",
              "      fill: #174EA6;\n",
              "    }\n",
              "\n",
              "    [theme=dark] .colab-df-convert {\n",
              "      background-color: #3B4455;\n",
              "      fill: #D2E3FC;\n",
              "    }\n",
              "\n",
              "    [theme=dark] .colab-df-convert:hover {\n",
              "      background-color: #434B5C;\n",
              "      box-shadow: 0px 1px 3px 1px rgba(0, 0, 0, 0.15);\n",
              "      filter: drop-shadow(0px 1px 2px rgba(0, 0, 0, 0.3));\n",
              "      fill: #FFFFFF;\n",
              "    }\n",
              "  </style>\n",
              "\n",
              "      <script>\n",
              "        const buttonEl =\n",
              "          document.querySelector('#df-096c4b2a-803a-431b-ac45-01edfffb6137 button.colab-df-convert');\n",
              "        buttonEl.style.display =\n",
              "          google.colab.kernel.accessAllowed ? 'block' : 'none';\n",
              "\n",
              "        async function convertToInteractive(key) {\n",
              "          const element = document.querySelector('#df-096c4b2a-803a-431b-ac45-01edfffb6137');\n",
              "          const dataTable =\n",
              "            await google.colab.kernel.invokeFunction('convertToInteractive',\n",
              "                                                     [key], {});\n",
              "          if (!dataTable) return;\n",
              "\n",
              "          const docLinkHtml = 'Like what you see? Visit the ' +\n",
              "            '<a target=\"_blank\" href=https://colab.research.google.com/notebooks/data_table.ipynb>data table notebook</a>'\n",
              "            + ' to learn more about interactive tables.';\n",
              "          element.innerHTML = '';\n",
              "          dataTable['output_type'] = 'display_data';\n",
              "          await google.colab.output.renderOutput(dataTable, element);\n",
              "          const docLink = document.createElement('div');\n",
              "          docLink.innerHTML = docLinkHtml;\n",
              "          element.appendChild(docLink);\n",
              "        }\n",
              "      </script>\n",
              "    </div>\n",
              "  </div>\n",
              "  "
            ]
          },
          "metadata": {},
          "execution_count": 295
        }
      ]
    },
    {
      "cell_type": "code",
      "source": [
        "X_train_processed.dtypes"
      ],
      "metadata": {
        "colab": {
          "base_uri": "https://localhost:8080/"
        },
        "id": "N8Od17650PZu",
        "outputId": "1109c074-646b-4640-fe38-4354b418fcec"
      },
      "execution_count": 303,
      "outputs": [
        {
          "output_type": "execute_result",
          "data": {
            "text/plain": [
              "ConditionType                                  int64\n",
              "ConsumptionPattern                             int64\n",
              "AgeGroup                                       int64\n",
              "Associated_AAD_YPLL_Years _2015-2019         float64\n",
              "Category_100% Alcohol-Attributable           float64\n",
              "Category_Alcohol-Related Poisonings          float64\n",
              "Category_Cancer                              float64\n",
              "Category_Coronary heart disease              float64\n",
              "Category_Heart Disease and Stroke            float64\n",
              "Category_Liver, Gallbladder, and Pancreas    float64\n",
              "Category_Motor Vehicle Traffic Crashes       float64\n",
              "Category_Other Acute Causes                  float64\n",
              "Category_Other Chronic Causes                float64\n",
              "Category_Suicide                             float64\n",
              "Sex_Female                                   float64\n",
              "Sex_Male                                     float64\n",
              "dtype: object"
            ]
          },
          "metadata": {},
          "execution_count": 303
        }
      ]
    },
    {
      "cell_type": "code",
      "source": [
        "\n",
        "sns.pointplot(data=X_train_processed, x=\"Category_Alcohol-Related Poisonings\", y=y_train).set(title='Relationship between Cause of Death and Alcohol Related Poisoning')\n"
      ],
      "metadata": {
        "colab": {
          "base_uri": "https://localhost:8080/",
          "height": 318
        },
        "id": "gXtyJeNCsbm5",
        "outputId": "29ca7024-e8ad-4c5f-c7c7-73c8cde3fd4d"
      },
      "execution_count": 363,
      "outputs": [
        {
          "output_type": "execute_result",
          "data": {
            "text/plain": [
              "[Text(0.5, 1.0, 'Relationship between Cause of Death and Alcohol Related Poisoning')]"
            ]
          },
          "metadata": {},
          "execution_count": 363
        },
        {
          "output_type": "display_data",
          "data": {
            "text/plain": [
              "<Figure size 432x288 with 1 Axes>"
            ],
            "image/png": "[encoded data removed]"
          },
          "metadata": {}
        }
      ]
    },
    {
      "cell_type": "markdown",
      "source": [
        "Deductions from the Graph.\n",
        "\n",
        "Their is a direct / linear relationship between Alchohol related poisonings and the actual cause of death among the people.In otherwords, as Alchohol related poisonings increase , so do the number of deaths"
      ],
      "metadata": {
        "id": "ImF0qFsGR32t"
      }
    },
    {
      "cell_type": "code",
      "source": [
        "X_train.dtypes"
      ],
      "metadata": {
        "colab": {
          "base_uri": "https://localhost:8080/"
        },
        "id": "d7Wvnw3hLr7U",
        "outputId": "1b8160cb-6765-4f06-f3ad-f72ee7535d94"
      },
      "execution_count": 356,
      "outputs": [
        {
          "output_type": "execute_result",
          "data": {
            "text/plain": [
              "Associated_AAD_YPLL_Years     object\n",
              "ConditionType                  int64\n",
              "Category                      object\n",
              "ConsumptionPattern             int64\n",
              "Sex                           object\n",
              "AgeGroup                       int64\n",
              "dtype: object"
            ]
          },
          "metadata": {},
          "execution_count": 356
        }
      ]
    },
    {
      "cell_type": "markdown",
      "metadata": {
        "id": "yWZubrbihw1C"
      },
      "source": []
    },
    {
      "cell_type": "markdown",
      "source": [
        "Deductions from the Bar Graph.\n",
        "\n",
        "1. There major cause of Alcohol Related Death are Traffic Accidents at a value of around 1650 for the period of 2015-2019 \t\n",
        "\n",
        "2. The Second major Cause of Alcohol Attributable death is Coronary Heart Disease at a value of around 400 for the period of 2015-2019 \t\n",
        "\n",
        "3. The Rest of Causes of Alcohol Related Deaths are generally average at around 200 deaths for the period of 2015-2019 \t"
      ],
      "metadata": {
        "id": "8mluTZMZsvnh"
      }
    },
    {
      "cell_type": "code",
      "source": [
        "# Plot outputs\n",
        "import matplotlib.pyplot as plt\n",
        "import seaborn as sns\n",
        "\n",
        "sns.histplot(y=X_train['Category'], stat=\"percent\",kde=True).set(title='Perctenages of Category of Alcohol Related Deaths')\n"
      ],
      "metadata": {
        "colab": {
          "base_uri": "https://localhost:8080/",
          "height": 312
        },
        "id": "9bqeMRNcCqRb",
        "outputId": "fb6cb3eb-1d46-4ef5-da24-2b19ce83953c"
      },
      "execution_count": 220,
      "outputs": [
        {
          "output_type": "execute_result",
          "data": {
            "text/plain": [
              "[Text(0.5, 1.0, 'Perctenages of Category of Alcohol Related Deaths')]"
            ]
          },
          "metadata": {},
          "execution_count": 220
        },
        {
          "output_type": "display_data",
          "data": {
            "text/plain": [
              "<Figure size 432x288 with 1 Axes>"
            ],
            "image/png": "[encoded data removed]"
          },
          "metadata": {
            "needs_background": "light"
          }
        }
      ]
    },
    {
      "cell_type": "markdown",
      "source": [
        "Deductions from the Graph\n",
        "\n",
        "1. There are 10 categories of Alcohol related death in this use case\n",
        "\n",
        "2. The categories with the highest percentage of Alcohol related deaths are Other Acute Causes with around 20% and 100% Alcohol Attributable Causes with around 19% of all deaths.\n",
        "\n",
        "3. Motor Vehicle Traffic Crashes and Other Chronic causes are average causes alcohol related deaths. Liver , Gallbladder and Pancreas too join are slightly average (10 to 11%) as alcohol related death causers.\n",
        "\n",
        "4. Alcohol-Related Poisonings, Suicide, and Coronary Heart Disease are the least causes of Alcohol Attributable Deaths,with percentages of roughly 2.5%, 3.0% and 1.7% respectively"
      ],
      "metadata": {
        "id": "u7yiaUzNMnhh"
      }
    },
    {
      "cell_type": "code",
      "source": [
        "#  Update your project readme and describe your final model,\n",
        "#  your final model evaluation metrics, and explain whether \n",
        "#  or not your model would be useful in production and if so, how it should be used.\n",
        "\n",
        "# train_r2 = r2_score(y_train, y_regpred_train)\n",
        "# test_r2 = r2_score(y_test, y_regpred_test)\n",
        "\n",
        "train_ME = mean_absolute_error(y_train, y_regpred_train)\n",
        "test_ME = mean_absolute_error(y_test, y_regpred_test)\n",
        "\n",
        "# Mean squared Error\n",
        "\n",
        "\n",
        "train_MSE = mean_squared_error(y_train, y_regpred_train)\n",
        "test_MSE = mean_squared_error(y_test, y_regpred_test)\n",
        "\n",
        "print('Mean Absolute Error on Training Set', train_ME)\n",
        "print('Mean Absolute Error on Test Set', test_ME,)\n",
        "print('\\n')\n",
        "print('Mean Squared Error on Training Set', train_MSE)\n",
        "print('Mean Squared Error on Test Set', test_MSE,)\n",
        "print('\\n')\n",
        "print(f'Therefore the score on Training set is: {train_r2*100} % and {test_r2*100} % on Test the set')\n",
        "\n",
        "# From our metrics Both Mean Absolute Errors and Mean Squared Errors are not Proportionally \n",
        "# large when the model is use to predict on our training and test sets, there it's performance is sligtly above average\n",
        "\n",
        "# Looking at our R2 scoreson both Train and Test sets is 59.6% and 49.6% , is slightly average.\n",
        "# Therefore our Line Regression model comes out as the best, though it has an average and not a near to execellent performance\n",
        "\n",
        "# CONCLUSION, Looking at our choice of models, Line, Bagging and Tree Regressors, \n",
        "# Line Regression comes out as the Best for deployment to prodcution because or minimun errors and an average R2 Score\n",
        "# There could ofcourse be better options than these, basing on other factors like hyperparameter tuning.\n"
      ],
      "metadata": {
        "colab": {
          "base_uri": "https://localhost:8080/"
        },
        "id": "HN5ypuUNUGZw",
        "outputId": "8f506645-ee1d-4f96-8ad7-18f1d31071e2"
      },
      "execution_count": 230,
      "outputs": [
        {
          "output_type": "stream",
          "name": "stdout",
          "text": [
            "Mean Absolute Error on Training Set 7.166527067567773\n",
            "Mean Absolute Error on Test Set 7.957065027392837\n",
            "\n",
            "\n",
            "Mean Squared Error on Training Set 108.43666708407845\n",
            "Mean Squared Error on Test Set 136.50141195257936\n",
            "\n",
            "\n",
            "Therefore the score on Training set is: 59.65292018108927 % and 49.63742195711854 % on Test the set\n"
          ]
        }
      ]
    }
  ],
  "metadata": {
    "colab": {
      "collapsed_sections": [],
      "provenance": [],
      "include_colab_link": true
    },
    "kernelspec": {
      "display_name": "Python 3",
      "name": "python3"
    },
    "language_info": {
      "name": "python"
    }
  },
  "nbformat": 4,
  "nbformat_minor": 0
}